{
 "cells": [
  {
   "cell_type": "markdown",
   "id": "3c3d5af0",
   "metadata": {},
   "source": [
    "# 1 - 영화 리뷰 데이터를 사용한 특성 벡터 실습"
   ]
  },
  {
   "cell_type": "code",
   "execution_count": 2,
   "id": "fe3cb5e9",
   "metadata": {},
   "outputs": [
    {
     "name": "stderr",
     "output_type": "stream",
     "text": [
      "[nltk_data] Downloading package movie_reviews to\n",
      "[nltk_data]     C:\\Users\\user\\AppData\\Roaming\\nltk_data...\n",
      "[nltk_data]   Unzipping corpora\\movie_reviews.zip.\n"
     ]
    }
   ],
   "source": [
    "import nltk\n",
    "nltk.download('movie_reviews')\n",
    "from nltk.corpus import movie_reviews"
   ]
  },
  {
   "cell_type": "markdown",
   "id": "872cc9c7",
   "metadata": {},
   "source": [
    "- fileids() : 영화리뷰 문서들의 id를 반환한다. 매개 변수 categories 를 사용하면 특성 분류에 속하는 문서들의 id만 가져올 수 있다.\n",
    "- categoreis() : 리뷰 문서들에 대한 분류, 라벨을 보여준다. 여기서는 감성을 표현하는 긍정('pos')와 부정('neg') 값을 갖는다.\n",
    "- raw() : 리뷰 문서의 원문을 문자열 리스트 형태로 반환한다. 인수로 fileid 를 주면 특성 문서만 가져올 수 있다."
   ]
  },
  {
   "cell_type": "code",
   "execution_count": 3,
   "id": "85bf1c27",
   "metadata": {},
   "outputs": [
    {
     "name": "stdout",
     "output_type": "stream",
     "text": [
      "리뷰의 수 : 2000\n"
     ]
    }
   ],
   "source": [
    "documents = [movie_reviews.raw(fileid) for fileid in movie_reviews.fileids()]\n",
    "print(\"리뷰의 수 :\", len(documents))"
   ]
  },
  {
   "cell_type": "markdown",
   "id": "547cf1e3",
   "metadata": {},
   "source": [
    "### sklearn 으로 카운트 벡터 생성\n",
    "- sklearn.feature_extraction : 텍스트로부터 특성을 추출하는 사이킷런 도구.\n",
    "- 이 중에 CountVectorizer 는 지금까지 설명한 카운트 기반 문서 표현에 사용되는 클래스이다."
   ]
  },
  {
   "cell_type": "code",
   "execution_count": 4,
   "id": "e8503d3f",
   "metadata": {},
   "outputs": [],
   "source": [
    "from sklearn.feature_extraction.text import CountVectorizer"
   ]
  },
  {
   "cell_type": "code",
   "execution_count": 7,
   "id": "af2429aa",
   "metadata": {},
   "outputs": [
    {
     "name": "stdout",
     "output_type": "stream",
     "text": [
      "['000' '10' '100' '13' '15' '1995' '1996' '1997' '1998' '1999']\n",
      "  (0, 1)\t10\n"
     ]
    }
   ],
   "source": [
    "cv = CountVectorizer(max_features = 2000, min_df = 5, max_df = 0.5)\n",
    "# 리뷰 문서에 대해서 fit_transform 적용\n",
    "reviews_cv = cv.fit_transform(documents)\n",
    "\n",
    "#특성 집합의 단어명을 앞에서부터 10개 출력\n",
    "print(cv.get_feature_names_out()[:10])\n",
    "\n",
    "#첫째 리뷰 문서의 앞 10개 특성을 출력\n",
    "print(reviews_cv[0, :10])\n"
   ]
  },
  {
   "cell_type": "code",
   "execution_count": 8,
   "id": "33bd82db",
   "metadata": {},
   "outputs": [
    {
     "name": "stdout",
     "output_type": "stream",
     "text": [
      "[[ 0 10  0  0  0]\n",
      " [ 0  0  0  0  0]\n",
      " [ 0  0  0  0  0]\n",
      " [ 0  0  0  0  0]\n",
      " [ 0  0  0  0  0]]\n"
     ]
    }
   ],
   "source": [
    "# 일반적인 행렬로 변환한 형태\n",
    "print(reviews_cv.toarray()[:5, :5]) # 5개 문서"
   ]
  },
  {
   "cell_type": "code",
   "execution_count": 9,
   "id": "f070cf29",
   "metadata": {},
   "outputs": [
    {
     "name": "stdout",
     "output_type": "stream",
     "text": [
      "  (0, 1)\t10\n"
     ]
    }
   ],
   "source": [
    "# 값이 있는 셀만 저장한 형태\n",
    "print(reviews_cv[:5, :5])"
   ]
  },
  {
   "cell_type": "markdown",
   "id": "93384882",
   "metadata": {},
   "source": [
    "# 한국어 텍스트의 카운트 벡터 변환"
   ]
  },
  {
   "cell_type": "code",
   "execution_count": 10,
   "id": "7ac75a5c",
   "metadata": {},
   "outputs": [],
   "source": [
    "import pandas as pd"
   ]
  },
  {
   "cell_type": "code",
   "execution_count": 11,
   "id": "c15da6f9",
   "metadata": {},
   "outputs": [
    {
     "data": {
      "text/html": [
       "<div>\n",
       "<style scoped>\n",
       "    .dataframe tbody tr th:only-of-type {\n",
       "        vertical-align: middle;\n",
       "    }\n",
       "\n",
       "    .dataframe tbody tr th {\n",
       "        vertical-align: top;\n",
       "    }\n",
       "\n",
       "    .dataframe thead th {\n",
       "        text-align: right;\n",
       "    }\n",
       "</style>\n",
       "<table border=\"1\" class=\"dataframe\">\n",
       "  <thead>\n",
       "    <tr style=\"text-align: right;\">\n",
       "      <th></th>\n",
       "      <th>review</th>\n",
       "      <th>rating</th>\n",
       "      <th>date</th>\n",
       "      <th>title</th>\n",
       "    </tr>\n",
       "  </thead>\n",
       "  <tbody>\n",
       "    <tr>\n",
       "      <th>0</th>\n",
       "      <td>돈 들인건 티가 나지만 보는 내내 하품만</td>\n",
       "      <td>1</td>\n",
       "      <td>2018.10.29</td>\n",
       "      <td>인피니티 워</td>\n",
       "    </tr>\n",
       "    <tr>\n",
       "      <th>1</th>\n",
       "      <td>몰입할수밖에 없다. 어렵게 생각할 필요없다. 내가 전투에 참여한듯 손에 땀이남.</td>\n",
       "      <td>10</td>\n",
       "      <td>2018.10.26</td>\n",
       "      <td>인피니티 워</td>\n",
       "    </tr>\n",
       "    <tr>\n",
       "      <th>2</th>\n",
       "      <td>이전 작품에 비해 더 화려하고 스케일도 커졌지만.... 전국 맛집의 음식들을 한데 ...</td>\n",
       "      <td>8</td>\n",
       "      <td>2018.10.24</td>\n",
       "      <td>인피니티 워</td>\n",
       "    </tr>\n",
       "    <tr>\n",
       "      <th>3</th>\n",
       "      <td>이 정도면 볼만하다고 할 수 있음!</td>\n",
       "      <td>8</td>\n",
       "      <td>2018.10.22</td>\n",
       "      <td>인피니티 워</td>\n",
       "    </tr>\n",
       "    <tr>\n",
       "      <th>4</th>\n",
       "      <td>재미있다</td>\n",
       "      <td>10</td>\n",
       "      <td>2018.10.20</td>\n",
       "      <td>인피니티 워</td>\n",
       "    </tr>\n",
       "    <tr>\n",
       "      <th>...</th>\n",
       "      <td>...</td>\n",
       "      <td>...</td>\n",
       "      <td>...</td>\n",
       "      <td>...</td>\n",
       "    </tr>\n",
       "    <tr>\n",
       "      <th>14720</th>\n",
       "      <td>어른들을 위한 동화    정말 오랜만에  좋은 애니를 보았습니다     가족의 소중...</td>\n",
       "      <td>10</td>\n",
       "      <td>2018.01.12</td>\n",
       "      <td>코코</td>\n",
       "    </tr>\n",
       "    <tr>\n",
       "      <th>14721</th>\n",
       "      <td>디즈니는 못해도 본전은 한다.</td>\n",
       "      <td>7</td>\n",
       "      <td>2018.01.12</td>\n",
       "      <td>코코</td>\n",
       "    </tr>\n",
       "    <tr>\n",
       "      <th>14722</th>\n",
       "      <td>가족을 위한 영화... 괜찮은 영화.~~~</td>\n",
       "      <td>8</td>\n",
       "      <td>2018.01.12</td>\n",
       "      <td>코코</td>\n",
       "    </tr>\n",
       "    <tr>\n",
       "      <th>14723</th>\n",
       "      <td>간만에 제대로 잘짜여진 각본의 영화를 봤네 여운이 아직도 남아~어른을 위한 애니~</td>\n",
       "      <td>10</td>\n",
       "      <td>2018.01.12</td>\n",
       "      <td>코코</td>\n",
       "    </tr>\n",
       "    <tr>\n",
       "      <th>14724</th>\n",
       "      <td>한국개봉을 눈빠지게 기다린 보람이있다 깨우치는게 많은 영화</td>\n",
       "      <td>10</td>\n",
       "      <td>2018.01.12</td>\n",
       "      <td>코코</td>\n",
       "    </tr>\n",
       "  </tbody>\n",
       "</table>\n",
       "<p>14725 rows × 4 columns</p>\n",
       "</div>"
      ],
      "text/plain": [
       "                                                  review  rating        date  \\\n",
       "0                                 돈 들인건 티가 나지만 보는 내내 하품만       1  2018.10.29   \n",
       "1           몰입할수밖에 없다. 어렵게 생각할 필요없다. 내가 전투에 참여한듯 손에 땀이남.      10  2018.10.26   \n",
       "2      이전 작품에 비해 더 화려하고 스케일도 커졌지만.... 전국 맛집의 음식들을 한데 ...       8  2018.10.24   \n",
       "3                                    이 정도면 볼만하다고 할 수 있음!       8  2018.10.22   \n",
       "4                                                   재미있다      10  2018.10.20   \n",
       "...                                                  ...     ...         ...   \n",
       "14720  어른들을 위한 동화    정말 오랜만에  좋은 애니를 보았습니다     가족의 소중...      10  2018.01.12   \n",
       "14721                                   디즈니는 못해도 본전은 한다.       7  2018.01.12   \n",
       "14722                            가족을 위한 영화... 괜찮은 영화.~~~       8  2018.01.12   \n",
       "14723      간만에 제대로 잘짜여진 각본의 영화를 봤네 여운이 아직도 남아~어른을 위한 애니~      10  2018.01.12   \n",
       "14724                   한국개봉을 눈빠지게 기다린 보람이있다 깨우치는게 많은 영화      10  2018.01.12   \n",
       "\n",
       "        title  \n",
       "0      인피니티 워  \n",
       "1      인피니티 워  \n",
       "2      인피니티 워  \n",
       "3      인피니티 워  \n",
       "4      인피니티 워  \n",
       "...       ...  \n",
       "14720      코코  \n",
       "14721      코코  \n",
       "14722      코코  \n",
       "14723      코코  \n",
       "14724      코코  \n",
       "\n",
       "[14725 rows x 4 columns]"
      ]
     },
     "execution_count": 11,
     "metadata": {},
     "output_type": "execute_result"
    }
   ],
   "source": [
    "df = pd.read_csv(\"./daum_movie_review.csv\")\n",
    "df"
   ]
  },
  {
   "cell_type": "code",
   "execution_count": 14,
   "id": "9c4e9f08",
   "metadata": {},
   "outputs": [],
   "source": [
    "from konlpy.tag import Okt"
   ]
  },
  {
   "cell_type": "code",
   "execution_count": 15,
   "id": "8d463bfb",
   "metadata": {},
   "outputs": [
    {
     "name": "stdout",
     "output_type": "stream",
     "text": [
      "my_tokenizer 결과 :  ['몰입', '할수밖에', '없다', '어렵게', '생각', '할', '필요없다', '내', '전투', '참여', '듯', '손', '땀', '이남']\n"
     ]
    }
   ],
   "source": [
    "okt = Okt()\n",
    "def my_tokenizer(doc) : # 트위터 형태소 분석기의 pos() 매서드 사용\n",
    "    return [token for token, pos in okt.pos(doc)\n",
    "           if pos in['Noun', 'Verb', 'Adjective']] # 명사, 동사, 형용사만을 변환\n",
    "print(\"my_tokenizer 결과 : \", my_tokenizer(df.review[1]))"
   ]
  },
  {
   "cell_type": "code",
   "execution_count": 16,
   "id": "cdfdc54b",
   "metadata": {},
   "outputs": [],
   "source": [
    "from sklearn.feature_extraction.text import CountVectorizer"
   ]
  },
  {
   "cell_type": "code",
   "execution_count": 17,
   "id": "e224d6a4",
   "metadata": {},
   "outputs": [
    {
     "name": "stdout",
     "output_type": "stream",
     "text": [
      "['가' '가는' '가는줄' '가면' '가서' '가슴' '가장' '가족' '가족영화' '가지']\n"
     ]
    }
   ],
   "source": [
    "# 토크나이저와 특성의 최대 개수를 지정\n",
    "daum_cv = CountVectorizer(max_features = 1000, tokenizer = my_tokenizer)\n",
    "\n",
    "# review 를 특성 벡터로 변환\n",
    "daum_result = daum_cv.fit_transform(df.review)\n",
    "print(daum_cv.get_feature_names_out()[:10]) # 특성 집합 앞 열 개 단어 출력"
   ]
  },
  {
   "cell_type": "markdown",
   "id": "343f75cf",
   "metadata": {},
   "source": [
    "# 2 - 토픽 모델링으로 주제 찾기"
   ]
  },
  {
   "cell_type": "code",
   "execution_count": 1,
   "id": "58cf702f",
   "metadata": {},
   "outputs": [],
   "source": [
    "from sklearn.datasets import fetch_20newsgroups\n",
    "from sklearn.feature_extraction.text import CountVectorizer\n",
    "\n",
    "# 6개의 주제를 선정\n",
    "categories = ['alt.atheism', 'talk.religion.misc','comp.graphics', 'sci.space',\n",
    "             'comp.sys.ibm.pc.hardware', 'sci.crypt']\n",
    "newsgroups_train = fetch_20newsgroups(subset = 'train', categories= categories)\n",
    "\n",
    "# 토큰화에 사용할 정규표현식 지정 후 자체적인 불용어 처리 진행\n",
    "cv = CountVectorizer(token_pattern = \"[\\w']{3,}\", stop_words = 'english',\n",
    "                    \n",
    "                    # 최대 단어 수는 2000\n",
    "                    max_features = 2000, min_df = 5, max_df = 0.5)\n",
    "reviews_cv = cv.fit_transform(newsgroups_train.data)"
   ]
  },
  {
   "cell_type": "code",
   "execution_count": 3,
   "id": "8844578c",
   "metadata": {},
   "outputs": [],
   "source": [
    "from sklearn.decomposition import LatentDirichletAllocation\n",
    "import numpy as np\n",
    "np.set_printoptions(precision = 3) # 표시할 유효숫자의 범위를 소수점 이하 3자리로 설정\n",
    "\n",
    "# LDA 객체 생성\n",
    "lda = LatentDirichletAllocation(n_components = 10, # 추출할 topic의 수\n",
    "                               max_iter = 5,  # 시간 절약을 위한 최대 횟수 5\n",
    "                               topic_word_prior = 0.1,   # 주요 예제에서 사용되는 값\n",
    "                               doc_topic_prior = 1.0,    # 주요 예제에서 사용되는 값\n",
    "                               learning_method = 'online',   # 빠른 속도를 선택\n",
    "                               n_jobs = -1,     # 사용 processor 수를 최대로\n",
    "                               random_state = 0)\n",
    "\n",
    "# review_cv 에 토픽 모델링을 수행\n",
    "reviews_topics = lda.fit_transform(reviews_cv)"
   ]
  },
  {
   "cell_type": "code",
   "execution_count": 5,
   "id": "7c655a71",
   "metadata": {},
   "outputs": [
    {
     "name": "stdout",
     "output_type": "stream",
     "text": [
      "Shape of reviews_topics :  (3219, 10)\n",
      "Sample of reviews_topics :  [0.903 0.007 0.027 0.008 0.007 0.008 0.007 0.007 0.007 0.018]\n",
      "Sum of topic weights of documents : [0.087 0.083 0.085 0.115 0.115 0.126 0.098 0.072 0.07  0.148]\n",
      "Shpae of topic word distributuon :  (10, 2000)\n"
     ]
    }
   ],
   "source": [
    "# 변환된 결과를 각 문서의 토픽 별 비중, 10개 토픽에 대한 0~1 사이의 값이다.\n",
    "print(\"Shape of reviews_topics : \", reviews_topics.shape)\n",
    "\n",
    "# 첫 문서에대한 토픽 비중 - 첫째 토픽에 대한 비중이 가장 높다.\n",
    "print(\"Sample of reviews_topics : \", reviews_topics[0])\n",
    "\n",
    "#토픽의 비중을 전부 더함으로써 말뭉치 전체에 나타난 토픽의 비중을 볼 수 있다.\n",
    "gross_topic_weights = np.mean(reviews_topics, axis = 0)\n",
    "print(\"Sum of topic weights of documents :\", gross_topic_weights)\n",
    "\n",
    "# components_ 속성은 토픽별 단어의 분포를 보여준다.\n",
    "print('Shpae of topic word distributuon : ', lda.components_.shape)"
   ]
  },
  {
   "cell_type": "markdown",
   "id": "fd16e9f9",
   "metadata": {},
   "source": [
    "마지막 토픽의 비중이 0.152로 제일 크고, 다음이 0.132인 5번 비중이다."
   ]
  },
  {
   "cell_type": "code",
   "execution_count": 6,
   "id": "24ffa822",
   "metadata": {},
   "outputs": [
    {
     "name": "stdout",
     "output_type": "stream",
     "text": [
      "Topic #0: com, morality, keith, article, sgi, think, sandvik, objective, caltech, moral\n",
      "Topic #1: image, file, graphics, files, ftp, available, software, use, data, mail\n",
      "Topic #2: space, nasa, access, launch, earth, orbit, shuttle, digex, lunar, satellite\n",
      "Topic #3: article, com, just, don't, like, i'm, nntp, university, host, posting\n",
      "Topic #4: key, clipper, chip, encryption, com, government, law, keys, use, escrow\n",
      "Topic #5: scsi, com, bit, ibm, bus, know, windows, thanks, card, university\n",
      "Topic #6: host, gov, nntp, posting, university, distribution, nasa, ___, world, com\n",
      "Topic #7: drive, com, disk, hard, controller, drives, dos, tape, floppy, problem\n",
      "Topic #8: key, public, message, faq, mail, pgp, des, group, uni, ripem\n",
      "Topic #9: god, people, don't, jesus, believe, just, does, say, think, know\n",
      "\n"
     ]
    }
   ],
   "source": [
    "# 토픽 별로 비중이 높은 상위 n개의 단어를 출력하는 함수\n",
    "\n",
    "def print_top_words(model, feature_names, n_top_words):\n",
    "    for topic_idx, topic in enumerate(model.components_):\n",
    "        print(\"Topic #%d: \" % topic_idx, end='')\n",
    "        print(\n",
    "            \", \".join([feature_names[i] for i in topic.argsort()[:-n_top_words - 1:-1]])\n",
    "        )\n",
    "# 위 slicing에서 맨 뒤 -1은 역순을 의미, 역순으로 했을 때 처음부터\n",
    "# n_top_words까지\n",
    "    print()\n",
    "print_top_words(lda,cv.get_feature_names_out(), 10)"
   ]
  },
  {
   "cell_type": "code",
   "execution_count": 10,
   "id": "6b2b1a64",
   "metadata": {},
   "outputs": [
    {
     "data": {
      "image/png": "[encoded data removed]",
      "text/plain": [
       "<Figure size 432x288 with 1 Axes>"
      ]
     },
     "metadata": {
      "needs_background": "light"
     },
     "output_type": "display_data"
    },
    {
     "name": "stdout",
     "output_type": "stream",
     "text": [
      "n_components with minimum perplexity: 9\n"
     ]
    }
   ],
   "source": [
    "# 최적 토픽 수를 찾는 함수 선언\n",
    "import matplotlib.pyplot as plt\n",
    "import seaborn as sns\n",
    "%matplotlib inline\n",
    "\n",
    "def test_perplexity(cv, start=10, end=30, max_iter=5, topic_word_prior=0.1,\n",
    "                    doc_topic_prior=1.0):\n",
    "    iter_num = []     # 시도한 n_components 값을 저장할 리스트\n",
    "    per_value = []    # n_components에 대한 혼란도 지정 리스트\n",
    "    for i in range(start, end + 1):     # i 는 시도할 n_components 값이다.\n",
    "        lda = LatentDirichletAllocation(n_components = i, max_iter=max_iter,\n",
    "            topic_word_prior= topic_word_prior, doc_topic_prior=doc_topic_prior, \n",
    "            learning_method='batch', n_jobs= -1, random_state=7)\n",
    "        lda.fit(cv)\n",
    "        iter_num.append(i)\n",
    "        per_value.append(lda.perplexity(cv))  # 계산된 혼란도 값 저장\n",
    "    plt.plot(iter_num, per_value, 'g-')    # n_components 와 혼란도를 그래프로 시각화\n",
    "    plt.show()\n",
    "    return start + per_value.index(min(per_value))   # 혼란도가 가장 낮은 n_components\n",
    "\n",
    "print(\"n_components with minimum perplexity:\", \n",
    "      test_perplexity(reviews_cv, start=6, end=15))"
   ]
  },
  {
   "cell_type": "code",
   "execution_count": 21,
   "id": "7605a46b",
   "metadata": {},
   "outputs": [
    {
     "name": "stdout",
     "output_type": "stream",
     "text": [
      "Topic #0: image, available, file, data, ftp, mail, information, files, graphics, internet\n",
      "Topic #1: nasa, gov, space, ___, orbit, posting, center, earth, jpl, research\n",
      "Topic #2: com, keith, morality, caltech, sgi, objective, moral, think, host, article\n",
      "Topic #3: com, jesus, just, article, know, god, posting, host, nntp, john\n",
      "Topic #4: people, god, don't, think, does, say, believe, just, like, evidence\n",
      "Topic #5: scsi, drive, card, ide, controller, bus, disk, hard, bit, drives\n",
      "Topic #6: space, access, launch, article, year, just, digex, henry, toronto, moon\n",
      "Topic #7: key, encryption, clipper, chip, com, government, keys, security, use, public\n",
      "Topic #8: com, university, posting, nntp, article, host, thanks, i'm, know, help\n",
      "\n"
     ]
    }
   ],
   "source": [
    "lda = LatentDirichletAllocation(n_components=9, #추출할 topic의 수를 지정 max_iter=20,\n",
    "                                topic_word_prior=0.1,\n",
    "                                doc_topic_prior=1.0,\n",
    "                                learning_method='batch',\n",
    "                                n_jobs=-1,\n",
    "                                random_state=7)\n",
    "reviews_topics = lda.fit_transform(reviews_cv)\n",
    "print_top_words(lda, cv.get_feature_names_out(), 10)"
   ]
  },
  {
   "cell_type": "markdown",
   "id": "4b710d9f",
   "metadata": {},
   "source": [
    "# GENSIM 를 이용한 토픽 모델링"
   ]
  },
  {
   "cell_type": "code",
   "execution_count": 13,
   "id": "91e385fb",
   "metadata": {},
   "outputs": [
    {
     "name": "stdout",
     "output_type": "stream",
     "text": [
      "Requirement already satisfied: gensim in c:\\users\\user\\anaconda3\\lib\\site-packages (4.1.2)\n",
      "Requirement already satisfied: numpy>=1.17.0 in c:\\users\\user\\anaconda3\\lib\\site-packages (from gensim) (1.21.5)\n",
      "Requirement already satisfied: smart-open>=1.8.1 in c:\\users\\user\\anaconda3\\lib\\site-packages (from gensim) (5.1.0)\n",
      "Requirement already satisfied: scipy>=0.18.1 in c:\\users\\user\\anaconda3\\lib\\site-packages (from gensim) (1.7.3)\n"
     ]
    }
   ],
   "source": [
    "!pip install gensim"
   ]
  },
  {
   "cell_type": "code",
   "execution_count": 14,
   "id": "7697b152",
   "metadata": {},
   "outputs": [
    {
     "name": "stdout",
     "output_type": "stream",
     "text": [
      "Requirement already satisfied: pyldavis in c:\\users\\user\\anaconda3\\lib\\site-packages (3.3.1)\n",
      "Requirement already satisfied: setuptools in c:\\users\\user\\anaconda3\\lib\\site-packages (from pyldavis) (61.2.0)\n",
      "Requirement already satisfied: scipy in c:\\users\\user\\anaconda3\\lib\\site-packages (from pyldavis) (1.7.3)\n",
      "Requirement already satisfied: future in c:\\users\\user\\anaconda3\\lib\\site-packages (from pyldavis) (0.18.2)\n",
      "Requirement already satisfied: scikit-learn in c:\\users\\user\\anaconda3\\lib\\site-packages (from pyldavis) (1.1.1)\n",
      "Requirement already satisfied: gensim in c:\\users\\user\\anaconda3\\lib\\site-packages (from pyldavis) (4.1.2)\n",
      "Requirement already satisfied: numexpr in c:\\users\\user\\anaconda3\\lib\\site-packages (from pyldavis) (2.8.1)\n",
      "Requirement already satisfied: numpy>=1.20.0 in c:\\users\\user\\anaconda3\\lib\\site-packages (from pyldavis) (1.21.5)\n",
      "Requirement already satisfied: funcy in c:\\users\\user\\anaconda3\\lib\\site-packages (from pyldavis) (1.17)\n",
      "Requirement already satisfied: joblib in c:\\users\\user\\anaconda3\\lib\\site-packages (from pyldavis) (1.1.0)\n",
      "Requirement already satisfied: jinja2 in c:\\users\\user\\anaconda3\\lib\\site-packages (from pyldavis) (3.1.2)\n",
      "Requirement already satisfied: pandas>=1.2.0 in c:\\users\\user\\anaconda3\\lib\\site-packages (from pyldavis) (1.4.2)\n",
      "Requirement already satisfied: sklearn in c:\\users\\user\\anaconda3\\lib\\site-packages (from pyldavis) (0.0)\n",
      "Requirement already satisfied: pytz>=2020.1 in c:\\users\\user\\anaconda3\\lib\\site-packages (from pandas>=1.2.0->pyldavis) (2021.3)\n",
      "Requirement already satisfied: python-dateutil>=2.8.1 in c:\\users\\user\\anaconda3\\lib\\site-packages (from pandas>=1.2.0->pyldavis) (2.8.2)\n",
      "Requirement already satisfied: six>=1.5 in c:\\users\\user\\anaconda3\\lib\\site-packages (from python-dateutil>=2.8.1->pandas>=1.2.0->pyldavis) (1.16.0)\n",
      "Requirement already satisfied: smart-open>=1.8.1 in c:\\users\\user\\anaconda3\\lib\\site-packages (from gensim->pyldavis) (5.1.0)\n",
      "Requirement already satisfied: MarkupSafe>=2.0 in c:\\users\\user\\anaconda3\\lib\\site-packages (from jinja2->pyldavis) (2.0.1)\n",
      "Requirement already satisfied: packaging in c:\\users\\user\\anaconda3\\lib\\site-packages (from numexpr->pyldavis) (21.3)\n",
      "Requirement already satisfied: pyparsing!=3.0.5,>=2.0.2 in c:\\users\\user\\anaconda3\\lib\\site-packages (from packaging->numexpr->pyldavis) (3.0.4)\n",
      "Requirement already satisfied: threadpoolctl>=2.0.0 in c:\\users\\user\\anaconda3\\lib\\site-packages (from scikit-learn->pyldavis) (2.2.0)\n"
     ]
    }
   ],
   "source": [
    "!pip install pyldavis"
   ]
  },
  {
   "cell_type": "code",
   "execution_count": 15,
   "id": "453b45d1",
   "metadata": {},
   "outputs": [],
   "source": [
    "from nltk.corpus import stopwords\n",
    "from nltk.tokenize import RegexpTokenizer\n",
    "cachedStopWords = stopwords.words(\"english\")\n",
    "RegTok = RegexpTokenizer(\"[\\w']{3,}\") # 정규포현식으로 토크나이저를 정의\n",
    "english_stops = set(stopwords.words('english')) # 영어 불용어를 가져옴\n",
    "def tokenizer(text):\n",
    "    tokens = RegTok.tokenize(text.lower())\n",
    "    # stopwords 제외\n",
    "    words = [word for word in tokens if (word not in english_stops) and len(word) > 2] \n",
    "    return words\n",
    "texts = [tokenizer(news) for news in newsgroups_train.data]"
   ]
  },
  {
   "cell_type": "code",
   "execution_count": 16,
   "id": "fd9c19fd",
   "metadata": {},
   "outputs": [
    {
     "name": "stdout",
     "output_type": "stream",
     "text": [
      "#Number of initial unique words in documents: 46466\n",
      "#Number of unique words after removing rare and common words: 2000\n",
      "#Number of unique tokens: 2000\n",
      "#Number of documents: 3219\n"
     ]
    }
   ],
   "source": [
    "from gensim.corpora.dictionary import Dictionary\n",
    "# 토큰화 결과로부터 dictionay 생성\n",
    "dictionary = Dictionary(texts)\n",
    "print('#Number of initial unique words in documents:', len(dictionary))\n",
    "# 문서 빈도수가 너무 적거나 높은 단어를 필터링하고 특성을 단어의 빈도 순으로 선택\n",
    "dictionary.filter_extremes(keep_n = 2000, no_below=5, no_above=0.5)\n",
    "print('#Number of unique words after removing rare and common words:', len(dictionary))\n",
    "# 카운트 벡터로 변환\n",
    "corpus = [dictionary.doc2bow(text) for text in texts] \n",
    "print('#Number of unique tokens: %d' % len(dictionary)) \n",
    "print('#Number of documents: %d' % len(corpus))"
   ]
  },
  {
   "cell_type": "code",
   "execution_count": 22,
   "id": "8bffc8e2",
   "metadata": {},
   "outputs": [],
   "source": [
    "from gensim.models import LdaModel\n",
    "num_topics = 9\n",
    "passes = 5\n",
    "model = LdaModel(corpus=corpus, id2word=dictionary,\\\n",
    "                       passes=passes, num_topics=num_topics, \\\n",
    "                       random_state=7)"
   ]
  },
  {
   "cell_type": "code",
   "execution_count": 23,
   "id": "e5c60912",
   "metadata": {},
   "outputs": [
    {
     "data": {
      "text/plain": [
       "[(0,\n",
       "  '0.015*\"com\" + 0.015*\"would\" + 0.014*\"keith\" + 0.013*\"caltech\" + 0.012*\"article\" + 0.011*\"sgi\" + 0.011*\"nntp\" + 0.010*\"posting\" + 0.010*\"host\" + 0.009*\"system\"'),\n",
       " (1,\n",
       "  '0.014*\"objective\" + 0.013*\"com\" + 0.013*\"article\" + 0.012*\"uiuc\" + 0.012*\"say\" + 0.012*\"morality\" + 0.012*\"one\" + 0.010*\"frank\" + 0.010*\"faq\" + 0.009*\"values\"'),\n",
       " (2,\n",
       "  '0.027*\"com\" + 0.026*\"posting\" + 0.026*\"host\" + 0.026*\"nntp\" + 0.023*\"access\" + 0.015*\"digex\" + 0.014*\"article\" + 0.013*\"university\" + 0.012*\"pat\" + 0.012*\"cwru\"'),\n",
       " (3,\n",
       "  '0.031*\"space\" + 0.017*\"nasa\" + 0.009*\"gov\" + 0.007*\"orbit\" + 0.006*\"research\" + 0.006*\"university\" + 0.006*\"earth\" + 0.006*\"information\" + 0.005*\"data\" + 0.005*\"center\"'),\n",
       " (4,\n",
       "  '0.025*\"com\" + 0.012*\"article\" + 0.012*\"ibm\" + 0.011*\"would\" + 0.010*\"henry\" + 0.009*\"toronto\" + 0.009*\"one\" + 0.009*\"like\" + 0.009*\"get\" + 0.008*\"work\"'),\n",
       " (5,\n",
       "  '0.022*\"key\" + 0.014*\"encryption\" + 0.013*\"clipper\" + 0.012*\"chip\" + 0.011*\"com\" + 0.009*\"government\" + 0.009*\"would\" + 0.008*\"keys\" + 0.008*\"use\" + 0.007*\"security\"'),\n",
       " (6,\n",
       "  '0.020*\"scsi\" + 0.019*\"drive\" + 0.013*\"com\" + 0.011*\"card\" + 0.010*\"ide\" + 0.009*\"one\" + 0.009*\"controller\" + 0.008*\"bus\" + 0.008*\"disk\" + 0.007*\"system\"'),\n",
       " (7,\n",
       "  '0.016*\"graphics\" + 0.011*\"image\" + 0.009*\"ftp\" + 0.009*\"file\" + 0.009*\"files\" + 0.009*\"com\" + 0.008*\"use\" + 0.008*\"available\" + 0.008*\"mail\" + 0.007*\"program\"'),\n",
       " (8,\n",
       "  '0.013*\"god\" + 0.012*\"one\" + 0.012*\"people\" + 0.010*\"would\" + 0.008*\"com\" + 0.007*\"think\" + 0.007*\"jesus\" + 0.006*\"even\" + 0.006*\"say\" + 0.006*\"article\"')]"
      ]
     },
     "execution_count": 23,
     "metadata": {},
     "output_type": "execute_result"
    }
   ],
   "source": [
    "model.print_topics(num_words=10)"
   ]
  },
  {
   "cell_type": "code",
   "execution_count": 24,
   "id": "63be6dc9",
   "metadata": {},
   "outputs": [
    {
     "name": "stdout",
     "output_type": "stream",
     "text": [
      "#topic distribution of the first document:  [(0, 0.6954689), (8, 0.30036935)]\n"
     ]
    }
   ],
   "source": [
    "print(\"#topic distribution of the first document: \", model.get_document_topics(corpus)\n",
    "[0])"
   ]
  },
  {
   "cell_type": "code",
   "execution_count": 25,
   "id": "4f79f5ed",
   "metadata": {},
   "outputs": [
    {
     "name": "stderr",
     "output_type": "stream",
     "text": [
      "C:\\Users\\user\\anaconda3\\lib\\site-packages\\pyLDAvis\\_prepare.py:246: FutureWarning: In a future version of pandas all arguments of DataFrame.drop except for the argument 'labels' will be keyword-only.\n",
      "  default_term_info = default_term_info.sort_values(\n"
     ]
    },
    {
     "data": {
      "text/html": [
       "\n",
       "<link rel=\"stylesheet\" type=\"text/css\" href=\"https://cdn.jsdelivr.net/gh/bmabey/pyLDAvis@3.3.1/pyLDAvis/js/ldavis.v1.0.0.css\">\n",
       "\n",
       "\n",
       "<div id=\"ldavis_el1545615601226209445064864659\"></div>\n",
       "<script type=\"text/javascript\">\n",
       "\n",
       "var ldavis_el1545615601226209445064864659_data = {\"mdsDat\": {\"x\": [0.13014991614177024, -0.045430113441777456, -0.10265977709054838, -0.07976213370165645, -0.06464709368958149, -0.019337241373112896, 0.03664735725837942, -0.02634172265383916, 0.17138080855036594], \"y\": [-0.01367161978391903, 0.060720644833314734, 0.10990036975651411, -0.047377764912260714, 0.059494045122030416, -0.0611636290478113, -0.1088004364664395, -0.09375747167671655, 0.09465586217528785], \"topics\": [1, 2, 3, 4, 5, 6, 7, 8, 9], \"cluster\": [1, 1, 1, 1, 1, 1, 1, 1, 1], \"Freq\": [25.34304435886921, 17.432935365884138, 13.12772981293738, 11.904441601570628, 10.740741568289177, 6.8445594212229555, 5.852298458731895, 4.796283733628724, 3.9579656788658957]}, \"tinfo\": {\"Term\": [\"space\", \"com\", \"key\", \"scsi\", \"posting\", \"host\", \"nntp\", \"encryption\", \"access\", \"drive\", \"article\", \"nasa\", \"god\", \"graphics\", \"clipper\", \"chip\", \"say\", \"image\", \"keith\", \"morality\", \"university\", \"keys\", \"ide\", \"would\", \"digex\", \"caltech\", \"ibm\", \"card\", \"objective\", \"atheism\", \"sandvik\", \"christians\", \"religious\", \"christ\", \"faith\", \"koresh\", \"jews\", \"religions\", \"jesus\", \"jaeger\", \"islam\", \"islamic\", \"jewish\", \"rushdie\", \"gregg\", \"bible\", \"christianity\", \"alink\", \"ksand\", \"newton\", \"holy\", \"cookamunga\", \"buphy\", \"children\", \"muslims\", \"beliefs\", \"father\", \"muslim\", \"church\", \"god\", \"religion\", \"kent\", \"argument\", \"belief\", \"atheist\", \"evidence\", \"biblical\", \"christian\", \"conclusion\", \"people\", \"truth\", \"believe\", \"life\", \"atheists\", \"atheism\", \"death\", \"true\", \"therefore\", \"say\", \"one\", \"moral\", \"think\", \"even\", \"many\", \"would\", \"said\", \"things\", \"good\", \"well\", \"see\", \"know\", \"way\", \"com\", \"like\", \"article\", \"point\", \"may\", \"time\", \"also\", \"wiretap\", \"escrow\", \"encryption\", \"enforcement\", \"encrypted\", \"gtoal\", \"sternlight\", \"denning\", \"keys\", \"strnlght\", \"toal\", \"privacy\", \"secure\", \"crypto\", \"clipper\", \"escrowed\", \"dorothy\", \"security\", \"rsa\", \"conversations\", \"decrypt\", \"eff\", \"encrypt\", \"pgp\", \"nist\", \"cellular\", \"phones\", \"key\", \"nsa\", \"hamburg\", \"des\", \"brad\", \"secret\", \"chip\", \"protect\", \"agencies\", \"administration\", \"government\", \"algorithm\", \"proposal\", \"cryptography\", \"public\", \"netcom\", \"law\", \"communications\", \"technology\", \"use\", \"com\", \"information\", \"system\", \"would\", \"phone\", \"used\", \"one\", \"two\", \"data\", \"new\", \"may\", \"packages\", \"package\", \"animation\", \"routines\", \"formats\", \"gif\", \"graphics\", \"color\", \"byte\", \"image\", \"drawing\", \"format\", \"128\", \"display\", \"directory\", \"ftp\", \"colors\", \"256\", \"files\", \"pub\", \"amiga\", \"file\", \"routine\", \"domain\", \"dec\", \"library\", \"processing\", \"contact\", \"objects\", \"functions\", \"images\", \"comp\", \"machines\", \"screen\", \"version\", \"available\", \"program\", \"mail\", \"software\", \"code\", \"line\", \"unix\", \"type\", \"help\", \"data\", \"send\", \"use\", \"thanks\", \"also\", \"university\", \"com\", \"computer\", \"please\", \"system\", \"would\", \"like\", \"get\", \"posting\", \"propulsion\", \"astronomy\", \"baalke\", \"missions\", \"kelvin\", \"jet\", \"jupiter\", \"conference\", \"jpl\", \"satellite\", \"launched\", \"star\", \"planets\", \"solar\", \"forwarded\", \"orbit\", \"planetary\", \"mission\", \"digest\", \"elements\", \"astro\", \"observatory\", \"planet\", \"satellites\", \"spacecraft\", \"rocket\", \"1990\", \"space\", \"experiment\", \"sky\", \"nasa\", \"mars\", \"shuttle\", \"international\", \"lunar\", \"orbital\", \"gov\", \"launch\", \"earth\", \"center\", \"april\", \"research\", \"sci\", \"1993\", \"surface\", \"national\", \"science\", \"information\", \"data\", \"first\", \"university\", \"also\", \"moon\", \"may\", \"new\", \"one\", \"program\", \"posting\", \"time\", \"system\", \"would\", \"scsi\", \"ide\", \"isa\", \"cache\", \"vlb\", \"eisa\", \"controller\", \"motherboard\", \"bus\", \"drives\", \"sec\", \"cpu\", \"drive\", \"bios\", \"486\", \"card\", \"boot\", \"pin\", \"mouse\", \"floppy\", \"sys\", \"setup\", \"ann\", \"ram\", \"mhz\", \"port\", \"settings\", \"cards\", \"driver\", \"ports\", \"modem\", \"tape\", \"disk\", \"rom\", \"board\", \"hard\", \"speed\", \"memory\", \"dos\", \"drivers\", \"thanks\", \"com\", \"problem\", \"bit\", \"system\", \"one\", \"know\", \"anyone\", \"get\", \"university\", \"use\", \"would\", \"like\", \"host\", \"article\", \"posting\", \"nntp\", \"computer\", \"two\", \"i'm\", \"zoology\", \"utzoo\", \"vnet\", \"henry\", \"toronto\", \"spencer\", \"zoo\", \"dseg\", \"man's\", \"craig\", \"bear\", \"monitor\", \"austin\", \"monitors\", \"fred\", \"jsc\", \"ibm\", \"nuclear\", \"amendment\", \"labs\", \"costs\", \"portal\", \"daniel\", \"johnson\", \"ati\", \"texas\", \"instruments\", \"months\", \"represents\", \"charles\", \"grant\", \"money\", \"speak\", \"work\", \"com\", \"year\", \"article\", \"nasa\", \"level\", \"get\", \"software\", \"gov\", \"like\", \"would\", \"i'm\", \"going\", \"one\", \"people\", \"enough\", \"much\", \"posting\", \"also\", \"new\", \"know\", \"time\", \"think\", \"could\", \"allan\", \"acad3\", \"cco\", \"nsmca\", \"punisher\", \"schneider\", \"alaska\", \"caltech\", \"solntze\", \"wpd\", \"aurora\", \"livesey\", \"gap\", \"adams\", \"fido\", \"eng\", \"keith\", \"goal\", \"jon\", \"billion\", \"race\", \"van\", \"pasadena\", \"umd\", \"sgi\", \"moon\", \"maryland\", \"points\", \"russian\", \"base\", \"california\", \"political\", \"cost\", \"would\", \"nntp\", \"article\", \"host\", \"com\", \"posting\", \"system\", \"think\", \"launch\", \"could\", \"space\", \"first\", \"university\", \"one\", \"like\", \"know\", \"prb\", \"digex\", \"cwru\", \"kmr4\", \"ryan\", \"cleveland\", \"ins\", \"freenet\", \"reserve\", \"pat\", \"express\", \"conner\", \"western\", \"greenbelt\", \"___\", \"____\", \"diego\", \"vnews\", \"rit\", \"isc\", \"ultb\", \"access\", \"vax\", \"online\", \"student\", \"mozumder\", \"navy\", \"mary\", \"green\", \"steve\", \"usa\", \"net\", \"nntp\", \"host\", \"posting\", \"com\", \"university\", \"article\", \"distribution\", \"bill\", \"case\", \"news\", \"would\", \"reply\", \"john\", \"one\", \"like\", \"world\", \"think\", \"know\", \"d012s658\", \"o'dwyer\", \"cso\", \"urbana\", \"frank\", \"rosenau\", \"uiuc\", \"benedikt\", \"i3150101\", \"dbstu1\", \"ico\", \"beauchaine\", \"bobbe\", \"tek\", \"illinois\", \"objective\", \"vice\", \"newsgroup\", \"split\", \"values\", \"mathematical\", \"2000\", \"attack\", \"aspects\", \"significance\", \"forum\", \"sea\", \"morality\", \"mantis\", \"readers\", \"tiff\", \"value\", \"faq\", \"umich\", \"alt\", \"say\", \"group\", \"atheism\", \"article\", \"news\", \"com\", \"one\", \"uucp\", \"university\", \"posting\", \"would\", \"way\", \"science\", \"time\"], \"Freq\": [1518.0, 3720.0, 1331.0, 711.0, 1737.0, 1488.0, 1451.0, 856.0, 725.0, 767.0, 2019.0, 868.0, 1160.0, 781.0, 793.0, 855.0, 872.0, 541.0, 362.0, 352.0, 1480.0, 483.0, 352.0, 2723.0, 247.0, 276.0, 475.0, 455.0, 279.0, 362.0, 280.8297194026623, 222.4179139561038, 224.85912730728, 159.82562630137906, 209.53636910815314, 150.50388192566726, 113.98691812424734, 95.51531229892856, 557.9791220346093, 83.91387892503238, 162.49945652838585, 140.12677241866766, 78.89678085970071, 82.59808241441633, 66.54887599599768, 414.3558900835995, 138.52930201945904, 49.05396962136874, 49.05209615694926, 137.81857504127467, 74.19193677679284, 37.29101189448073, 41.50813569643858, 183.88207912372388, 73.3893356982277, 113.47417371140853, 62.84197387304394, 80.83211421132113, 128.55003110757005, 1118.4665056390897, 313.4509775001874, 180.57358060895965, 269.36885533528823, 178.79204480866449, 136.50200535486644, 355.222453897685, 105.24564043076006, 364.2781266757898, 128.48626392973657, 1048.9415075063682, 178.7205756104398, 454.50429206815556, 330.6129623087173, 274.26268142432, 274.9438691222395, 166.8127762851525, 333.9104777622287, 185.56956502765905, 484.54895175079395, 1055.2450709647644, 238.460736717982, 596.0092602488712, 500.14981533485724, 466.72249173646753, 823.8018363366535, 337.3879052750713, 317.60699563328865, 424.1041697713235, 383.330129795762, 383.48349615289544, 469.3043834317775, 366.81446047442284, 648.477326355696, 444.5383336574061, 475.17766464932254, 312.8082899917137, 347.77355936582535, 351.8276967195434, 327.73538043545415, 188.80159733414624, 377.11539183629634, 847.8181230461637, 232.3699316059078, 190.5360316473863, 111.5022631738698, 83.26452730182429, 81.97827292070995, 474.75775419264767, 56.912864646859504, 57.85919123116781, 352.3284621123698, 284.5994731308441, 268.4799146768678, 773.7853359351939, 60.45763795779281, 44.286033109958176, 428.3362711117005, 154.90590091775837, 82.83134829547983, 66.62082286384545, 158.972460976185, 44.601635541889365, 232.1136066959218, 120.87860547065306, 78.26720752888873, 97.13964042180548, 1267.1844951265216, 265.11856177662355, 102.07540185021683, 259.24709032819544, 110.0456664619066, 248.48755357673778, 731.4053750038239, 160.26848641486504, 155.14823405515202, 159.9562762377412, 528.0396242983447, 307.56747241776634, 144.03298444180484, 150.22308919103222, 377.2506183636118, 254.04422377904345, 337.6843401694174, 204.6071591371102, 298.76580195045796, 454.9307851178587, 643.9404862042068, 309.25499474492676, 391.0473243719754, 504.418784721422, 222.7221680129205, 271.1916456675518, 389.1114958115192, 270.18006505609503, 260.4264085642973, 246.1783928852018, 247.11229597552216, 74.64662793340976, 257.13054002243507, 91.73088152184532, 81.78879092229464, 107.04332709976546, 175.52556084386606, 710.6351174527092, 197.38212143549893, 141.32798103464188, 475.23917879130835, 58.888947981776184, 239.18737551038785, 137.3183402675208, 141.04201970631158, 148.9287645421615, 413.021280903087, 77.45105866992752, 108.69117334937178, 384.25360824284877, 305.39507371157765, 96.74272195832943, 407.7696811068195, 40.88682692351249, 73.23805838243509, 69.15942787877292, 114.61306625278021, 89.68274486726212, 172.7537302738636, 89.23353110639331, 72.0681853097713, 235.2600336043326, 195.77781738341184, 126.3308466908327, 121.99737109904855, 327.1889294310283, 337.2011085914443, 330.02284871004053, 332.7749209809801, 320.0621191745235, 231.29941888696547, 203.3768345565038, 179.1395837767346, 161.58273303503609, 247.24572178976285, 302.819840271129, 189.9951876263615, 340.74996199944087, 209.95881279716306, 292.07810337576933, 287.24726087119006, 378.76018494017023, 222.4239580858428, 206.77236602842441, 225.4505105113328, 241.51380226180447, 211.95700942661986, 205.24333657723733, 202.26854185823248, 104.95953661389004, 99.72810101992278, 110.38660812688093, 112.84669628378828, 86.3712467600453, 66.88081345344857, 90.78043970977271, 77.00890211620701, 176.41347936124404, 193.99057698988025, 72.54842085612057, 78.8708610155473, 45.74478667699531, 122.93019694291547, 38.745848349274986, 267.6548387117286, 123.34836313235935, 190.3291829707277, 48.29935428061125, 48.50239359622778, 55.686882461197996, 58.260419522499156, 70.64106377012567, 89.9202581501624, 135.68372559893805, 96.1863905894646, 53.21136357705237, 1256.9980295209757, 35.39764361523587, 65.16399837712342, 660.9434364904769, 138.6060837015962, 205.86232851811775, 114.24063945662579, 165.48999584339964, 87.76289907054085, 366.7083180217395, 189.00696427658022, 228.2301966755938, 212.83068476481782, 128.76908355544288, 230.6819967532965, 169.80843898206052, 193.04642508174388, 119.52132859094512, 150.18678396302272, 191.7424215369495, 220.13456853257756, 217.2603185391005, 210.98290872461087, 228.3300819986825, 210.30796107899994, 136.22191062522393, 176.219221684605, 170.29369205081923, 200.5722244983199, 155.20163062874116, 176.13991687279972, 161.92835677305615, 153.4080344141663, 142.2171159990199, 706.49494335268, 348.27210310435095, 166.49907471226797, 76.09827054265453, 108.22918021215837, 101.41647701469952, 323.50798314979187, 133.6113436576529, 304.7187485251772, 252.4993416733382, 81.95855929339791, 90.7492318800678, 686.3567980153116, 137.75505311955504, 138.04525410562616, 395.16580639143274, 78.80333459967981, 73.60662045378716, 87.77658535674622, 154.70830586078154, 87.75648747439057, 58.525861028965764, 45.941255231867366, 105.76683673435143, 52.05054094900287, 150.6683794435521, 58.48009465555804, 132.19606456165195, 130.084249325482, 47.82919165352738, 102.0806481704061, 155.36699883116376, 276.7194240515892, 113.3748850588114, 153.06805987511805, 239.79331257069515, 170.1897752171936, 159.91772401926693, 187.7793208642705, 121.8881446932502, 211.9353958563236, 458.1276657963673, 192.33263390679068, 222.72656392860733, 264.1194633715456, 335.42438057025066, 259.78218576009925, 204.61966585336683, 237.59997151826394, 241.43955767341632, 228.86273644488082, 262.0936102734947, 224.49973152750934, 213.78608145799035, 214.75714862160783, 210.2110950148549, 203.80696193667222, 185.50241227926847, 176.57922138134714, 171.64840087467988, 67.76103658109584, 39.36970897288264, 82.33168408332722, 235.4388861385325, 215.13677521889156, 104.0626357840343, 114.15435521171891, 78.25797795284343, 32.07351337433401, 48.742553256493565, 72.19600609005558, 117.8134961951008, 78.55517747781772, 42.66279182803423, 85.60132861681532, 66.58838160851231, 277.4332052533278, 33.32744350481379, 47.830902936366876, 34.56773898398208, 52.83173858467675, 48.94143230158058, 30.12311304712512, 35.54757862347948, 38.546010586692034, 60.929313290408736, 36.31065595247444, 53.487738523429066, 19.524765796778983, 28.747646317344504, 37.1584271414518, 95.39926454447625, 58.383978486143015, 192.16789462683465, 572.9548087557943, 98.89051700379643, 283.25980871360167, 166.6076967504558, 72.54234176075363, 195.48058214555468, 136.4172858700952, 124.6064492088798, 198.24702692844178, 249.12365342735708, 158.68414656344603, 102.22111991355837, 214.21811080364685, 170.42317174090346, 91.16811607281264, 111.17219755546151, 116.77750899189715, 105.45521744133, 99.58086459154275, 98.6307920221283, 96.10222679489286, 92.76770455869854, 89.01571516047565, 90.71187306337471, 50.8878882743975, 122.19263492898176, 76.7586974391442, 39.34102252344983, 98.89277177186452, 154.73190797769368, 261.75854348657043, 123.68301266838088, 127.33043416007669, 92.74826666594196, 175.75045141057237, 58.17765876913843, 38.24538557616376, 45.41244808394737, 84.58037879928, 281.3246155031797, 57.34434685427903, 135.69809933697215, 94.50208419497572, 33.79520155297141, 64.19249495038402, 65.23089472316175, 114.32354777464211, 214.80529950662643, 158.3902710288436, 25.748842823241915, 98.85531409845304, 32.4176958421668, 61.78238071061315, 86.68095677990016, 75.91295151780893, 101.781627307365, 289.313437195579, 209.8623515949815, 239.13674570763976, 204.19898210930506, 293.79704104471904, 204.63712060553743, 181.06790280739864, 134.12662587197892, 87.63600384431773, 117.51136883256545, 123.79829733372532, 107.33801672554209, 100.71696321383907, 102.76254955757109, 98.83406275159699, 93.54592008432101, 86.11773444865977, 243.0244569347258, 193.26608893265922, 87.80770570713719, 73.70046668849537, 95.30881555231223, 42.9549563274298, 77.46305043706093, 69.43123149115566, 196.18775043892748, 70.91010173128367, 46.23826302345816, 131.18122840926557, 28.873634063449014, 185.13884980513404, 54.743179522092184, 26.961703576272715, 34.22421231576023, 39.28801787887425, 40.98024032125274, 34.61610591320432, 369.29027031968934, 52.35443702875037, 66.99857965582352, 44.51288814616329, 25.220658583039835, 35.63710035574797, 27.070030545592065, 27.486709677786912, 68.27502343956759, 146.30588248804833, 170.4290589035326, 416.4532934258937, 418.0035186917392, 425.49936076658577, 440.33727404794325, 202.89078557538886, 231.23427145809632, 121.28634467472983, 72.02253926388866, 90.0888303540885, 86.84743319835167, 131.5545347316332, 88.23507045891577, 78.62163723963779, 105.87190319630903, 95.48114367993891, 85.25288212149415, 89.69824244330702, 88.46351309724973, 54.02415907656765, 57.262663158590925, 101.14609853900281, 46.39613181007562, 135.58586051073868, 38.34638559000761, 165.52710739894277, 65.78748798192679, 45.06502001968908, 44.138273066798526, 70.9546427607617, 56.104293713313346, 57.34136817745868, 78.05825062222834, 55.60817963017975, 182.96386684494564, 72.36148104019102, 87.58225145063311, 47.93627942437395, 123.35028291506393, 41.31166684000944, 63.44457394465613, 71.20430052989556, 31.490927655653234, 20.327856107016835, 21.512286140170488, 22.936041973616074, 162.21433822712555, 50.42961541017537, 26.247705807442117, 50.43877082877459, 79.37468030405978, 130.7670203350739, 43.958183475042304, 73.09187723849713, 163.50197958222873, 95.18531108250083, 84.52116495284115, 169.9511468521109, 98.17182287201392, 177.97905877662205, 160.13874259736883, 69.28228805340069, 84.15510301811516, 78.12979106935495, 79.16917413087613, 68.3845121021445, 65.03614918930039, 65.99829482357234], \"Total\": [1518.0, 3720.0, 1331.0, 711.0, 1737.0, 1488.0, 1451.0, 856.0, 725.0, 767.0, 2019.0, 868.0, 1160.0, 781.0, 793.0, 855.0, 872.0, 541.0, 362.0, 352.0, 1480.0, 483.0, 352.0, 2723.0, 247.0, 276.0, 475.0, 455.0, 279.0, 362.0, 282.34862893663615, 224.07356759889137, 226.6875352991129, 161.23660725244162, 211.8096725545085, 152.30579216369364, 115.39530208537509, 96.79014782113744, 566.1981551203615, 85.20453851373276, 165.13575567711683, 142.42958195690753, 80.24379719397417, 84.04164375880912, 67.75246908936397, 421.9004272958245, 141.16288243091154, 49.99442267704385, 49.99454636576231, 141.02276379904953, 75.99319352602882, 38.23361460618039, 42.5924306852641, 189.00468906007762, 75.46449169795122, 116.84079969346904, 64.75045234165094, 83.42252300715559, 133.28915147692766, 1160.8851893935507, 325.7409763485125, 189.35939844823974, 287.9701769203217, 189.92935425943224, 143.74715101298517, 390.2857626271619, 110.11856412600247, 432.4013818176591, 138.54591958690813, 1666.935450022633, 209.0502941218422, 639.6234265386088, 440.45231027179176, 352.0484812133818, 362.42920180813854, 193.14554163389278, 485.57023110631934, 222.53723945924574, 872.8511832771491, 2761.592965933248, 321.07135137547783, 1307.2735440137412, 1035.7235279137506, 957.5468621435336, 2723.2059490778397, 635.8161876300111, 607.6041172751552, 1123.9541020194044, 922.1712685087384, 929.7502076300339, 1486.7973179634657, 872.0792219419844, 3720.238161411099, 1655.4237651458195, 2019.968948272649, 643.8399985915048, 1082.6645098730583, 1182.5218427871805, 1381.690810211832, 190.4613502513847, 380.7292423634916, 856.5330896933583, 235.0840907903065, 192.9011511587876, 113.09114851314953, 84.65242283177544, 83.38433097658113, 483.83312216003236, 58.060892565549715, 59.05901128132339, 359.7596386975712, 290.95818205170934, 274.6037304770993, 793.2845401663292, 62.07998018649593, 45.529231042574885, 441.50080485024074, 159.70337096456277, 85.92721475183019, 69.47683981793874, 165.82142966268535, 46.52784753516399, 242.479754340702, 126.28341648174852, 82.06266251927588, 102.02531070672995, 1331.733734662339, 279.2012036258103, 107.52911161333589, 275.85551175167495, 116.11964139496159, 274.37635169534497, 855.9211967116039, 177.1677825516879, 176.24068604023194, 182.5428928554719, 711.4237144319438, 425.2941340051953, 169.19465498334864, 181.12823585038174, 620.5402336971586, 379.3779393642719, 610.3852816180373, 307.28198669444, 612.5712423523092, 1393.9613234421304, 3720.238161411099, 785.0331327573233, 1376.682334730755, 2723.2059490778397, 430.5841098499972, 823.3814040337239, 2761.592965933248, 922.7644877728543, 958.2824250885811, 960.9844025985276, 1082.6645098730583, 77.39302213047944, 272.45371915529097, 97.49621889183162, 87.78161727499632, 116.01933943678986, 190.37723954863455, 781.8404500854294, 218.20484850921366, 157.50815413184947, 541.3687877416073, 67.29648776533787, 275.78128330570667, 158.35024225980433, 164.2300081464783, 175.23753453444186, 490.4693786523607, 92.4027965654863, 130.03433349426945, 469.1448933617133, 373.1236621981485, 119.67699467317293, 538.183747858697, 54.2365301619228, 97.30066867660591, 92.41214584980321, 155.96563029403862, 122.1705037469027, 235.69622971498114, 122.68599042737132, 99.63727535259159, 339.4378955083935, 290.80718731327033, 188.63092972201426, 181.19426044706174, 616.3378550047986, 680.3571794996315, 664.9635626695078, 740.721182292892, 724.2188533112902, 477.2997017007962, 400.77377081869923, 331.7956276951131, 283.9861126763439, 631.0413879181552, 958.2824250885811, 393.13243166590024, 1393.9613234421304, 547.3123099603346, 1381.690810211832, 1480.8438694419988, 3720.238161411099, 821.037993386926, 694.5725742808763, 1376.682334730755, 2723.2059490778397, 1655.4237651458195, 1304.7795765768903, 1737.6593891075386, 106.66293121040148, 101.93784913981604, 114.28773665323892, 117.16373431129054, 90.21552682776566, 69.9188232216166, 95.173589693282, 81.60845866459304, 188.82364707526693, 208.1103535544302, 79.09309015245583, 86.76670048505096, 50.42122112663002, 136.44852655851125, 43.15462408404922, 299.7917925002729, 140.34390003882106, 216.70340948309527, 55.21191551831222, 55.60917020204152, 64.3252445364568, 68.68744565204666, 83.38611291231388, 106.40882729815685, 161.43128125591477, 115.38903162265747, 64.06530914346386, 1518.4215968227143, 43.33246926439659, 81.50116081365583, 868.7507754216397, 176.15850420055722, 266.4666477261159, 149.3586404372349, 236.31240310207076, 111.84373719886305, 645.4595076205121, 301.11395822739547, 391.3445312044599, 366.31103778137407, 192.3568972142628, 483.46608851424503, 312.9820515137791, 402.5166464137567, 184.22424818373742, 306.9923980433364, 546.8548220446585, 785.0331327573233, 958.2824250885811, 906.3346551711812, 1480.8438694419988, 1381.690810211832, 311.88307895631823, 1082.6645098730583, 960.9844025985276, 2761.592965933248, 664.9635626695078, 1737.6593891075386, 1182.5218427871805, 1376.682334730755, 2723.2059490778397, 711.700707349681, 352.44038132196476, 169.1634721114045, 77.8935468022736, 111.04646366682965, 104.09004793995601, 334.035074968205, 137.9829552508533, 326.3683267415978, 270.45864455008245, 90.21916024455412, 100.77130210950408, 767.567038898908, 155.68066335659006, 157.51186836201987, 455.6107763085317, 91.80585350038777, 86.70938753534018, 104.41435639672729, 185.4421193479442, 105.46142474569325, 70.43272340268096, 55.340580868601144, 128.41861960241906, 63.203766770286826, 184.81829450234258, 71.85636746981815, 163.5438103086956, 161.00838250263766, 59.81097703922609, 132.8226636354814, 207.7384817701386, 397.7651430326175, 153.69417429719238, 220.02171415231825, 447.8915850859758, 278.82125631882354, 256.37928024906364, 382.7171856930176, 187.67675818177932, 547.3123099603346, 3720.238161411099, 556.547198101691, 790.6686255843202, 1376.682334730755, 2761.592965933248, 1486.7973179634657, 757.2481104089242, 1304.7795765768903, 1480.8438694419988, 1393.9613234421304, 2723.2059490778397, 1655.4237651458195, 1488.2070301817612, 2019.968948272649, 1737.6593891075386, 1451.1758503640644, 821.037993386926, 922.7644877728543, 1100.3530392006746, 70.07900217274562, 41.09490178165885, 85.94891115864763, 259.7767944601492, 240.27880669056424, 116.46782527734283, 129.41980070894311, 104.01301400700233, 44.91514657871688, 69.12957333923761, 109.06996773268165, 182.99388134023468, 127.55452428228737, 69.33917559386873, 141.54223004825477, 112.27875949228445, 475.99525892361584, 57.62292258120019, 84.79715122649604, 63.53848831085169, 97.81141871270174, 92.08868921507137, 58.81004506635738, 70.63449994348866, 78.31197148951865, 130.383713653199, 79.59273334453628, 119.13631087986725, 43.68096360691599, 64.64000709430127, 85.27505296412492, 245.0582490003398, 145.13302806752316, 724.1647312611932, 3720.238161411099, 330.40542350672763, 2019.968948272649, 868.7507754216397, 222.9106425283729, 1304.7795765768903, 724.2188533112902, 645.4595076205121, 1655.4237651458195, 2723.2059490778397, 1100.3530392006746, 458.13146403031135, 2761.592965933248, 1666.935450022633, 369.18566698085897, 876.4963539761508, 1737.6593891075386, 1381.690810211832, 960.9844025985276, 1486.7973179634657, 1182.5218427871805, 1307.2735440137412, 1141.3833249108138, 92.40126448657527, 52.14803293661799, 125.29103811094433, 78.7715258616688, 40.39942380876004, 101.75472445927323, 162.8930920533162, 276.4216388140773, 131.18650586548722, 135.19220353935285, 98.50623868267938, 188.32197104647133, 69.2046773259113, 46.48897156894439, 56.324263897296724, 107.64718500349719, 362.666174638273, 74.83858378513104, 184.20407984720984, 129.89189884604073, 49.92580463239497, 95.66524399416818, 100.98594142197473, 177.670934997626, 355.68926660929674, 311.88307895631823, 50.92746931021577, 195.78239966735578, 68.98822038548681, 132.02638710492832, 190.23863792822266, 177.48582274802965, 298.45567872851143, 2723.2059490778397, 1451.1758503640644, 2019.968948272649, 1488.2070301817612, 3720.238161411099, 1737.6593891075386, 1376.682334730755, 1307.2735440137412, 301.11395822739547, 1141.3833249108138, 1518.4215968227143, 906.3346551711812, 1480.8438694419988, 2761.592965933248, 1655.4237651458195, 1486.7973179634657, 87.2613441508785, 247.23556291117154, 198.01578433286434, 92.1681348794663, 80.7825414243758, 106.28347578977922, 48.91822548273273, 88.6300123335864, 85.35105465385935, 241.76333220306827, 89.47799023420606, 61.54677431214313, 176.62952911661628, 40.952198452671915, 274.4241948217554, 82.28326406994752, 47.6511115414916, 61.57503544931725, 71.84835638592381, 75.28490512566863, 64.3957583375129, 725.6200475429895, 103.37974650515905, 132.84948384736123, 94.60844676260456, 55.756675368218296, 81.80885946238236, 63.6952519267578, 67.73805246364152, 168.75528283965255, 406.4715245035584, 501.4879098222025, 1451.1758503640644, 1488.2070301817612, 1737.6593891075386, 3720.238161411099, 1480.8438694419988, 2019.968948272649, 830.0305125235608, 292.36021731225645, 508.856391251607, 582.1816370287953, 2723.2059490778397, 689.4984303468021, 457.4476270255147, 2761.592965933248, 1655.4237651458195, 821.8254246292928, 1307.2735440137412, 1486.7973179634657, 55.478788153242775, 58.99735914487616, 113.8658883155883, 52.316523841283136, 153.85469048086472, 44.07997745945829, 192.00536237361118, 76.3638503864317, 52.58271734804556, 52.552012604027574, 90.33158526012755, 72.08598785211369, 73.70821968580255, 112.05260887758425, 81.95859072930249, 279.09458955372736, 111.96418067077414, 138.4691256141947, 75.97853856331997, 198.54500001294446, 70.12845229531834, 111.3732355358223, 130.13020255527417, 60.80449063106124, 40.54781838876346, 44.91340905083223, 48.369714899562, 352.9858270090791, 110.14475034238922, 57.45797848879636, 111.06061159690677, 203.4945322958343, 375.453411905076, 105.13126724348396, 208.3203687436254, 872.8511832771491, 419.99414224621376, 362.42920180813854, 2019.968948272649, 582.1816370287953, 3720.238161411099, 2761.592965933248, 282.74377377431455, 1480.8438694419988, 1737.6593891075386, 2723.2059490778397, 872.0792219419844, 546.8548220446585, 1182.5218427871805], \"Category\": [\"Default\", \"Default\", \"Default\", \"Default\", \"Default\", \"Default\", \"Default\", \"Default\", \"Default\", \"Default\", \"Default\", \"Default\", \"Default\", \"Default\", \"Default\", \"Default\", \"Default\", \"Default\", \"Default\", \"Default\", \"Default\", \"Default\", \"Default\", \"Default\", \"Default\", \"Default\", \"Default\", \"Default\", \"Default\", \"Default\", \"Topic1\", \"Topic1\", \"Topic1\", \"Topic1\", \"Topic1\", \"Topic1\", \"Topic1\", \"Topic1\", \"Topic1\", \"Topic1\", \"Topic1\", \"Topic1\", \"Topic1\", \"Topic1\", \"Topic1\", \"Topic1\", \"Topic1\", \"Topic1\", \"Topic1\", \"Topic1\", \"Topic1\", \"Topic1\", \"Topic1\", \"Topic1\", \"Topic1\", \"Topic1\", \"Topic1\", \"Topic1\", \"Topic1\", \"Topic1\", \"Topic1\", \"Topic1\", \"Topic1\", \"Topic1\", \"Topic1\", \"Topic1\", \"Topic1\", \"Topic1\", \"Topic1\", \"Topic1\", \"Topic1\", \"Topic1\", \"Topic1\", \"Topic1\", \"Topic1\", \"Topic1\", \"Topic1\", \"Topic1\", \"Topic1\", \"Topic1\", \"Topic1\", \"Topic1\", \"Topic1\", \"Topic1\", \"Topic1\", \"Topic1\", \"Topic1\", \"Topic1\", \"Topic1\", \"Topic1\", \"Topic1\", \"Topic1\", \"Topic1\", \"Topic1\", \"Topic1\", \"Topic1\", \"Topic1\", \"Topic1\", \"Topic1\", \"Topic2\", \"Topic2\", \"Topic2\", \"Topic2\", \"Topic2\", \"Topic2\", \"Topic2\", \"Topic2\", \"Topic2\", \"Topic2\", \"Topic2\", \"Topic2\", \"Topic2\", \"Topic2\", \"Topic2\", \"Topic2\", \"Topic2\", \"Topic2\", \"Topic2\", \"Topic2\", \"Topic2\", \"Topic2\", \"Topic2\", \"Topic2\", \"Topic2\", \"Topic2\", \"Topic2\", \"Topic2\", \"Topic2\", \"Topic2\", \"Topic2\", \"Topic2\", \"Topic2\", \"Topic2\", \"Topic2\", \"Topic2\", \"Topic2\", \"Topic2\", \"Topic2\", \"Topic2\", \"Topic2\", \"Topic2\", \"Topic2\", \"Topic2\", \"Topic2\", \"Topic2\", \"Topic2\", \"Topic2\", \"Topic2\", \"Topic2\", \"Topic2\", \"Topic2\", \"Topic2\", \"Topic2\", \"Topic2\", \"Topic2\", \"Topic2\", \"Topic2\", \"Topic3\", \"Topic3\", \"Topic3\", \"Topic3\", \"Topic3\", \"Topic3\", \"Topic3\", \"Topic3\", \"Topic3\", \"Topic3\", \"Topic3\", \"Topic3\", \"Topic3\", \"Topic3\", \"Topic3\", \"Topic3\", \"Topic3\", \"Topic3\", \"Topic3\", \"Topic3\", \"Topic3\", \"Topic3\", \"Topic3\", \"Topic3\", \"Topic3\", \"Topic3\", \"Topic3\", \"Topic3\", \"Topic3\", \"Topic3\", \"Topic3\", \"Topic3\", \"Topic3\", \"Topic3\", \"Topic3\", \"Topic3\", \"Topic3\", \"Topic3\", \"Topic3\", \"Topic3\", \"Topic3\", \"Topic3\", \"Topic3\", \"Topic3\", \"Topic3\", \"Topic3\", \"Topic3\", \"Topic3\", \"Topic3\", \"Topic3\", \"Topic3\", \"Topic3\", \"Topic3\", \"Topic3\", \"Topic3\", \"Topic3\", \"Topic3\", \"Topic3\", \"Topic4\", \"Topic4\", \"Topic4\", \"Topic4\", \"Topic4\", \"Topic4\", \"Topic4\", \"Topic4\", \"Topic4\", \"Topic4\", \"Topic4\", \"Topic4\", \"Topic4\", \"Topic4\", \"Topic4\", \"Topic4\", \"Topic4\", \"Topic4\", \"Topic4\", \"Topic4\", \"Topic4\", \"Topic4\", \"Topic4\", \"Topic4\", \"Topic4\", \"Topic4\", \"Topic4\", \"Topic4\", \"Topic4\", \"Topic4\", \"Topic4\", \"Topic4\", \"Topic4\", \"Topic4\", \"Topic4\", \"Topic4\", \"Topic4\", \"Topic4\", \"Topic4\", \"Topic4\", \"Topic4\", \"Topic4\", \"Topic4\", \"Topic4\", \"Topic4\", \"Topic4\", \"Topic4\", \"Topic4\", \"Topic4\", \"Topic4\", \"Topic4\", \"Topic4\", \"Topic4\", \"Topic4\", \"Topic4\", \"Topic4\", \"Topic4\", \"Topic4\", \"Topic4\", \"Topic4\", \"Topic4\", \"Topic5\", \"Topic5\", \"Topic5\", \"Topic5\", \"Topic5\", \"Topic5\", \"Topic5\", \"Topic5\", \"Topic5\", \"Topic5\", \"Topic5\", \"Topic5\", \"Topic5\", \"Topic5\", \"Topic5\", \"Topic5\", \"Topic5\", \"Topic5\", \"Topic5\", \"Topic5\", \"Topic5\", \"Topic5\", \"Topic5\", \"Topic5\", \"Topic5\", \"Topic5\", \"Topic5\", \"Topic5\", \"Topic5\", \"Topic5\", \"Topic5\", \"Topic5\", \"Topic5\", \"Topic5\", \"Topic5\", \"Topic5\", \"Topic5\", \"Topic5\", \"Topic5\", \"Topic5\", \"Topic5\", \"Topic5\", \"Topic5\", \"Topic5\", \"Topic5\", \"Topic5\", \"Topic5\", \"Topic5\", \"Topic5\", \"Topic5\", \"Topic5\", \"Topic5\", \"Topic5\", \"Topic5\", \"Topic5\", \"Topic5\", \"Topic5\", \"Topic5\", \"Topic5\", \"Topic5\", \"Topic6\", \"Topic6\", \"Topic6\", \"Topic6\", \"Topic6\", \"Topic6\", \"Topic6\", \"Topic6\", \"Topic6\", \"Topic6\", \"Topic6\", \"Topic6\", \"Topic6\", \"Topic6\", \"Topic6\", \"Topic6\", \"Topic6\", \"Topic6\", \"Topic6\", \"Topic6\", \"Topic6\", \"Topic6\", \"Topic6\", \"Topic6\", \"Topic6\", \"Topic6\", \"Topic6\", \"Topic6\", \"Topic6\", \"Topic6\", \"Topic6\", \"Topic6\", \"Topic6\", \"Topic6\", \"Topic6\", \"Topic6\", \"Topic6\", \"Topic6\", \"Topic6\", \"Topic6\", \"Topic6\", \"Topic6\", \"Topic6\", \"Topic6\", \"Topic6\", \"Topic6\", \"Topic6\", \"Topic6\", \"Topic6\", \"Topic6\", \"Topic6\", \"Topic6\", \"Topic6\", \"Topic6\", \"Topic6\", \"Topic6\", \"Topic6\", \"Topic7\", \"Topic7\", \"Topic7\", \"Topic7\", \"Topic7\", \"Topic7\", \"Topic7\", \"Topic7\", \"Topic7\", \"Topic7\", \"Topic7\", \"Topic7\", \"Topic7\", \"Topic7\", \"Topic7\", \"Topic7\", \"Topic7\", \"Topic7\", \"Topic7\", \"Topic7\", \"Topic7\", \"Topic7\", \"Topic7\", \"Topic7\", \"Topic7\", \"Topic7\", \"Topic7\", \"Topic7\", \"Topic7\", \"Topic7\", \"Topic7\", \"Topic7\", \"Topic7\", \"Topic7\", \"Topic7\", \"Topic7\", \"Topic7\", \"Topic7\", \"Topic7\", \"Topic7\", \"Topic7\", \"Topic7\", \"Topic7\", \"Topic7\", \"Topic7\", \"Topic7\", \"Topic7\", \"Topic7\", \"Topic7\", \"Topic8\", \"Topic8\", \"Topic8\", \"Topic8\", \"Topic8\", \"Topic8\", \"Topic8\", \"Topic8\", \"Topic8\", \"Topic8\", \"Topic8\", \"Topic8\", \"Topic8\", \"Topic8\", \"Topic8\", \"Topic8\", \"Topic8\", \"Topic8\", \"Topic8\", \"Topic8\", \"Topic8\", \"Topic8\", \"Topic8\", \"Topic8\", \"Topic8\", \"Topic8\", \"Topic8\", \"Topic8\", \"Topic8\", \"Topic8\", \"Topic8\", \"Topic8\", \"Topic8\", \"Topic8\", \"Topic8\", \"Topic8\", \"Topic8\", \"Topic8\", \"Topic8\", \"Topic8\", \"Topic8\", \"Topic8\", \"Topic8\", \"Topic8\", \"Topic8\", \"Topic8\", \"Topic8\", \"Topic8\", \"Topic8\", \"Topic8\", \"Topic9\", \"Topic9\", \"Topic9\", \"Topic9\", \"Topic9\", \"Topic9\", \"Topic9\", \"Topic9\", \"Topic9\", \"Topic9\", \"Topic9\", \"Topic9\", \"Topic9\", \"Topic9\", \"Topic9\", \"Topic9\", \"Topic9\", \"Topic9\", \"Topic9\", \"Topic9\", \"Topic9\", \"Topic9\", \"Topic9\", \"Topic9\", \"Topic9\", \"Topic9\", \"Topic9\", \"Topic9\", \"Topic9\", \"Topic9\", \"Topic9\", \"Topic9\", \"Topic9\", \"Topic9\", \"Topic9\", \"Topic9\", \"Topic9\", \"Topic9\", \"Topic9\", \"Topic9\", \"Topic9\", \"Topic9\", \"Topic9\", \"Topic9\", \"Topic9\", \"Topic9\", \"Topic9\", \"Topic9\", \"Topic9\"], \"logprob\": [30.0, 29.0, 28.0, 27.0, 26.0, 25.0, 24.0, 23.0, 22.0, 21.0, 20.0, 19.0, 18.0, 17.0, 16.0, 15.0, 14.0, 13.0, 12.0, 11.0, 10.0, 9.0, 8.0, 7.0, 6.0, 5.0, 4.0, 3.0, 2.0, 1.0, -5.7144, -5.9476, -5.9367, -6.2781, -6.0072, -6.3382, -6.6161, -6.7929, -5.0278, -6.9224, -6.2615, -6.4096, -6.984, -6.9382, -7.1542, -5.3254, -6.4211, -7.4592, -7.4593, -6.4262, -7.0455, -7.7334, -7.6263, -6.1378, -7.0564, -6.6206, -7.2115, -6.9598, -6.4958, -4.3324, -5.6045, -6.156, -5.7561, -6.1659, -6.4358, -5.4794, -6.6958, -5.4542, -6.4963, -4.3966, -6.1663, -5.2329, -5.5512, -5.7381, -5.7356, -6.2353, -5.5413, -6.1287, -5.1689, -4.3906, -5.8779, -4.9619, -5.1372, -5.2064, -4.6382, -5.5309, -5.5913, -5.3022, -5.4032, -5.4028, -5.2009, -5.4473, -4.8775, -5.2551, -5.1885, -5.6066, -5.5006, -5.489, -5.5599, -5.7373, -5.0454, -4.2353, -5.5297, -5.7282, -6.264, -6.556, -6.5715, -4.8152, -6.9365, -6.92, -5.1134, -5.3269, -5.3852, -4.3267, -6.8761, -7.1873, -4.9181, -5.9352, -6.5612, -6.779, -5.9093, -7.1802, -5.5308, -6.1832, -6.6179, -6.4019, -3.8334, -5.3978, -6.3523, -5.4202, -6.2771, -5.4626, -4.383, -5.9012, -5.9336, -5.9031, -4.7088, -5.2493, -6.008, -5.9659, -5.0451, -5.4405, -5.1559, -5.6569, -5.2783, -4.8579, -4.5104, -5.2438, -5.0092, -4.7546, -5.5721, -5.3752, -5.0141, -5.3789, -5.4157, -5.4719, -5.4682, -6.3816, -5.1448, -6.1755, -6.2902, -6.0211, -5.5266, -4.1282, -5.4092, -5.7433, -4.5305, -6.6187, -5.2171, -5.7721, -5.7453, -5.6909, -4.6709, -6.3447, -6.0059, -4.7431, -4.9728, -6.1223, -4.6837, -6.9836, -6.4007, -6.458, -5.9528, -6.1981, -5.5425, -6.2031, -6.4168, -5.2337, -5.4174, -5.8555, -5.8904, -4.9038, -4.8737, -4.8952, -4.8869, -4.9259, -5.2507, -5.3793, -5.5062, -5.6093, -5.184, -4.9812, -5.4474, -4.8632, -5.3475, -5.0173, -5.034, -4.7575, -5.2898, -5.3627, -5.2763, -5.2074, -5.338, -5.3702, -5.3848, -5.943, -5.9941, -5.8926, -5.8705, -6.1379, -6.3936, -6.0881, -6.2526, -5.4237, -5.3287, -6.3123, -6.2287, -6.7735, -5.7849, -6.9395, -5.0069, -5.7815, -5.3478, -6.7191, -6.7149, -6.5768, -6.5316, -6.3389, -6.0976, -5.6862, -6.0303, -6.6223, -3.4601, -7.0299, -6.4196, -4.1029, -5.6649, -5.2693, -5.8582, -5.4876, -6.1219, -4.692, -5.3548, -5.1662, -5.2361, -5.7385, -5.1555, -5.4619, -5.3336, -5.8131, -5.5847, -5.3404, -5.2023, -5.2155, -5.2448, -5.1658, -5.248, -5.6823, -5.4248, -5.459, -5.2954, -5.5518, -5.4253, -5.5094, -5.5635, -5.6392, -3.9334, -4.6407, -5.3787, -6.1617, -5.8094, -5.8744, -4.7145, -5.5987, -4.7743, -4.9623, -6.0875, -5.9856, -3.9623, -5.5682, -5.5661, -4.5144, -6.1267, -6.1949, -6.0189, -5.4521, -6.0191, -6.4242, -6.6663, -5.8324, -6.5415, -5.4786, -6.425, -5.6094, -5.6255, -6.626, -5.8679, -5.4479, -4.8707, -5.763, -5.4628, -5.0139, -5.3568, -5.419, -5.2584, -5.6906, -5.1374, -4.3665, -5.2345, -5.0877, -4.9173, -4.6783, -4.9338, -5.1725, -5.0231, -5.0071, -5.0606, -4.925, -5.0798, -5.1287, -5.1242, -5.1456, -5.1765, -5.2706, -5.3199, -5.3482, -5.8271, -6.3701, -5.6323, -4.5816, -4.6718, -5.3981, -5.3055, -5.6831, -6.5751, -6.1565, -5.7637, -5.274, -5.6793, -6.2898, -5.5934, -5.8446, -4.4175, -6.5367, -6.1754, -6.5002, -6.076, -6.1525, -6.6378, -6.4722, -6.3912, -5.9334, -6.451, -6.0636, -7.0714, -6.6845, -6.4279, -5.485, -5.9761, -4.7847, -3.6923, -5.4491, -4.3967, -4.9275, -5.7589, -4.7676, -5.1274, -5.2179, -4.7536, -4.5251, -4.9762, -5.416, -4.6761, -4.9048, -5.5304, -5.332, -5.2828, -5.3848, -5.4421, -5.4517, -5.4777, -5.513, -5.5543, -5.3788, -5.9568, -5.0809, -5.5458, -6.2142, -5.2924, -4.8448, -4.3191, -5.0688, -5.0397, -5.3566, -4.7174, -5.823, -6.2425, -6.0707, -5.4488, -4.247, -5.8374, -4.976, -5.3379, -6.3662, -5.7246, -5.7085, -5.1474, -4.5167, -4.8214, -6.6381, -5.2928, -6.4078, -5.7629, -5.4242, -5.5569, -5.2636, -4.219, -4.54, -4.4094, -4.5674, -4.2036, -4.5652, -4.6876, -4.9877, -5.4133, -5.1199, -5.0678, -5.2105, -5.2742, -5.2541, -5.293, -5.348, -5.2318, -4.1943, -4.4234, -5.2123, -5.3875, -5.1304, -5.9273, -5.3377, -5.4471, -4.4084, -5.4261, -5.8537, -4.8109, -6.3246, -4.4664, -5.6848, -6.3931, -6.1545, -6.0166, -5.9744, -6.1432, -3.7759, -5.7294, -5.4828, -5.8917, -6.4598, -6.1141, -6.3891, -6.3738, -5.4639, -4.7018, -4.5492, -3.6557, -3.652, -3.6342, -3.5999, -4.3748, -4.244, -4.8893, -5.4105, -5.1867, -5.2233, -4.8081, -5.2075, -5.3228, -5.0253, -5.1286, -5.2419, -5.191, -5.2049, -5.5059, -5.4477, -4.8788, -5.6582, -4.5858, -5.8487, -4.3862, -5.3089, -5.6873, -5.708, -5.2333, -5.4682, -5.4463, -5.1379, -5.477, -4.2861, -5.2137, -5.0228, -5.6255, -4.6803, -5.7742, -5.3452, -5.2298, -6.0457, -6.4834, -6.4267, -6.3627, -4.4065, -5.5748, -6.2278, -5.5746, -5.1212, -4.622, -5.7121, -5.2037, -4.3985, -4.9395, -5.0584, -4.3599, -4.9087, -4.3137, -4.4193, -5.2572, -5.0627, -5.137, -5.1238, -5.2702, -5.3204, -5.3057], \"loglift\": [30.0, 29.0, 28.0, 27.0, 26.0, 25.0, 24.0, 23.0, 22.0, 21.0, 20.0, 19.0, 18.0, 17.0, 16.0, 15.0, 14.0, 13.0, 12.0, 11.0, 10.0, 9.0, 8.0, 7.0, 6.0, 5.0, 4.0, 3.0, 2.0, 1.0, 1.3673, 1.3652, 1.3646, 1.3639, 1.3619, 1.3608, 1.3604, 1.3594, 1.358, 1.3574, 1.3566, 1.3564, 1.3557, 1.3553, 1.3547, 1.3546, 1.3538, 1.3537, 1.3536, 1.3497, 1.3487, 1.3477, 1.3469, 1.3452, 1.3448, 1.3434, 1.3427, 1.3411, 1.3365, 1.3354, 1.3342, 1.3252, 1.3059, 1.3122, 1.3209, 1.2785, 1.3274, 1.2012, 1.2973, 0.9095, 1.2159, 1.031, 1.0858, 1.123, 1.0964, 1.2261, 0.9982, 1.191, 0.7841, 0.4106, 1.0752, 0.5872, 0.6447, 0.654, 0.177, 0.739, 0.724, 0.398, 0.4948, 0.487, 0.2195, 0.5066, -0.3743, 0.0579, -0.0745, 0.6508, 0.237, 0.1604, -0.0662, 1.7381, 1.7373, 1.7366, 1.7352, 1.7345, 1.7327, 1.7303, 1.7298, 1.7279, 1.7268, 1.7263, 1.7259, 1.7247, 1.7243, 1.7219, 1.7203, 1.7191, 1.7165, 1.7163, 1.7101, 1.7048, 1.7046, 1.7045, 1.7031, 1.7031, 1.6995, 1.6977, 1.6971, 1.6951, 1.6948, 1.6847, 1.6931, 1.6477, 1.5896, 1.6466, 1.6193, 1.6147, 1.4487, 1.4227, 1.5858, 1.5597, 1.2491, 1.3458, 1.1548, 1.3401, 1.0288, 0.627, -0.0071, 0.8152, 0.4882, 0.0607, 1.0876, 0.6362, -0.2129, 0.5185, 0.444, 0.3849, 0.2695, 1.9943, 1.9726, 1.9695, 1.9597, 1.9499, 1.9492, 1.935, 1.9302, 1.922, 1.9002, 1.897, 1.8881, 1.8879, 1.8782, 1.8678, 1.8586, 1.8539, 1.8512, 1.8308, 1.8301, 1.8177, 1.7529, 1.7479, 1.7464, 1.7406, 1.7224, 1.7213, 1.7198, 1.7121, 1.7065, 1.6638, 1.6348, 1.6296, 1.6349, 1.3972, 1.3285, 1.3299, 1.2303, 1.2139, 1.306, 1.3521, 1.4141, 1.4665, 1.0935, 0.8784, 1.3033, 0.6217, 1.0723, 0.4764, 0.3904, -0.2542, 0.7245, 0.8188, 0.2211, -0.3922, -0.025, 0.1809, -0.1203, 2.1122, 2.1063, 2.0935, 2.0907, 2.0847, 2.0838, 2.081, 2.0702, 2.0603, 2.058, 2.0419, 2.0328, 2.0309, 2.0239, 2.0205, 2.0149, 1.9992, 1.9985, 1.9945, 1.9915, 1.9841, 1.9636, 1.9624, 1.9599, 1.9545, 1.9462, 1.9426, 1.9393, 1.926, 1.9045, 1.8549, 1.8885, 1.8702, 1.8602, 1.772, 1.8858, 1.5629, 1.6626, 1.589, 1.5853, 1.7269, 1.3883, 1.5168, 1.3935, 1.6956, 1.4133, 1.0802, 0.8568, 0.6442, 0.6706, 0.2587, 0.2458, 1.2999, 0.3128, 0.3978, -0.4941, 0.6733, -0.1608, 0.14, -0.0661, -0.824, 2.2238, 2.2192, 2.2153, 2.2078, 2.2054, 2.2051, 2.1991, 2.1989, 2.1625, 2.1624, 2.1351, 2.1264, 2.1193, 2.1088, 2.0992, 2.0888, 2.0784, 2.0673, 2.0576, 2.0499, 2.0473, 2.0459, 2.045, 2.0371, 2.037, 2.0268, 2.0251, 2.0183, 2.0179, 2.0076, 1.9679, 1.9406, 1.8683, 1.9269, 1.8683, 1.6064, 1.7375, 1.7591, 1.5191, 1.7995, 1.2824, 0.1367, 1.1686, 0.9642, 0.5801, 0.123, 0.4866, 0.9226, 0.5279, 0.4174, 0.4243, -0.1097, 0.2332, 0.2908, -0.0102, 0.1189, 0.2682, 0.7436, 0.5775, 0.3732, 2.6481, 2.6388, 2.6387, 2.5833, 2.5712, 2.5691, 2.5562, 2.3972, 2.345, 2.3323, 2.2691, 2.2414, 2.197, 2.196, 2.1788, 2.1593, 2.1419, 2.1342, 2.1091, 2.073, 2.0658, 2.0496, 2.0127, 1.9951, 1.9729, 1.9209, 1.8969, 1.8809, 1.8765, 1.8714, 1.851, 1.7383, 1.7711, 1.3551, 0.811, 1.4754, 0.7172, 1.0303, 1.5591, 0.7834, 1.0123, 1.0369, 0.5594, 0.2901, 0.7452, 1.1817, 0.1251, 0.4013, 1.2831, 0.6169, -0.0183, 0.1089, 0.4147, -0.0313, 0.1717, 0.0361, 0.1305, 2.8199, 2.8139, 2.8133, 2.8125, 2.8118, 2.8098, 2.7869, 2.7838, 2.7794, 2.7784, 2.7781, 2.7692, 2.6648, 2.6431, 2.623, 2.5972, 2.5844, 2.5721, 2.5327, 2.5203, 2.4481, 2.4394, 2.4013, 2.3974, 2.334, 2.1608, 2.1563, 2.155, 2.0831, 2.079, 2.0523, 1.989, 1.7625, 0.5963, 0.9047, 0.7045, 0.8521, 0.2997, 0.6993, 0.8098, 0.5614, 1.604, 0.5649, 0.3316, 0.7049, 0.1503, -0.4528, 0.02, 0.0724, 3.0241, 3.0201, 3.013, 2.9889, 2.9456, 2.9283, 2.9073, 2.9027, 2.8309, 2.8284, 2.8047, 2.7513, 2.7399, 2.6879, 2.6438, 2.6298, 2.4678, 2.45, 2.4337, 2.4291, 2.4166, 2.3619, 2.357, 2.3528, 2.2834, 2.244, 2.2063, 2.1816, 2.1354, 2.1324, 2.0155, 1.9581, 1.789, 1.7675, 1.6303, 0.9033, 1.0496, 0.8699, 1.114, 1.6363, 1.306, 1.1347, 0.0072, 0.9814, 1.2763, -0.224, 0.1844, 0.7714, 0.3581, 0.2155, 3.2029, 3.1996, 3.111, 3.1093, 3.103, 3.0901, 3.0811, 3.0804, 3.0752, 3.055, 2.988, 2.9788, 2.9783, 2.8679, 2.8416, 2.8072, 2.7929, 2.7714, 2.7689, 2.7535, 2.7003, 2.6667, 2.6265, 2.5715, 2.539, 2.4933, 2.4833, 2.4519, 2.4482, 2.446, 2.4401, 2.288, 2.1747, 2.3575, 2.1821, 1.5545, 1.745, 1.7736, 0.7541, 1.4494, 0.1896, 0.3819, 1.8231, 0.3617, 0.1275, -0.3085, 0.6837, 1.1002, 0.3437]}, \"token.table\": {\"Topic\": [1, 2, 3, 4, 1, 2, 3, 4, 5, 6, 8, 1, 2, 3, 4, 5, 6, 7, 8, 9, 1, 2, 3, 4, 5, 6, 7, 8, 9, 2, 3, 5, 6, 7, 9, 2, 3, 4, 5, 6, 7, 8, 4, 8, 2, 4, 8, 7, 1, 2, 3, 4, 5, 6, 7, 8, 9, 4, 5, 7, 1, 2, 3, 4, 6, 8, 2, 3, 4, 6, 4, 6, 7, 8, 1, 2, 3, 4, 6, 7, 8, 9, 1, 7, 1, 2, 3, 4, 5, 6, 7, 8, 9, 1, 2, 3, 4, 5, 7, 8, 9, 1, 2, 6, 8, 2, 3, 4, 5, 9, 3, 4, 6, 1, 5, 9, 1, 2, 3, 4, 5, 6, 7, 8, 9, 1, 2, 3, 4, 5, 7, 8, 9, 1, 2, 3, 4, 5, 8, 9, 1, 2, 3, 4, 5, 6, 7, 8, 9, 1, 2, 4, 9, 4, 5, 4, 8, 1, 5, 9, 1, 3, 9, 1, 7, 8, 9, 5, 6, 7, 1, 2, 4, 6, 9, 4, 7, 8, 1, 2, 3, 4, 5, 6, 1, 2, 3, 4, 5, 6, 7, 8, 9, 4, 8, 1, 2, 3, 4, 5, 6, 7, 8, 9, 1, 2, 4, 6, 9, 1, 3, 7, 9, 1, 2, 7, 9, 1, 2, 1, 2, 3, 4, 5, 6, 7, 8, 9, 1, 9, 1, 5, 9, 1, 5, 8, 9, 1, 2, 3, 4, 5, 6, 7, 8, 9, 1, 2, 4, 6, 7, 8, 9, 2, 3, 5, 8, 9, 1, 2, 3, 4, 5, 6, 7, 8, 9, 1, 2, 3, 4, 5, 6, 7, 8, 1, 3, 7, 9, 2, 5, 7, 1, 2, 3, 8, 1, 1, 2, 3, 4, 5, 6, 7, 8, 2, 3, 5, 9, 5, 7, 1, 2, 3, 4, 5, 6, 7, 8, 9, 1, 2, 3, 4, 7, 8, 2, 3, 4, 5, 6, 7, 8, 9, 1, 2, 3, 5, 6, 7, 9, 1, 2, 3, 4, 5, 6, 7, 8, 9, 1, 2, 7, 2, 3, 1, 2, 3, 4, 5, 6, 7, 8, 1, 3, 4, 5, 6, 7, 1, 3, 4, 8, 1, 2, 3, 5, 6, 7, 8, 9, 1, 1, 8, 9, 1, 9, 1, 1, 8, 4, 6, 8, 1, 2, 3, 4, 6, 7, 8, 1, 2, 3, 4, 5, 6, 7, 8, 9, 2, 3, 4, 5, 6, 7, 9, 3, 4, 5, 6, 7, 8, 9, 1, 2, 3, 4, 5, 6, 7, 8, 9, 1, 2, 3, 4, 5, 6, 7, 8, 2, 3, 4, 5, 7, 8, 9, 1, 2, 3, 4, 5, 6, 7, 8, 9, 1, 2, 4, 5, 6, 9, 2, 3, 4, 8, 1, 2, 8, 9, 1, 2, 3, 4, 6, 8, 2, 3, 4, 5, 7, 8, 9, 2, 9, 1, 1, 2, 3, 4, 5, 6, 7, 8, 2, 3, 4, 5, 6, 7, 8, 1, 2, 3, 4, 5, 6, 7, 8, 9, 3, 5, 6, 7, 2, 3, 4, 6, 7, 2, 3, 4, 1, 2, 3, 9, 4, 5, 6, 7, 8, 9, 1, 4, 7, 8, 9, 1, 2, 3, 4, 6, 7, 1, 2, 3, 4, 5, 6, 7, 8, 9, 1, 9, 1, 4, 5, 6, 7, 8, 1, 2, 3, 4, 5, 6, 8, 2, 9, 2, 2, 3, 4, 9, 2, 3, 4, 6, 8, 2, 4, 6, 3, 4, 8, 2, 3, 4, 5, 2, 3, 4, 5, 6, 8, 1, 3, 4, 5, 6, 7, 8, 1, 2, 3, 4, 5, 6, 7, 8, 9, 1, 2, 3, 4, 8, 2, 2, 3, 4, 5, 6, 7, 8, 9, 1, 2, 3, 4, 9, 1, 2, 3, 4, 5, 6, 7, 8, 9, 2, 3, 4, 5, 6, 7, 8, 2, 3, 4, 5, 6, 7, 1, 2, 3, 4, 5, 7, 9, 6, 8, 1, 2, 3, 4, 5, 6, 7, 8, 9, 2, 3, 5, 6, 5, 8, 1, 3, 4, 7, 8, 2, 3, 2, 3, 1, 2, 3, 6, 8, 9, 1, 2, 3, 2, 3, 4, 5, 7, 9, 1, 2, 3, 4, 5, 6, 7, 8, 9, 2, 3, 2, 1, 2, 3, 4, 5, 6, 7, 8, 9, 1, 2, 4, 5, 6, 8, 9, 1, 4, 5, 6, 7, 8, 1, 2, 3, 5, 6, 8, 1, 8, 1, 2, 3, 4, 5, 6, 7, 8, 9, 1, 4, 1, 3, 5, 7, 9, 1, 2, 3, 4, 5, 6, 7, 8, 9, 1, 2, 3, 4, 5, 6, 7, 8, 9, 1, 2, 3, 4, 5, 6, 7, 8, 9, 2, 3, 4, 5, 8, 2, 3, 4, 5, 8, 2, 3, 4, 2, 3, 4, 6, 8, 9, 2, 4, 1, 3, 4, 5, 9, 1, 3, 4, 5, 6, 8, 1, 4, 8, 2, 3, 4, 5, 9, 2, 3, 4, 8, 9, 1, 2, 3, 5, 7, 1, 2, 3, 4, 5, 6, 7, 8, 9, 2, 3, 4, 6, 8, 1, 2, 4, 6, 7, 1, 3, 4, 5, 6, 7, 8, 9, 1, 2, 3, 4, 5, 6, 7, 8, 9, 1, 2, 3, 4, 5, 6, 7, 8, 9, 2, 3, 4, 5, 6, 7, 8, 1, 2, 3, 4, 5, 6, 7, 8, 1, 2, 3, 4, 6, 7, 2, 3, 4, 5, 6, 7, 8, 9, 1, 4, 5, 7, 8, 4, 6, 8, 1, 1, 2, 3, 4, 5, 6, 7, 8, 9, 2, 4, 1, 2, 1, 2, 3, 4, 5, 6, 7, 8, 9, 1, 2, 3, 4, 5, 6, 7, 8, 9, 4, 6, 7, 8, 1, 4, 1, 2, 3, 4, 5, 6, 7, 8, 9, 1, 2, 3, 4, 5, 6, 7, 8, 9, 1, 9, 1, 2, 3, 4, 5, 6, 7, 8, 9, 1, 3, 7, 9, 2, 5, 7, 9, 2, 4, 5, 7, 9, 1, 2, 3, 4, 5, 6, 7, 2, 3, 4, 5, 7, 8, 1, 2, 3, 4, 5, 6, 7, 8, 9, 3, 5, 8, 2, 3, 4, 6, 8, 1, 2, 3, 4, 5, 6, 7, 8, 9, 5, 7, 8, 1, 4, 6, 8, 1, 4, 8, 1, 5, 8, 1, 1, 5, 8, 9, 3, 4, 8, 1, 1, 1, 2, 3, 4, 5, 6, 7, 8, 9, 1, 2, 4, 6, 9, 1, 2, 3, 4, 5, 6, 7, 9, 3, 4, 6, 7, 8, 4, 6, 7, 4, 5, 8, 1, 3, 4, 5, 6, 7, 8, 4, 8, 1, 2, 4, 7, 1, 2, 3, 4, 5, 6, 7, 8, 9, 1, 2, 3, 4, 6, 9, 1, 7, 8, 1, 2, 3, 4, 5, 6, 7, 8, 9, 1, 1, 2, 3, 4, 6, 8, 1, 4, 5, 6, 7, 8, 4, 8, 1, 2, 3, 4, 5, 6, 7, 8, 9, 1, 2, 3, 4, 5, 6, 7, 8, 9, 1, 2, 3, 4, 5, 7, 9, 1, 2, 3, 4, 5, 6, 7, 8, 9, 1, 2, 3, 4, 5, 6, 7, 8, 9, 1, 2, 3, 4, 5, 6, 7, 8, 9, 1, 3, 5, 7, 9, 1, 4, 5, 6, 7, 8, 2, 3, 4, 5, 6, 7, 1, 2, 3, 4, 5, 6, 7, 8, 9, 1, 6, 7, 8, 1, 7, 9, 1, 2, 3, 4, 5, 6, 7, 8, 9, 4, 6, 7, 8, 1, 4, 5, 6, 8, 2, 4, 6, 7, 1, 2, 3, 4, 7, 9, 1, 2, 3, 4, 5, 6, 7, 8, 9, 1, 2, 3, 4, 5, 6, 7, 8, 9, 3, 4, 5, 6, 8, 1, 4, 6, 7, 8, 4, 6, 8, 2, 3, 4, 5, 8, 1, 2, 3, 4, 5, 6, 7, 8, 2, 3, 4, 5, 6, 7, 8, 3, 4, 5, 6, 8, 1, 2, 3, 4, 5, 6, 7, 8, 9, 1, 4, 6, 7, 8, 9, 1, 3, 5, 7, 9, 1, 3, 7, 9, 5, 7, 8, 3, 5, 7, 1, 8, 1, 2, 3, 4, 5, 6, 7, 8, 9, 1, 8, 1, 6, 2, 3, 4, 6, 7, 8, 1, 2, 3, 4, 5, 6, 7, 8, 1, 3, 4, 8, 9, 1, 2, 3, 4, 5, 6, 7, 8, 9, 1, 2, 3, 4, 5, 6, 7, 8, 9, 1, 2, 3, 4, 5, 6, 7, 8, 9, 1, 2, 3, 4, 5, 6, 7, 8, 9, 1, 2, 3, 4, 5, 6, 8, 9, 1, 4, 2, 3, 1, 2, 3, 4, 5, 6, 7, 8, 9, 1, 2, 3, 4, 6, 8, 4, 7, 1, 4, 5, 6, 8, 1, 9, 1, 3, 4, 7, 9, 1, 2, 3, 4, 4, 7, 1, 2, 3, 4, 5, 6, 7, 8, 9, 1, 2, 3, 4, 8, 4, 5, 6, 7, 8, 1, 4, 6, 7, 8, 2, 3, 4, 7, 2, 3, 4, 4, 7, 8, 1, 2, 3, 4, 6, 8, 1, 2, 3, 4, 5, 6, 7, 8, 9, 1, 2, 6, 9, 1, 2, 3, 4, 5, 6, 7, 8, 2, 3, 6, 8, 1, 2, 5, 7, 9, 1, 4, 5, 6, 7, 1, 2, 4, 6, 7, 1, 4, 5, 7, 1, 2, 3, 4, 5, 6, 7, 8, 9, 1, 2, 3, 4, 5, 6, 7, 8, 9, 1, 2, 3, 4, 5, 6, 7, 8, 9, 1, 2, 3, 4, 6, 7, 8, 9, 2, 3, 5, 8, 1, 3, 4, 6, 7, 9, 1, 2, 3, 5, 7, 1, 2, 3, 4, 5, 6, 7, 8, 9, 8, 1, 2, 3, 4, 6, 9, 1, 2, 3, 4, 5, 6, 7, 8, 9, 2, 3, 4, 6, 7, 1, 2, 3, 4, 5, 6, 7, 8, 9, 1, 2, 3, 4, 6, 7, 8, 9, 4, 8, 1, 2, 3, 6, 2, 3, 4, 9, 1, 2, 3, 4, 5, 6, 7, 8, 9, 7, 1, 4, 6, 7, 8, 2, 3, 4, 5, 6, 7, 8, 1, 2, 4, 9, 1, 4, 7, 9, 1, 1, 1, 2, 3, 4, 5, 6, 7, 8, 9, 1, 2, 3, 4, 6, 8, 9, 1, 2, 3, 4, 5, 6, 7, 8, 9, 2, 4, 6, 8, 1, 4, 6, 8, 4, 7, 8, 1, 2, 3, 4, 5, 6, 8, 1, 9, 1, 3, 4, 5, 8, 2, 3, 5, 2, 3, 1, 2, 4, 6, 7, 8, 3, 4, 7, 8, 1, 2, 3, 4, 5, 6, 7, 8, 9, 1, 3, 4, 6, 7, 8, 4, 7, 8, 1, 2, 3, 4, 5, 6, 7, 8, 9, 3, 7, 2, 3, 4, 5, 6, 7, 8, 9, 1, 2, 3, 4, 5, 6, 7, 8, 9, 2, 3, 4, 5, 6, 7, 8, 2, 3, 5, 9, 1, 2, 3, 4, 7, 8, 9, 2, 3, 4, 5, 1, 2, 3, 4, 6, 8, 9, 1, 2, 3, 9, 1, 2, 3, 4, 6, 7, 9, 1, 2, 3, 4, 5, 6, 7, 8, 9, 1, 2, 3, 4, 5, 6, 7, 8, 9, 2, 3, 4, 5, 6, 2, 4, 5, 7, 8, 9, 1, 3, 5, 6, 7, 9, 4, 6, 7, 8, 1, 2, 4, 5, 6, 7, 9, 1, 4, 6, 7, 8, 1, 2, 3, 4, 5, 6, 7, 8, 9, 4, 6, 7, 8, 1, 3, 5, 7, 9, 1, 2, 3, 4, 5, 6, 7, 8, 4, 6, 7, 8, 1, 2, 3, 4, 5, 6, 7, 8, 9, 1, 2, 3, 4, 5, 6, 7, 8, 9, 3, 4, 6, 7, 8, 1, 2, 3, 4, 7, 9, 2, 4, 5, 6, 7, 8, 2, 1, 2, 3, 4, 6, 7, 8, 9, 2, 1, 2, 3, 4, 5, 7, 8, 9, 1, 3, 4, 5, 6, 7, 8, 2, 3, 5, 6, 9, 1, 2, 3, 4, 5, 6, 7, 8, 9, 1, 2, 3, 4, 5, 7, 8, 1, 2, 3, 4, 5, 6, 7, 8, 1, 3, 7, 9, 1, 2, 3, 4, 5, 6, 7, 8, 1, 2, 3, 4, 5, 6, 7, 8, 9, 1, 2, 3, 4, 5, 6, 7, 8, 9, 1, 2, 3, 4, 5, 6, 7, 8, 9, 1, 2, 3, 4, 5, 6, 7, 8, 9, 2, 3, 4, 5, 9, 1, 2, 3, 4, 5, 6, 7, 8, 9, 2, 2, 3, 4, 6, 7, 8, 1, 2, 3, 4, 5, 6, 7, 8, 9, 1, 2, 4, 5, 8, 9, 1, 2, 3, 4, 5, 6, 7, 8, 9, 1, 2, 3, 4, 5, 6, 7, 8, 1, 2, 3, 4, 5, 6, 7, 8, 9, 1, 4, 6, 8, 1, 2, 5, 7, 8, 9, 3, 5, 9, 1, 2, 3, 4, 5, 6, 7, 8, 9, 1, 2, 3, 4, 5, 7, 8, 9, 3, 4, 9, 1, 2, 3, 4, 5, 6, 7, 8, 1, 2, 3, 4, 5, 6, 7, 8, 9, 1, 2, 3, 4, 5, 6, 7, 8, 9, 6, 7, 1, 2, 3, 4, 5, 6, 7, 8, 9, 1, 2, 3, 4, 5, 6, 7, 8, 9, 1, 2, 3, 4, 7, 8, 9, 2, 3, 4, 5, 6, 7, 1, 2, 3, 4, 6, 7, 8, 1, 2, 3, 4, 5, 6, 7, 8, 9, 1, 2, 3, 4, 5, 7, 9, 5, 7, 3, 6, 9, 1, 4, 7, 8, 1, 2, 3, 4, 5, 6, 7, 8, 9, 1, 2, 3, 4, 5, 6, 7, 8, 9, 1, 3, 4, 5, 7, 8, 2, 1, 2, 3, 4, 5, 6, 7, 8, 9, 1, 2, 3, 4, 5, 6, 7, 8, 9, 1, 2, 3, 4, 5, 6, 7, 8, 9, 1, 3, 5, 7, 9, 1, 2, 3, 4, 5, 6, 7, 8, 3, 6, 7, 8, 6, 7], \"Freq\": [0.012630230124426406, 0.07578138074655844, 0.8651707635232088, 0.03789069037327922, 0.031218143278155804, 0.046827214917233705, 0.015609071639077902, 0.8272807968711288, 0.031218143278155804, 0.046827214917233705, 0.015609071639077902, 0.06210923255656336, 0.16893711255385235, 0.04720301674298816, 0.4794832753366691, 0.09689040278823885, 0.004968738604525069, 0.02235932372036281, 0.05217175534751323, 0.06956234046335097, 0.07183054314182032, 0.14366108628364063, 0.00897881789272754, 0.0897881789272754, 0.09876699682000294, 0.01795763578545508, 0.00897881789272754, 0.00897881789272754, 0.565665527241835, 0.023070829983007593, 0.8382401560492758, 0.0769027666100253, 0.030761106644010123, 0.007690276661002531, 0.023070829983007593, 0.006348727942847039, 0.04444109559992927, 0.012697455885694079, 0.8761244561128914, 0.006348727942847039, 0.006348727942847039, 0.04444109559992927, 0.31702744015158146, 0.6741388095177308, 0.024306279321878094, 0.30382849152347613, 0.6684226813516475, 0.9779851152197182, 0.012403185428069079, 0.28389513313135895, 0.09095669313917325, 0.04134395142689693, 0.053747136854966016, 0.005512526856919591, 0.0027562634284597955, 0.5085306025508323, 0.0013781317142298978, 0.15057334597343827, 0.02151047799620547, 0.8173981638558078, 0.0054781645253740375, 0.876506324059846, 0.010956329050748075, 0.06025980977911441, 0.027390822626870186, 0.016434493576122113, 0.8794791003288358, 0.022696234847195764, 0.07943682196518517, 0.011348117423597882, 0.018416987253321193, 0.012277991502214128, 0.9515443414215949, 0.012277991502214128, 0.007053941637397126, 0.7242046747727716, 0.22337481851757565, 0.007053941637397126, 0.009405255516529501, 0.018810511033059002, 0.009405255516529501, 0.0023513138791323752, 0.9801093277250611, 0.9848350074605434, 0.23739030293594637, 0.13099891716892162, 0.2113352696868791, 0.1519876939528925, 0.11145764223212117, 0.07599384697644625, 0.03401629340850451, 0.020988776783970868, 0.025331282325482082, 0.3264203131460749, 0.1344083642366191, 0.07200448084104594, 0.04800298722736396, 0.04320268850462756, 0.019201194890945582, 0.004800298722736396, 0.35042180675975687, 0.12972133899426208, 0.2712355269880025, 0.5660567519749619, 0.023585697998956743, 0.016711649598670317, 0.8105150055355104, 0.025067474398005475, 0.08355824799335158, 0.06684659839468127, 0.9436263379820968, 0.041027232086178124, 0.010256808021544531, 0.07227968946508655, 0.8312164288484952, 0.07227968946508655, 0.18620053066076073, 0.10696626229447956, 0.14790396761705815, 0.04886113215920671, 0.27071708358479396, 0.050181703298644735, 0.05546398785639681, 0.08847826634234729, 0.04621998988033067, 0.020794679358673965, 0.1195694063123753, 0.0571853682363534, 0.6706284093172353, 0.07278137775535888, 0.010397339679336983, 0.04678802855701642, 0.005198669839668491, 0.934124508575169, 0.003472581816264569, 0.010417745448793706, 0.003472581816264569, 0.010417745448793706, 0.006945163632529138, 0.020835490897587412, 0.23515212964347312, 0.09307073762731147, 0.058911796689628, 0.04950571150388908, 0.10643727973336152, 0.1401011635560061, 0.1183186504942949, 0.11435819357398377, 0.08415970955661144, 0.18090769095894346, 0.06578461489416126, 0.19735384468248376, 0.5098307654297497, 0.8705757809946855, 0.10882197262433568, 0.9809898957436495, 0.009809898957436494, 0.7587688812823049, 0.0027591595682992906, 0.2345285633054397, 0.9530623670421428, 0.013913319226892595, 0.02782663845378519, 0.7783018948288674, 0.17043107186033593, 0.0028405178643389323, 0.04544828582942292, 0.4852387097046325, 0.4980081494337018, 0.012769439729069276, 0.16137683326113345, 0.1844306665841525, 0.030738444430692083, 0.06916149996905718, 0.5456073886447845, 0.030454923872019674, 0.9441026400326099, 0.010151641290673225, 0.06271827710552565, 0.007839784638190706, 0.01567956927638141, 0.039198923190953534, 0.2508731084221026, 0.6193429864170658, 0.02204724290707382, 0.24251967197781202, 0.4953280573122585, 0.1513910679619069, 0.03968503723273288, 0.016167978131854135, 0.008818897162829529, 0.013228345744244292, 0.013228345744244292, 0.9624829681748938, 0.026249535495678922, 0.2045045736087717, 0.022722730400974632, 0.06059394773593236, 0.08331667813690699, 0.03029697386796618, 0.01514848693398309, 0.46960309495347574, 0.01514848693398309, 0.09846516507089008, 0.2292106665078715, 0.03667370664125944, 0.00916842666031486, 0.66012671954267, 0.055010559961889166, 0.013872321512074253, 0.013872321512074253, 0.19421250116903954, 0.7768500046761582, 0.9424556867365358, 0.01053023113672107, 0.01053023113672107, 0.03159069341016321, 0.9671279236059207, 0.017117308382405674, 0.7113560590835167, 0.04377575748206257, 0.012507359280589304, 0.03283181811154692, 0.06879047604324118, 0.05471969685257821, 0.010943939370515642, 0.017197619010810294, 0.04846601721228356, 0.11785681254227481, 0.864283291976682, 0.9812741898687746, 0.002370227511760325, 0.011851137558801624, 0.9535177000660344, 0.009081120953009851, 0.009081120953009851, 0.018162241906019703, 0.23601022271201927, 0.1744423385262751, 0.01026131403095736, 0.1197153303611692, 0.03078394209287208, 0.12313576837148832, 0.01026131403095736, 0.24627153674297664, 0.0513065701547868, 0.03079483813491056, 0.01539741906745528, 0.03079483813491056, 0.13087806207336988, 0.7313774057041258, 0.02309612860118292, 0.038493547668638196, 0.03854043187275522, 0.03854043187275522, 0.8864299330733701, 0.025693621248503485, 0.006423405312125871, 0.0695613790914669, 0.2883635351428082, 0.19856611849746003, 0.026559799289469176, 0.2820397734072203, 0.05311959857893835, 0.037942570413527395, 0.011382771124058218, 0.030354056330821916, 0.009090011900440996, 0.06817508925330747, 0.08181010710396897, 0.09544512495463045, 0.6953859103837362, 0.004545005950220498, 0.013635017850661494, 0.03181504165154349, 0.013567007916657318, 0.013567007916657318, 0.18993811083320247, 0.7733194512494672, 0.10892551638831789, 0.8605115794677114, 0.02178510327766358, 0.008611807511518804, 0.9472988262670684, 0.034447230046075215, 0.008611807511518804, 0.9860907049507962, 0.006128045634720861, 0.0030640228173604307, 0.0030640228173604307, 0.03370425099096473, 0.9345269592949312, 0.009192068452081292, 0.012256091269441723, 0.0030640228173604307, 0.01269775530685102, 0.8951917491329969, 0.05713989888082959, 0.03174438826712755, 0.9756905818259859, 0.012838033971394552, 0.03679589002651034, 0.09987455864338521, 0.04205244574458325, 0.23654500731328076, 0.04205244574458325, 0.04205244574458325, 0.4573203474723428, 0.005256555718072906, 0.03679589002651034, 0.0036176617875874955, 0.010852985362762487, 0.010852985362762487, 0.014470647150349982, 0.9478273883479239, 0.010852985362762487, 0.00877942359574759, 0.048286829776611744, 0.006584567696810692, 0.8669680800800745, 0.03950740618086415, 0.019753703090432076, 0.0021948558989368975, 0.004389711797873795, 0.018343708602223327, 0.030572847670372213, 0.06726026487481887, 0.8071231784978264, 0.02445827813629777, 0.006114569534074443, 0.0428019867385211, 0.3419432338700148, 0.18865833592828402, 0.0707468759731065, 0.04126901098431213, 0.047164583982071004, 0.06288611197609467, 0.056990538978335795, 0.17686718993276626, 0.01375633699477071, 0.007981416828189316, 0.007981416828189316, 0.9737328530390965, 0.9504931671169993, 0.02437161966966665, 0.030029125157198088, 0.14195586437948188, 0.07643777312741332, 0.5814730598621085, 0.02456928421952571, 0.01910944328185333, 0.1091968187534476, 0.01910944328185333, 0.07735147665911697, 0.09282177199094037, 0.23205442997735093, 0.10829206732276377, 0.44863856462287843, 0.030940590663646787, 0.9735208206475405, 0.005290874025258373, 0.010581748050516745, 0.005290874025258373, 0.0011683318555983167, 0.8540505864423695, 0.004673327422393267, 0.1261798404046182, 0.004673327422393267, 0.0011683318555983167, 0.004673327422393267, 0.0023366637111966334, 0.9923304808162733, 0.8418104458174384, 0.00925066423975207, 0.14338529571615707, 0.984678108057406, 0.007084015165880618, 0.9907460410386145, 0.9678207008642402, 0.02250745815963349, 0.08467920279349284, 0.009408800310388092, 0.8938360294868688, 0.005042326929957962, 0.9756902609468656, 0.0037817451974684712, 0.0037817451974684712, 0.0075634903949369425, 0.0012605817324894905, 0.002521163464978981, 0.1026608644953994, 0.2807460375996637, 0.4839726469068829, 0.018856077152216218, 0.00209511968357958, 0.027236555886534536, 0.00209511968357958, 0.029331675570114117, 0.050282872405909916, 0.004582849587587304, 0.9028213687546989, 0.05041134546346034, 0.013748548762761912, 0.004582849587587304, 0.013748548762761912, 0.009165699175174609, 0.8333081125464611, 0.02164436655964834, 0.05411091639912085, 0.04328873311929668, 0.01082218327982417, 0.01082218327982417, 0.02164436655964834, 0.17418239690176485, 0.17310719692088977, 0.10187519818791493, 0.02849279949318993, 0.123110397810198, 0.15402239726035688, 0.07902719859431924, 0.11827199789626008, 0.04784639914894158, 0.0065086796057095015, 0.6671396595852239, 0.022780378619983256, 0.03254339802854751, 0.009763019408564253, 0.019526038817128506, 0.009763019408564253, 0.23105812600268733, 0.06189668201222828, 0.6739860930220413, 0.024070931893644332, 0.04126445467481885, 0.0034387045562349044, 0.0034387045562349044, 0.18912875059291975, 0.04384693557419148, 0.23263235262973816, 0.2703894360408475, 0.08282198941791725, 0.226542500466656, 0.056026639900355786, 0.04871881730465721, 0.031667231248027186, 0.007307822595698581, 0.9238814133368048, 0.021653470625081366, 0.007217823541693788, 0.021653470625081366, 0.014435647083387576, 0.007217823541693788, 0.01225363174802692, 0.01225363174802692, 0.9435296445980729, 0.02450726349605384, 0.16247805204678303, 0.06499122081871321, 0.7473990394152019, 0.016247805204678303, 0.0042427492421464, 0.0466702416636104, 0.7339956188913271, 0.18243821741229518, 0.025456495452878397, 0.0042427492421464, 0.011974790373079051, 0.0029936975932697628, 0.0059873951865395255, 0.9699580202194031, 0.0059873951865395255, 0.0029936975932697628, 0.0029936975932697628, 0.9659337875632953, 0.023275512953332418, 0.9677348161065321, 0.013402324985206859, 0.09381627489644802, 0.07371278741863772, 0.16417848106878402, 0.14407499359097373, 0.1340232498520686, 0.3417592871227749, 0.03685639370931886, 0.030671265579040433, 0.11246130712314825, 0.04089502077205391, 0.030671265579040433, 0.5418590252297143, 0.21469885905328304, 0.04089502077205391, 0.26897186361469627, 0.20150986524879527, 0.08936524458859617, 0.05081553123665272, 0.12265817884709278, 0.07797555655279469, 0.10338332217112105, 0.042054232747574666, 0.04293036259648247, 0.06946422099809114, 0.9030348729751849, 0.00992346014258445, 0.00992346014258445, 0.11572471250099903, 0.10125912343837415, 0.014465589062624878, 0.7088138640686191, 0.057862356250499514, 0.9759517816250132, 0.014566444501865868, 0.003641611125466467, 0.022083801463754882, 0.8281425548908081, 0.011041900731877441, 0.1325028087825293, 0.03512904574997636, 0.00878226143749409, 0.00878226143749409, 0.04391130718747045, 0.00878226143749409, 0.8870084051869032, 0.005050102462129994, 0.010100204924259988, 0.005050102462129994, 0.9746697751910888, 0.9733449809833971, 0.034007795738692795, 0.0510116936080392, 0.170038978693464, 0.18704287656281038, 0.510116936080392, 0.034007795738692795, 0.01147887064607617, 0.27131876072543676, 0.3161907096146436, 0.2264468118362299, 0.14192058253330536, 0.008348269560782669, 0.005217668475489168, 0.018783606511761006, 0.0010435336950978336, 0.13320136857067813, 0.8372657453014054, 0.8646329528876642, 0.0258872141583133, 0.01035488566332532, 0.00517744283166266, 0.08283908530660256, 0.01553232849498798, 0.03246326521706225, 0.03246326521706225, 0.7466550999924317, 0.1406741492739364, 0.010821088405687415, 0.02164217681137483, 0.010821088405687415, 0.9643501370466878, 0.02878657125512501, 0.9833981881203805, 0.9388973174955145, 0.025375603175554446, 0.0072501723358726995, 0.021750517007618098, 0.12591521594990657, 0.0839434772999377, 0.10492934662492213, 0.10492934662492213, 0.5666184717745796, 0.07244812940194612, 0.8693775528233533, 0.01811203235048653, 0.008089451114759625, 0.004044725557379812, 0.9828683104432945, 0.08559809997242253, 0.8502744597260637, 0.05135885998345352, 0.005706539998161502, 0.21620798480310235, 0.07290734371267404, 0.00502809266983959, 0.6963908347727832, 0.002514046334919795, 0.00502809266983959, 0.018267063576616713, 0.8585519881009855, 0.018267063576616713, 0.012178042384411144, 0.054801190729850145, 0.024356084768822287, 0.012178042384411144, 0.09035812403085734, 0.22649769757068242, 0.09276767400501354, 0.1674637232038556, 0.15541597333307464, 0.056624424392670604, 0.03252892465110865, 0.14577777343644985, 0.03132414966403055, 0.020554843324328168, 0.15416132493246126, 0.7502517813379782, 0.06166452997298451, 0.010277421662164084, 0.9664121047608978, 0.028741850147338936, 0.39454721565892537, 0.01567737280763942, 0.49122434797270176, 0.013064477339699515, 0.002612895467939903, 0.05225790935879806, 0.002612895467939903, 0.07429808250075318, 0.014859616500150635, 0.8767173735088875, 0.014859616500150635, 0.014859616500150635, 0.0013028177987352378, 0.05471834754687999, 0.014330995786087616, 0.009119724591146666, 0.8937330099323731, 0.01823944918229333, 0.005211271194940951, 0.0026056355974704757, 0.0013028177987352378, 0.01863257026354422, 0.1366388485993243, 0.0062108567545147405, 0.8074113780869162, 0.012421713509029481, 0.0062108567545147405, 0.012421713509029481, 0.01598493084100627, 0.11189451588704388, 0.010656620560670847, 0.6500538542009217, 0.20247579065274607, 0.0053283102803354234, 0.011092268856817671, 0.03697422952272557, 0.003697422952272557, 0.003697422952272557, 0.9317505839726844, 0.003697422952272557, 0.003697422952272557, 0.7499061607305112, 0.24035453869567666, 0.1584281753195314, 0.015331758901890136, 0.0051105863006300455, 0.5826068382718251, 0.012776465751575114, 0.025552931503150227, 0.15076229586858633, 0.03832939725472534, 0.007665879450945068, 0.9588627979112138, 0.0060305836346617216, 0.018091750903985165, 0.012061167269323443, 0.9703137043251389, 0.00960706637945682, 0.01798264560263638, 0.01798264560263638, 0.8811496345291827, 0.01798264560263638, 0.07193058241054552, 0.9671627290729643, 0.021492505090510317, 0.9901444281313664, 0.0051840022415254785, 0.001167497218768283, 0.9900376415155039, 0.004669988875073132, 0.001167497218768283, 0.001167497218768283, 0.001167497218768283, 0.004253796999355407, 0.9868809038504546, 0.004253796999355407, 0.01857921319479952, 0.03715842638959904, 0.00928960659739976, 0.03715842638959904, 0.7896165607789797, 0.10218567257139737, 0.23023645716020433, 0.19231515833381774, 0.08938591866219697, 0.0379212988263866, 0.02708664201884757, 0.24648844237151288, 0.11647256068104454, 0.040629963028271356, 0.0189606494131933, 0.9902050014851993, 0.005253076930955964, 0.9664951538282163, 0.48275431283012943, 0.21530842352223772, 0.0608270434165963, 0.03475831052376932, 0.05889602616527579, 0.06275806066791682, 0.03475831052376932, 0.030896276021128283, 0.018344663887544917, 0.9095899312605205, 0.005124450316960679, 0.010248900633921358, 0.007686675475441019, 0.015373350950882037, 0.025622251584803395, 0.028184476743283733, 0.04615476648230769, 0.8077084134403846, 0.023077383241153843, 0.06923214972346153, 0.023077383241153843, 0.023077383241153843, 0.07823152913557514, 0.022351865467307185, 0.07823152913557514, 0.011175932733653592, 0.011175932733653592, 0.7934912240894051, 0.9914561382741254, 0.004721219706067264, 0.058595818555411475, 0.08256683523717072, 0.17046056307028792, 0.3062963242669236, 0.018644124085812744, 0.002663446297973249, 0.010653785191892995, 0.002663446297973249, 0.3489114650344956, 0.9729661758590533, 0.015443907553318306, 0.08877168832809149, 0.017754337665618295, 0.05326301299685489, 0.7989451949528233, 0.017754337665618295, 0.009290507228978562, 0.13935760843467843, 0.7581053898846507, 0.02229721734954855, 0.0297296231327314, 0.009290507228978562, 0.003716202891591425, 0.026013420241139975, 0.003716202891591425, 0.0042630752850548225, 0.11723457033900761, 0.8185104547305259, 0.0191838387827467, 0.0191838387827467, 0.006394612927582233, 0.0021315376425274112, 0.006394612927582233, 0.006394612927582233, 0.22397907753142132, 0.15667501975104348, 0.06730405778037783, 0.23280583920753645, 0.056270605685233926, 0.07944085508503614, 0.1180579374180398, 0.025376939818830987, 0.03972042754251807, 0.07010273634550174, 0.03235510908253927, 0.010785036360846422, 0.8358403179655977, 0.0485326636238089, 0.02538243319522312, 0.8666287905226179, 0.021756371310191244, 0.07614729958566935, 0.003626061885031874, 0.04309626329775926, 0.9222600345720481, 0.025857757978655554, 0.15585545938135134, 0.06679519687772201, 0.13359039375544401, 0.13359039375544401, 0.022265065625907333, 0.48983144376996135, 0.06951746339296368, 0.9037270241085278, 0.07149603281914955, 0.006499639347195414, 0.03249819673597707, 0.006499639347195414, 0.8839509512185763, 0.28260117129964074, 0.03532514641245509, 0.03532514641245509, 0.021195087847473055, 0.6075925182942276, 0.021195087847473055, 0.09026287810825899, 0.022565719527064747, 0.8687802017919928, 0.06320476129453223, 0.8420505295045745, 0.06728248782966334, 0.01427204287295889, 0.010194316337827778, 0.07025483159017283, 0.722621124927492, 0.0301092135386455, 0.010036404512881833, 0.14050966318034566, 0.028899780726976514, 0.028899780726976514, 0.07224945181744129, 0.014449890363488257, 0.8380936410823189, 0.13718792293607884, 0.1854719405057602, 0.1571146603457886, 0.05441532138805361, 0.1824062885965741, 0.14945053057282331, 0.05824738627453626, 0.052116082456164024, 0.024525215273488953, 0.005252728752506867, 0.9244802604412085, 0.05252728752506866, 0.0157581862575206, 0.005252728752506867, 0.0534483657719178, 0.12025882298681505, 0.04008627432893835, 0.01336209144297945, 0.7616392122498287, 0.9630581992212736, 0.0008614116272104414, 0.0008614116272104414, 0.0017228232544208829, 0.0008614116272104414, 0.0008614116272104414, 0.008614116272104413, 0.022396702307471476, 0.26193354838440097, 0.1702568064498606, 0.03929003225766014, 0.026193354838440094, 0.10259063978389037, 0.2226435161267408, 0.10040786021402036, 0.06548338709610024, 0.010913897849350039, 0.3772396036797238, 0.16103860440101417, 0.12278081440519313, 0.06583898743466877, 0.09342018487351651, 0.05961097510976768, 0.03202977767091995, 0.04359608627430771, 0.04359608627430771, 0.13478769616505565, 0.08056276092624015, 0.5685871780755796, 0.0015492838639661567, 0.1936604829957696, 0.012394270911729253, 0.00929570318379694, 0.0857435572677067, 0.7421737415958876, 0.004216896259067543, 0.025301377554405258, 0.0014056320863558476, 0.07730976474957162, 0.050602755108810515, 0.012650688777202629, 0.293168976517874, 0.011726759060714959, 0.17590138591072438, 0.0586337953035748, 0.4338900852464535, 0.023453518121429918, 0.001279033337160712, 0.9093927027212664, 0.01151130003444641, 0.005116133348642848, 0.010232266697285696, 0.005116133348642848, 0.001279033337160712, 0.05627746683507134, 0.044288252922687045, 0.17715301169074818, 0.14762750974229014, 0.23620401558766424, 0.39859427630418337, 0.2441871347043043, 0.024418713470430432, 0.7081426906424826, 0.9888938499293438, 0.20952673180001552, 0.06904858207045966, 0.16904997679319433, 0.11666829384319047, 0.07857252442500583, 0.05714365412727696, 0.02142887029772886, 0.05000069736136734, 0.22619363092047132, 0.9903516010979174, 0.008842425009802833, 0.037199228562248395, 0.9485803283373341, 0.1763819697233995, 0.1361936728243971, 0.02455951477161259, 0.00669804948316707, 0.5358439586533656, 0.07367854431483777, 0.02902488109372397, 0.01562878212738983, 0.00446536632211138, 0.07131069508524282, 0.09191156255431297, 0.3914164819123328, 0.05229450972917807, 0.26305723075889575, 0.061802602407210444, 0.025354913808086337, 0.03486300648611871, 0.009508092678032376, 0.0076989170805508884, 0.9046227569647294, 0.06929025372495799, 0.015397834161101777, 0.9737714203924577, 0.013159073248546725, 0.05174011306114826, 0.09071318523707811, 0.12431066125081075, 0.08130589195323297, 0.14379719733877566, 0.05577181018279617, 0.13707770213602916, 0.2808748994748048, 0.03426942553400729, 0.2735485696651089, 0.09633271888538718, 0.14449907832808076, 0.02817277627780191, 0.15631346838006221, 0.14449907832808076, 0.07815673419003111, 0.03089917398210532, 0.047257560207925785, 0.11410593256879321, 0.8557944942659491, 0.004201722522452571, 0.012605167567357715, 0.14916114954706627, 0.027311196395941713, 0.19958181981649714, 0.5819385693596811, 0.0021008612612262857, 0.0021008612612262857, 0.021008612612262858, 0.011070324926993183, 0.011070324926993183, 0.1881955237588841, 0.785993069816516, 0.005674718636094485, 0.9874010426804404, 0.0028373593180472424, 0.0028373593180472424, 0.024402566981730007, 0.21962310283557007, 0.03660385047259501, 0.024402566981730007, 0.6832718754884403, 0.0424849021975345, 0.0018471696607623694, 0.8774055888621255, 0.0664981077874453, 0.0018471696607623694, 0.0073886786430494775, 0.0018471696607623694, 0.026514423165746533, 0.6923210493278261, 0.2680902786758816, 0.0029460470184162813, 0.0029460470184162813, 0.0029460470184162813, 0.020381305364529204, 0.3936139598524703, 0.22419435900982124, 0.28024294876227657, 0.03694111597320918, 0.020381305364529204, 0.008916821096981527, 0.0038214947558492256, 0.011464484267547677, 0.0204422787239693, 0.0817691148958772, 0.8790179851306797, 0.15076753235820053, 0.025127922059700086, 0.23871525956715084, 0.4523025970746016, 0.1130756492686504, 0.02678117575448153, 0.05356235150896306, 0.03347646969310191, 0.7632635090027237, 0.013390587877240765, 0.08703882120206498, 0.013390587877240765, 0.0066952939386203825, 0.0066952939386203825, 0.9812993191028784, 0.005911441681342641, 0.005911441681342641, 0.2922232546255681, 0.013282875210253096, 0.13282875210253095, 0.5445978836203769, 0.9810110435244076, 0.006055623725459306, 0.006055623725459306, 0.9829418725834455, 0.007021013375596039, 0.007021013375596039, 0.9858629770814542, 0.9855206961622495, 0.0017661661221545688, 0.0017661661221545688, 0.010596996732927412, 0.014302300209349531, 0.9582541140264186, 0.014302300209349531, 0.9844997714780679, 0.9879085018180135, 0.4087899662217941, 0.11148817260594383, 0.06558127800349638, 0.045906894602447464, 0.061209192803263285, 0.08525566140454528, 0.02186042600116546, 0.1726973654092071, 0.028418553801515097, 0.014157387690152162, 0.04247216307045649, 0.39640685532426057, 0.5096659568454779, 0.028314775380304323, 0.03800132986091421, 0.0054287614087020295, 0.05428761408702029, 0.12486151240014667, 0.010857522817404059, 0.0054287614087020295, 0.7383115515834761, 0.021715045634808118, 0.015887840566940068, 0.9320866465938172, 0.005295946855646689, 0.005295946855646689, 0.04236757484517351, 0.32063054635435156, 0.5967290723817098, 0.08015763658858789, 0.956147606634022, 0.021014233112835647, 0.021014233112835647, 0.019301496774497575, 0.011029426728284327, 0.0055147133641421636, 0.0055147133641421636, 0.033088280184852985, 0.774817227661974, 0.14889726083183843, 0.9532727128467176, 0.033253699285350616, 0.9558543250731506, 0.0052809631219511086, 0.0052809631219511086, 0.026404815609755543, 0.01051261197010204, 0.9513913832942347, 0.013516215390131196, 0.0060072068400583096, 0.0045054051300437315, 0.0022527025650218658, 0.0030036034200291548, 0.0022527025650218658, 0.006758107695065598, 0.002066828321995782, 0.9817434529479966, 0.012400969931974693, 0.002066828321995782, 0.002066828321995782, 0.002066828321995782, 0.010849736748039428, 0.021699473496078855, 0.9547768338274697, 0.3154431302327144, 0.11433972737646364, 0.1304818065354938, 0.04102778452920166, 0.17487252422282676, 0.06658607653099942, 0.06322314337286813, 0.05918762358311059, 0.035647091476191606, 0.9914265101468352, 0.980106902891244, 0.09443095294691273, 0.220338890209463, 0.015738492157818786, 0.5508472255236575, 0.09443095294691273, 0.006642003618077507, 0.6276693419083244, 0.0033210018090387536, 0.0033210018090387536, 0.2922481591954103, 0.06642003618077506, 0.9229630535270389, 0.06321664750185198, 0.42432215815137436, 0.5537486079349981, 0.0032766189818638947, 0.0016383094909319473, 0.0016383094909319473, 0.006553237963727789, 0.006553237963727789, 0.0016383094909319473, 0.0016383094909319473, 0.16149969149821003, 0.07626374320748806, 0.19738851183114559, 0.10766646099880668, 0.08074984574910501, 0.327485485538037, 0.004486102541616945, 0.022430512708084726, 0.01794441016646778, 0.06411669020377898, 0.025646676081511593, 0.7373419373434583, 0.15388005648906955, 0.006411669020377898, 0.006411669020377898, 0.006411669020377898, 0.7515002016807414, 0.015892753509864622, 0.015892753509864622, 0.09081573434208355, 0.015892753509864622, 0.0204335402269688, 0.08400455426642729, 0.004540786717104178, 0.002270393358552089, 0.2688133451804117, 0.13108426045876256, 0.12806388579381411, 0.0616156431649483, 0.1353127849896904, 0.11960683673195847, 0.05980341836597924, 0.057387118634020476, 0.03805672077835042, 0.134739356544439, 0.14721522289114633, 0.506520173676317, 0.04241794557880487, 0.034932425770780484, 0.027446905962756094, 0.08483589115760974, 0.017466212885390242, 0.002495173269341463, 0.047790493854692674, 0.010620109745487261, 0.005310054872743631, 0.9345696576028789, 0.005310054872743631, 0.03385349179723143, 0.6982282683178983, 0.004231686474653929, 0.021158432373269646, 0.23697444258062003, 0.004231686474653929, 0.06891764791255667, 0.6679710489986261, 0.021205430126940514, 0.2014515862059349, 0.021205430126940514, 0.021205430126940514, 0.02970078421667288, 0.20250534693186054, 0.4495618701887304, 0.11745310122047911, 0.12015317251290392, 0.036450962447734894, 0.0067501782310620175, 0.010800285169699228, 0.02700071292424807, 0.20037783878155405, 0.7124545378899699, 0.02226420430906156, 0.04452840861812312, 0.4176322508063909, 0.11802650566267568, 0.4539480987025988, 0.487704590201036, 0.13994093166368057, 0.13889659635275758, 0.06266011865537936, 0.04281774774784256, 0.05430543616799544, 0.019842370907536797, 0.020886706218459786, 0.03446306526045865, 0.7890621042158027, 0.005676705785725199, 0.19868470250038198, 0.005676705785725199, 0.09419854413794153, 0.047099272068970764, 0.047099272068970764, 0.3767941765517661, 0.4238934486207369, 0.019635768545824946, 0.4123511394623238, 0.03927153709164989, 0.5105299821914485, 0.014259547548388693, 0.028519095096777386, 0.17111457058066432, 0.17111457058066432, 0.014259547548388693, 0.5846414494839364, 0.32142921175166517, 0.22814084857086578, 0.10067754046244684, 0.16256190019624445, 0.050800593811326386, 0.051724240971532325, 0.01662564888370682, 0.048029652330708585, 0.02124388468473649, 0.04680565445203845, 0.01560188481734615, 0.14041696335611537, 0.0624075392693846, 0.624075392693846, 0.023402827226019225, 0.07410895288239422, 0.007800942408673075, 0.0039004712043365377, 0.07910920907882639, 0.06328736726306111, 0.8227357744197944, 0.015821841815765278, 0.015821841815765278, 0.02307301030439045, 0.876774391566837, 0.055375224730537076, 0.013843806182634269, 0.02307301030439045, 0.9644622601373564, 0.008535064249003153, 0.017070128498006307, 0.12799020539638334, 0.06775952050396765, 0.01505767122310392, 0.7679412323783, 0.01505767122310392, 0.2162751109836197, 0.09385523684194817, 0.024483974828334306, 0.09793589931333722, 0.04080662471389051, 0.38766293478195984, 0.09793589931333722, 0.04080662471389051, 0.010929327173958696, 0.05464663586979348, 0.016393990760938042, 0.14208125326146304, 0.644830303263563, 0.07650529021771087, 0.04918197228281413, 0.10095303181855209, 0.04326558506509375, 0.014421861688364583, 0.6201400525996771, 0.21632792532546874, 0.02518123968959465, 0.13429994501117146, 0.07554371906878395, 0.11751245188477502, 0.07554371906878395, 0.44486856784950546, 0.04196873281599108, 0.05875622594238751, 0.008393746563198216, 0.016031648836903688, 0.4360608483637803, 0.0256506381390459, 0.5066001032461566, 0.0032063297673807375, 0.006412659534761475, 0.7412682538644508, 0.003114572495228785, 0.003114572495228785, 0.20244721218987102, 0.046718587428431775, 0.30029534301181326, 0.00283297493407371, 0.23513691952811794, 0.45894193931994104, 0.9711344401660894, 0.007247271941537981, 0.014494543883075962, 0.13408117890231816, 0.8427959816717142, 0.019154454128902595, 0.5201170946524944, 0.448376805734909, 0.28522651448108866, 0.11979513608205725, 0.1083860755028137, 0.07187708164923434, 0.13234510271922514, 0.1266405724296034, 0.09811792098149451, 0.03194536962188193, 0.025099933274335805, 0.9709608038713022, 0.011987170418164226, 0.9673423666879595, 0.013251265297095336, 0.0034532343278128063, 0.006906468655625613, 0.7608626302280883, 0.19223004424824622, 0.028776952731773383, 0.008057546764896548, 0.006514819300892497, 0.3322557843455174, 0.08469265091160247, 0.4886114475669373, 0.02280186755312374, 0.04886114475669373, 0.009772228951338746, 0.006514819300892497, 0.09778891983793746, 0.2811431445340702, 0.04889445991896873, 0.44005013927071857, 0.134459764777164, 0.1834540737634486, 0.06580417863254134, 0.11366176309257142, 0.05583384853670175, 0.1016973669775639, 0.07378044270921302, 0.05782791455586967, 0.33899122325854636, 0.009970330095839598, 0.15288184678632416, 0.6695170531676955, 0.005271787820218075, 0.0026358939101090374, 0.1054357564043615, 0.005271787820218075, 0.01054357564043615, 0.013179469550545187, 0.03426662083141749, 0.156089942349112, 0.2559875054525437, 0.08845096733116346, 0.17690193466232693, 0.09469456502512794, 0.10405996156607467, 0.033299187701143894, 0.06867957463360927, 0.02185259192887568, 0.11851971208186216, 0.11164900413508753, 0.10477829618831293, 0.21470962333670682, 0.03950657069395405, 0.08760152632137638, 0.006870707946774618, 0.14943789784234793, 0.16833234469597813, 0.1083273974141592, 0.0722182649427728, 0.09388374442560464, 0.01444365298855456, 0.05777461195421824, 0.00722182649427728, 0.01444365298855456, 0.6355207314964006, 0.9785654193860729, 0.014182107527334389, 0.9581622304104188, 0.031674784476377484, 0.051682227196093666, 0.09233891259035401, 0.10887722529310398, 0.0813133707885207, 0.14057565797337476, 0.059262287184854066, 0.14471023614906225, 0.2866640868476662, 0.03514391449334369, 0.0035816464507087697, 0.949136309437824, 0.0035816464507087697, 0.0035816464507087697, 0.03223481805637893, 0.0071632929014175395, 0.012694942608527179, 0.9775105808565928, 0.05206261441828997, 0.2429588672853532, 0.017354204806096656, 0.5726887586011897, 0.08677102403048328, 0.01694991122474418, 0.9661449398104182, 0.06807727813850145, 0.0035830146388684974, 0.021498087833210985, 0.2508110247207948, 0.6556916789129351, 0.02445266969398568, 0.008150889897995226, 0.7254292009215751, 0.23637580704186156, 0.844404671762194, 0.13102831113551286, 0.38202588615135585, 0.1408607295856658, 0.0716977492492592, 0.07278407878333888, 0.12130679797223147, 0.07749150676435085, 0.03729731400340251, 0.0383836435374822, 0.05793757515091652, 0.022581946975773582, 0.1430189975132327, 0.2182921540991446, 0.1053824192202767, 0.5043301491256099, 0.8939537595905199, 0.0033356483566810446, 0.016678241783405223, 0.05003472535021567, 0.033356483566810445, 0.00894104600798484, 0.7868120487026659, 0.01788209201596968, 0.08941046007984839, 0.10729255209581808, 0.007340696270180317, 0.9432794707181708, 0.04037382948599175, 0.0036703481350901586, 0.012921061517846753, 0.9690796138385065, 0.012921061517846753, 0.33668052722239156, 0.6436539491016309, 0.009902368447717398, 0.0041362765432106695, 0.14063340246916275, 0.0041362765432106695, 0.0041362765432106695, 0.033090212345685356, 0.8107102024692913, 0.6292985130202595, 0.11638123119726439, 0.025195936650954147, 0.02159651712938927, 0.02459603339736, 0.10198355311100488, 0.03419448545486634, 0.00959845205750634, 0.03719400172283707, 0.028868389524036232, 0.9567809099394865, 0.00412405564629089, 0.00412405564629089, 0.004644853245273591, 0.5179011368480054, 0.22295295577313237, 0.06735037205646707, 0.06735037205646707, 0.09521949152810862, 0.006967279867910387, 0.018579412981094365, 0.950744470446406, 0.009801489386045421, 0.009801489386045421, 0.019602978772090843, 0.011532776651114386, 0.09226221320891509, 0.8534254721824646, 0.023065553302228772, 0.023065553302228772, 0.08394683185869298, 0.8514607231381716, 0.011992404551241852, 0.03597721365372556, 0.011992404551241852, 0.07837889638920714, 0.014250708434401299, 0.8764185687156798, 0.007125354217200649, 0.014250708434401299, 0.0396658382187356, 0.9123142790309188, 0.0198329191093678, 0.0396658382187356, 0.1886052010268768, 0.08494432718004376, 0.298025012309645, 0.07918538974410858, 0.19580387282179576, 0.014397343589837923, 0.04175229641052998, 0.06334831179528687, 0.03455362461561102, 0.48614562730606015, 0.12270129251494809, 0.10250994058210854, 0.05125497029105427, 0.05436133212687574, 0.046595427537322064, 0.0838717695671797, 0.02951043744030397, 0.024850894686571767, 0.158339054239148, 0.040861691416554324, 0.18898532280156374, 0.045969402843623615, 0.0051077114270692905, 0.040861691416554324, 0.5056634312798598, 0.010215422854138581, 0.010215422854138581, 0.180296090721732, 0.08451379252581188, 0.005634252835054125, 0.10141655103097426, 0.14085632087635314, 0.4282032154641135, 0.03943976984537888, 0.016902758505162374, 0.010821439540849404, 0.16773231288316576, 0.81701868533413, 0.005410719770424702, 0.32577290713667967, 0.0977318721410039, 0.01085909690455599, 0.5320957483232435, 0.02171819380911198, 0.01085909690455599, 0.016719338982611263, 0.08359669491305632, 0.016719338982611263, 0.8025282711653406, 0.06687735593044505, 0.08862496353735605, 0.09783275195682162, 0.11624832879575274, 0.1012856726141212, 0.12085222300548552, 0.06733195281734193, 0.11797478912440254, 0.24458187989205404, 0.04488796854489462, 0.9855452129101108, 0.0027796336565721353, 0.9784310471133916, 0.011118534626288541, 0.0027796336565721353, 0.0027796336565721353, 0.0027796336565721353, 0.16710173066581005, 0.05749736969146152, 0.1760856946801009, 0.0323422704514471, 0.3449842181487691, 0.08983964014290863, 0.07546529772004325, 0.017967928028581725, 0.037732648860021624, 0.049111690759907456, 0.7366753613986118, 0.19644676303962982, 0.008185281793317909, 0.008185281793317909, 0.0015038417984670957, 0.08120745711722317, 0.4962677934941416, 0.23309547876239983, 0.07819977352028898, 0.0691767227294864, 0.027069152372407722, 0.012030734387736766, 0.0015038417984670957, 0.011820704384525805, 0.8510907156858579, 0.0059103521922629024, 0.05910352192262902, 0.05319316973036612, 0.0059103521922629024, 0.0059103521922629024, 0.0059103521922629024, 0.9844094739237832, 0.009375328323083649, 0.06773240499580703, 0.9030987332774271, 0.011288734165967838, 0.011288734165967838, 0.08844252815699274, 0.8174233662994784, 0.08576245154617479, 0.002680076610817962, 0.11925093004705013, 0.6075351436180798, 0.1256969262658096, 0.09185544611732241, 0.022560986765658136, 0.011280493382829068, 0.0048344971640696, 0.0145034914922088, 0.0016114990546898667, 0.9653603027759867, 0.10014861126055219, 0.04005944450422088, 0.10014861126055219, 0.6810105565717549, 0.08011888900844176, 0.01557406555367089, 0.1012314260988608, 0.007787032776835445, 0.8254254743445572, 0.023361098330506334, 0.01557406555367089, 0.007787032776835445, 0.10442414017698048, 0.05221207008849024, 0.36548449061943167, 0.4525046074335821, 0.9608861725308981, 0.003069923873900633, 0.003069923873900633, 0.024559390991205063, 0.9918364850253397, 0.9925556767076487, 0.20884746601608833, 0.14648329213628417, 0.13923164401072555, 0.05511252575424553, 0.17403955501340693, 0.06671516275513932, 0.040609229503128286, 0.12762900700983176, 0.04205955912824001, 0.160252874982174, 0.20603941069136658, 0.022893267854596284, 0.06867980356378886, 0.4578653570919257, 0.04578653570919257, 0.04578653570919257, 0.053778332374668565, 0.1034198699512857, 0.12410384394154284, 0.4777997991749399, 0.03723115318246285, 0.1034198699512857, 0.04343634537953999, 0.04343634537953999, 0.014478781793179997, 0.08201421796588752, 0.011716316852269646, 0.08201421796588752, 0.8084258628066057, 0.30620046312305255, 0.013918202869229662, 0.11134562295383729, 0.5428099118999568, 0.8319681571983113, 0.10399601964978891, 0.051998009824894456, 0.052051419883558596, 0.07157070233989307, 0.11060926725256202, 0.0065064274854448245, 0.7352263058552652, 0.0065064274854448245, 0.019519282456334473, 0.1134301850448688, 0.8620694063410029, 0.0368755153404728, 0.7559480644796924, 0.09218878835118201, 0.0737510306809456, 0.0184377576702364, 0.022783813537343874, 0.9341363550310988, 0.03417572030601581, 0.9705493319511307, 0.018784825779699303, 0.9876056236858178, 0.028990456469590916, 0.43485684704386374, 0.028990456469590916, 0.46384730351345466, 0.028990456469590916, 0.024757824707363173, 0.012378912353681586, 0.037136737061044756, 0.9160395141724373, 0.5300273987300623, 0.047183447958165786, 0.01572781598605526, 0.11166749350099235, 0.07549351673306526, 0.03145563197211052, 0.05662013754979894, 0.06762960874003762, 0.06448404554282658, 0.9952235329007431, 0.009610285917259327, 0.9321977339741547, 0.004805142958629664, 0.02883085775177798, 0.01441542887588899, 0.8457944917278393, 0.122170315471799, 0.028193149724261308, 0.5556502749747686, 0.09623633628428982, 0.01718506005076604, 0.011456706700510692, 0.032078778761429935, 0.0297874374213278, 0.053846521492400254, 0.01718506005076604, 0.18788998988837535, 0.009827553514728886, 0.9729277979581596, 0.1278028558076564, 0.0639014279038282, 0.5431621371825398, 0.009585214185574231, 0.025560571161531282, 0.019170428371148462, 0.03514578534710552, 0.17253385534033616, 0.22675122354479968, 0.040230055790206394, 0.14080519526572238, 0.35109866871452855, 0.04754461138842574, 0.025600944593767706, 0.014629111196438688, 0.03657277799109672, 0.11886152847106435, 0.011037877221195569, 0.6733105104929297, 0.011037877221195569, 0.14901134248614017, 0.11589771082255347, 0.011037877221195569, 0.027594693052988922, 0.002810170032636116, 0.001405085016318058, 0.9919900215205489, 0.002810170032636116, 0.28943730656818023, 0.04134818665259717, 0.020674093326298586, 0.08269637330519435, 0.04134818665259717, 0.04134818665259717, 0.4755041465048675, 0.055420600085909294, 0.011084120017181858, 0.022168240034363716, 0.9088978414089124, 0.05102480557633831, 0.9038679844951358, 0.014578515878953804, 0.007289257939476902, 0.010933886909215353, 0.003644628969738451, 0.007289257939476902, 0.006873840033976285, 0.9795222048416207, 0.006873840033976285, 0.006873840033976285, 0.002265001533438212, 0.9694206563115547, 0.006795004600314636, 0.004530003066876424, 0.006795004600314636, 0.002265001533438212, 0.004530003066876424, 0.4119386012037368, 0.11400911678223524, 0.13767138630307652, 0.06776013544604548, 0.05377788527463927, 0.06130678921308877, 0.06345790462407434, 0.03011561575379799, 0.059155673802103195, 0.03815508157502407, 0.08902852367505616, 0.4832976999503049, 0.19840642419012516, 0.0559607863100353, 0.022893048945014444, 0.04069875368002568, 0.007631016315004814, 0.06613547473004172, 0.05566660465657579, 0.08349990698486368, 0.027833302328287894, 0.8071657675203489, 0.013916651164143947, 0.07098972975123775, 0.014197945950247549, 0.8376788110646054, 0.028395891900495098, 0.014197945950247549, 0.04259383785074265, 0.03092586994502378, 0.3233159130616122, 0.011245770889099557, 0.022491541778199113, 0.6044601852891012, 0.008434328166824667, 0.7730798648082002, 0.09006755706503303, 0.08631474218732332, 0.048786593410226224, 0.02466223929515079, 0.02466223929515079, 0.09864895718060317, 0.09864895718060317, 0.07398671788545237, 0.17263567506605554, 0.4932447859030158, 0.0736185833440875, 0.7975346528942813, 0.03680929167204375, 0.01226976389068125, 0.0736185833440875, 0.011046384616227835, 0.07042070192845246, 0.44185538464911345, 0.07456309615953789, 0.12565262500959162, 0.1877885384758732, 0.01933117307839871, 0.0607551153892531, 0.008284788462170877, 0.9014388290023468, 0.007328770967498755, 0.0659589387074888, 0.021986312902496263, 0.030490940921175394, 0.0076227352302938485, 0.0076227352302938485, 0.9452191685564372, 0.0076227352302938485, 0.003951471720736161, 0.006585786201226935, 0.007902943441472321, 0.8278333254942257, 0.008561522061595016, 0.03424608824638006, 0.081663748895214, 0.028977459285398514, 0.8424637340541272, 0.030972931399048796, 0.01858375883942928, 0.1053079667567659, 0.4065235927727646, 0.013780460771958122, 0.020670691157937182, 0.034451151929895306, 0.08268276463174873, 0.39963336238678554, 0.020670691157937182, 0.006890230385979061, 0.006890230385979061, 0.0035865271292534837, 0.05738443406805574, 0.07531706971432316, 0.1327015037823789, 0.6097096119730923, 0.08249012397283013, 0.014346108517013935, 0.01793263564626742, 0.0035865271292534837, 0.017172124535144658, 0.02575818680271699, 0.8929504758275223, 0.06010243587300631, 0.008586062267572329, 0.03948483422723144, 0.27639383959062, 0.013161611409077146, 0.02632322281815429, 0.013161611409077146, 0.631757347635703, 0.03457547634321845, 0.9104875437047524, 0.011525158781072815, 0.011525158781072815, 0.011525158781072815, 0.011525158781072815, 0.9804799109523517, 0.011851480832753275, 0.17777221249129913, 0.1896236933240524, 0.0474059233310131, 0.0474059233310131, 0.10666332749477948, 0.4029503483136114, 0.011851480832753275, 0.9817279321989067, 0.0528494037381906, 0.0528494037381906, 0.06341928448582873, 0.2008277342051243, 0.01056988074763812, 0.02113976149527624, 0.47564463364371545, 0.12683856897165746, 0.005428167083643857, 0.14656051125838412, 0.6513800500372628, 0.027140835418219284, 0.01628450125093157, 0.14656051125838412, 0.010856334167287714, 0.028446420169593922, 0.07585712045225046, 0.834428324974755, 0.028446420169593922, 0.03792856022612523, 0.0711856305028904, 0.2840161380268382, 0.16343639656275857, 0.11113674966267582, 0.19176537196697005, 0.023970671495871256, 0.13147550123493024, 0.007263839847233714, 0.014527679694467428, 0.06257868012333133, 0.10108863712230445, 0.07701991399794625, 0.009627489249743281, 0.7461304168551043, 0.0048137446248716406, 0.0048137446248716406, 0.008162315914145282, 0.4881064916658879, 0.06529852731316226, 0.17630602374553808, 0.04244404275355546, 0.026119410925264902, 0.145289223271786, 0.04897389548487169, 0.10709255340149924, 0.017848758900249874, 0.1606388301022489, 0.6961015971097452, 0.06902702605893433, 0.0076696695621038145, 0.03834834781051907, 0.16106306080418012, 0.1533933912420763, 0.4678498432883327, 0.0076696695621038145, 0.0997057043073496, 0.01827110375194143, 0.016443993376747287, 0.38369317879077003, 0.07856574613334814, 0.3873473995411583, 0.03288798675349457, 0.020098214127135573, 0.056640421631018435, 0.007308441500776572, 0.835815167169192, 0.03145540951712013, 0.008987259862034323, 0.017974519724068647, 0.008987259862034323, 0.004493629931017162, 0.049429929241188775, 0.013480889793051485, 0.03594903944813729, 0.5233670920896555, 0.06254072169624814, 0.05431167936779444, 0.05102006243641296, 0.046082637039340735, 0.09874850794144444, 0.05924910476486666, 0.0691239555590111, 0.03620778624519629, 0.4559107026445991, 0.10250341301069846, 0.04972180481862239, 0.025243377830992904, 0.07649508433634213, 0.07114042843279818, 0.10250341301069846, 0.06884557590270791, 0.04742695228853212, 0.027012276961777108, 0.4772168929913955, 0.018008184641184737, 0.009004092320592369, 0.4502046160296184, 0.2976689201531728, 0.12938450222566886, 0.11839104778819373, 0.13699535529776702, 0.09555848857189922, 0.08118243276904713, 0.028752111605704192, 0.05665857287006414, 0.0558129225287199, 0.9820685910863142, 0.004161831889267786, 0.024970991335606714, 0.004161831889267786, 0.8947938561925739, 0.05410381456048121, 0.016647327557071143, 0.6878510637668562, 0.07619906993824456, 0.03501038348513939, 0.012356605935931549, 0.06384246400231301, 0.03295094916248413, 0.039129252130449904, 0.030891514839828875, 0.022653777549207842, 0.856253279871839, 0.028701227258273933, 0.0047835378763789885, 0.0047835378763789885, 0.009567075752757977, 0.09567075752757977, 0.18964752363018722, 0.29259903645800317, 0.07369160918201562, 0.12029071498829018, 0.19181492390024651, 0.03684580459100781, 0.0498502062113635, 0.019506602430533544, 0.026008803240711392, 0.07746857687042316, 0.06690468002445636, 0.5704504296822068, 0.06338338107580077, 0.1478945558435351, 0.014085195794622392, 0.05634078317848957, 0.003521298948655598, 0.005208187873702, 0.005208187873702, 0.046873690863318, 0.041665502989616, 0.005208187873702, 0.005208187873702, 0.031249127242212, 0.005208187873702, 0.864559187034532, 0.35716638166526027, 0.015528973115880881, 0.062115892463523524, 0.5435140590558308, 0.2138785389996836, 0.005628382605254831, 0.011256765210509662, 0.6416356169990507, 0.03377029563152899, 0.0900541216840773, 0.16170260709050532, 0.409012476758337, 0.4185243948224844, 0.11277353639106313, 0.07630784198916249, 0.19380841283973127, 0.15396626525246943, 0.16274504353440847, 0.03714098503897289, 0.06820435434429567, 0.13708399932566356, 0.056724413514067686, 0.11452833258827083, 0.10247271863161074, 0.5394887245605389, 0.024111227913320175, 0.135625657012426, 0.003013903489165022, 0.0693197802507955, 0.009041710467495065, 0.03822883963138609, 0.03822883963138609, 0.8792633115218801, 0.13285063465627164, 0.12793024078011342, 0.08610689283276865, 0.07134571120429403, 0.12300984690395522, 0.07380590814237313, 0.02214177244271194, 0.3591887529595492, 0.09612892247907691, 0.32640790841776113, 0.24462658630869571, 0.05595564144304477, 0.16428002423663143, 0.038021140980530416, 0.04734708122103788, 0.0164997404255132, 0.011478080296009182, 0.21496720612450274, 0.32913058112847593, 0.15667101463311217, 0.08380077526887394, 0.10930535904635733, 0.023075575798675436, 0.018217559841059553, 0.03886412766092705, 0.025504583777483377, 0.9490228303065606, 0.024333918725809246, 0.010610313217346365, 0.09902959002856607, 0.16269146933264425, 0.003536771072448788, 0.13439730075305395, 0.16976501147754183, 0.10963990324591243, 0.06719865037652697, 0.2440372039989664, 0.1719947932021979, 0.11793928676722142, 0.10319687592131874, 0.07371205422951338, 0.004914136948634225, 0.014742410845902677, 0.11793928676722142, 0.004914136948634225, 0.3882168189421038, 0.08058626507319175, 0.1259160391768621, 0.10073283134148968, 0.020146566268297937, 0.010073283134148969, 0.030219849402446902, 0.6195069127501616, 0.0627187027335211, 0.04181246848901408, 0.19860922532281686, 0.01045311712225352, 0.01045311712225352, 0.6689994958242252, 0.029019223797867297, 0.0193461491985782, 0.21280764118436019, 0.18378841738649287, 0.0096730745992891, 0.029019223797867297, 0.5029998791630331, 0.08599179746891801, 0.07950185049013175, 0.5305531655157772, 0.032449734893931326, 0.16549364795904978, 0.01784735419166223, 0.0064899469787862655, 0.051919575830290124, 0.029204761404538194, 0.008931427837090658, 0.08931427837090658, 0.017862855674181315, 0.04465713918545329, 0.017862855674181315, 0.16969712890472252, 0.6430628042705274, 0.9725658650781542, 0.00900523949146439, 0.02326963742808012, 0.9540551345512849, 0.01163481871404006, 0.06496139175254592, 0.3410473067008661, 0.03248069587627296, 0.5521718298966403, 0.420833326567222, 0.13416212318355578, 0.05962761030380257, 0.051600816609059914, 0.0882947306421692, 0.04701407735492126, 0.09861489396398118, 0.021787011457158632, 0.07797456732035721, 0.41532415190006616, 0.10410213729087821, 0.09868015097364496, 0.07807660296815866, 0.09000497286607179, 0.06506383580679888, 0.08024539749505195, 0.03578510969373939, 0.03253191790339944, 0.13587761978437057, 0.011323134982030882, 0.06227724240116985, 0.039630972437108086, 0.005661567491015441, 0.7416653413230228, 0.9923273133921613, 0.08837768153737434, 0.14361373249823328, 0.1063293980996535, 0.060759656056944854, 0.2375150191316935, 0.265133044612123, 0.07042596497509518, 0.023475321658365057, 0.004142703822064422, 0.327320124126532, 0.062056975206145476, 0.07300820612487703, 0.16913567752263178, 0.10951230918731554, 0.05840656489990163, 0.03893770993326775, 0.10342829201024246, 0.05962336833531624, 0.30258453286613574, 0.1850759764132675, 0.08886584581748162, 0.05214442192596029, 0.09621013059578588, 0.0914363454898881, 0.10612491504649664, 0.048472279536808154, 0.02900992487430185, 0.02958750501345033, 0.014793752506725166, 0.007396876253362583, 0.939403284177048, 0.007396876253362583, 0.04842535522021845, 0.024212677610109225, 0.009079754103790959, 0.3208179783339472, 0.012106338805054613, 0.29963188542510166, 0.2602862843086742, 0.027239262311372876, 0.0077267929213469914, 0.8808543930335571, 0.10044830797751089, 0.0077267929213469914, 0.9703334507015261, 0.01426960956914009], \"Term\": [\"128\", \"128\", \"128\", \"128\", \"1990\", \"1990\", \"1990\", \"1990\", \"1990\", \"1990\", \"1990\", \"1993\", \"1993\", \"1993\", \"1993\", \"1993\", \"1993\", \"1993\", \"1993\", \"1993\", \"2000\", \"2000\", \"2000\", \"2000\", \"2000\", \"2000\", \"2000\", \"2000\", \"2000\", \"256\", \"256\", \"256\", \"256\", \"256\", \"256\", \"486\", \"486\", \"486\", \"486\", \"486\", \"486\", \"486\", \"___\", \"___\", \"____\", \"____\", \"____\", \"acad3\", \"access\", \"access\", \"access\", \"access\", \"access\", \"access\", \"access\", \"access\", \"access\", \"adams\", \"adams\", \"adams\", \"administration\", \"administration\", \"administration\", \"administration\", \"administration\", \"administration\", \"agencies\", \"agencies\", \"agencies\", \"agencies\", \"alaska\", \"alaska\", \"alaska\", \"alaska\", \"algorithm\", \"algorithm\", \"algorithm\", \"algorithm\", \"algorithm\", \"algorithm\", \"algorithm\", \"algorithm\", \"alink\", \"allan\", \"also\", \"also\", \"also\", \"also\", \"also\", \"also\", \"also\", \"also\", \"also\", \"alt\", \"alt\", \"alt\", \"alt\", \"alt\", \"alt\", \"alt\", \"alt\", \"amendment\", \"amendment\", \"amendment\", \"amendment\", \"amiga\", \"amiga\", \"amiga\", \"amiga\", \"amiga\", \"animation\", \"animation\", \"animation\", \"ann\", \"ann\", \"ann\", \"anyone\", \"anyone\", \"anyone\", \"anyone\", \"anyone\", \"anyone\", \"anyone\", \"anyone\", \"anyone\", \"april\", \"april\", \"april\", \"april\", \"april\", \"april\", \"april\", \"april\", \"argument\", \"argument\", \"argument\", \"argument\", \"argument\", \"argument\", \"argument\", \"article\", \"article\", \"article\", \"article\", \"article\", \"article\", \"article\", \"article\", \"article\", \"aspects\", \"aspects\", \"aspects\", \"aspects\", \"astro\", \"astro\", \"astronomy\", \"astronomy\", \"atheism\", \"atheism\", \"atheism\", \"atheist\", \"atheist\", \"atheist\", \"atheists\", \"atheists\", \"atheists\", \"atheists\", \"ati\", \"ati\", \"ati\", \"attack\", \"attack\", \"attack\", \"attack\", \"attack\", \"aurora\", \"aurora\", \"aurora\", \"austin\", \"austin\", \"austin\", \"austin\", \"austin\", \"austin\", \"available\", \"available\", \"available\", \"available\", \"available\", \"available\", \"available\", \"available\", \"available\", \"baalke\", \"baalke\", \"base\", \"base\", \"base\", \"base\", \"base\", \"base\", \"base\", \"base\", \"base\", \"bear\", \"bear\", \"bear\", \"bear\", \"bear\", \"beauchaine\", \"beauchaine\", \"beauchaine\", \"beauchaine\", \"belief\", \"belief\", \"belief\", \"belief\", \"beliefs\", \"beliefs\", \"believe\", \"believe\", \"believe\", \"believe\", \"believe\", \"believe\", \"believe\", \"believe\", \"believe\", \"benedikt\", \"benedikt\", \"bible\", \"bible\", \"bible\", \"biblical\", \"biblical\", \"biblical\", \"biblical\", \"bill\", \"bill\", \"bill\", \"bill\", \"bill\", \"bill\", \"bill\", \"bill\", \"bill\", \"billion\", \"billion\", \"billion\", \"billion\", \"billion\", \"billion\", \"billion\", \"bios\", \"bios\", \"bios\", \"bios\", \"bios\", \"bit\", \"bit\", \"bit\", \"bit\", \"bit\", \"bit\", \"bit\", \"bit\", \"bit\", \"board\", \"board\", \"board\", \"board\", \"board\", \"board\", \"board\", \"board\", \"bobbe\", \"bobbe\", \"bobbe\", \"bobbe\", \"boot\", \"boot\", \"boot\", \"brad\", \"brad\", \"brad\", \"brad\", \"buphy\", \"bus\", \"bus\", \"bus\", \"bus\", \"bus\", \"bus\", \"bus\", \"bus\", \"byte\", \"byte\", \"byte\", \"byte\", \"cache\", \"cache\", \"california\", \"california\", \"california\", \"california\", \"california\", \"california\", \"california\", \"california\", \"california\", \"caltech\", \"caltech\", \"caltech\", \"caltech\", \"caltech\", \"caltech\", \"card\", \"card\", \"card\", \"card\", \"card\", \"card\", \"card\", \"card\", \"cards\", \"cards\", \"cards\", \"cards\", \"cards\", \"cards\", \"cards\", \"case\", \"case\", \"case\", \"case\", \"case\", \"case\", \"case\", \"case\", \"case\", \"cco\", \"cco\", \"cco\", \"cellular\", \"cellular\", \"center\", \"center\", \"center\", \"center\", \"center\", \"center\", \"center\", \"center\", \"charles\", \"charles\", \"charles\", \"charles\", \"charles\", \"charles\", \"children\", \"children\", \"children\", \"children\", \"chip\", \"chip\", \"chip\", \"chip\", \"chip\", \"chip\", \"chip\", \"chip\", \"christ\", \"christian\", \"christian\", \"christian\", \"christianity\", \"christianity\", \"christians\", \"church\", \"church\", \"cleveland\", \"cleveland\", \"cleveland\", \"clipper\", \"clipper\", \"clipper\", \"clipper\", \"clipper\", \"clipper\", \"clipper\", \"code\", \"code\", \"code\", \"code\", \"code\", \"code\", \"code\", \"code\", \"code\", \"color\", \"color\", \"color\", \"color\", \"color\", \"color\", \"color\", \"colors\", \"colors\", \"colors\", \"colors\", \"colors\", \"colors\", \"colors\", \"com\", \"com\", \"com\", \"com\", \"com\", \"com\", \"com\", \"com\", \"com\", \"communications\", \"communications\", \"communications\", \"communications\", \"communications\", \"communications\", \"communications\", \"communications\", \"comp\", \"comp\", \"comp\", \"comp\", \"comp\", \"comp\", \"comp\", \"computer\", \"computer\", \"computer\", \"computer\", \"computer\", \"computer\", \"computer\", \"computer\", \"computer\", \"conclusion\", \"conclusion\", \"conclusion\", \"conclusion\", \"conclusion\", \"conclusion\", \"conference\", \"conference\", \"conference\", \"conference\", \"conner\", \"conner\", \"conner\", \"conner\", \"contact\", \"contact\", \"contact\", \"contact\", \"contact\", \"contact\", \"controller\", \"controller\", \"controller\", \"controller\", \"controller\", \"controller\", \"controller\", \"conversations\", \"conversations\", \"cookamunga\", \"cost\", \"cost\", \"cost\", \"cost\", \"cost\", \"cost\", \"cost\", \"cost\", \"costs\", \"costs\", \"costs\", \"costs\", \"costs\", \"costs\", \"costs\", \"could\", \"could\", \"could\", \"could\", \"could\", \"could\", \"could\", \"could\", \"could\", \"cpu\", \"cpu\", \"cpu\", \"cpu\", \"craig\", \"craig\", \"craig\", \"craig\", \"craig\", \"crypto\", \"crypto\", \"crypto\", \"cryptography\", \"cryptography\", \"cryptography\", \"cryptography\", \"cso\", \"cso\", \"cso\", \"cso\", \"cso\", \"cso\", \"cwru\", \"cwru\", \"cwru\", \"cwru\", \"d012s658\", \"daniel\", \"daniel\", \"daniel\", \"daniel\", \"daniel\", \"daniel\", \"data\", \"data\", \"data\", \"data\", \"data\", \"data\", \"data\", \"data\", \"data\", \"dbstu1\", \"dbstu1\", \"death\", \"death\", \"death\", \"death\", \"death\", \"death\", \"dec\", \"dec\", \"dec\", \"dec\", \"dec\", \"dec\", \"dec\", \"decrypt\", \"decrypt\", \"denning\", \"des\", \"des\", \"des\", \"des\", \"diego\", \"diego\", \"diego\", \"diego\", \"diego\", \"digest\", \"digest\", \"digest\", \"digex\", \"digex\", \"digex\", \"directory\", \"directory\", \"directory\", \"directory\", \"disk\", \"disk\", \"disk\", \"disk\", \"disk\", \"disk\", \"display\", \"display\", \"display\", \"display\", \"display\", \"display\", \"display\", \"distribution\", \"distribution\", \"distribution\", \"distribution\", \"distribution\", \"distribution\", \"distribution\", \"distribution\", \"distribution\", \"domain\", \"domain\", \"domain\", \"domain\", \"domain\", \"dorothy\", \"dos\", \"dos\", \"dos\", \"dos\", \"dos\", \"dos\", \"dos\", \"dos\", \"drawing\", \"drawing\", \"drawing\", \"drawing\", \"drawing\", \"drive\", \"drive\", \"drive\", \"drive\", \"drive\", \"drive\", \"drive\", \"drive\", \"drive\", \"driver\", \"driver\", \"driver\", \"driver\", \"driver\", \"driver\", \"driver\", \"drivers\", \"drivers\", \"drivers\", \"drivers\", \"drivers\", \"drivers\", \"drives\", \"drives\", \"drives\", \"drives\", \"drives\", \"drives\", \"drives\", \"dseg\", \"dseg\", \"earth\", \"earth\", \"earth\", \"earth\", \"earth\", \"earth\", \"earth\", \"earth\", \"earth\", \"eff\", \"eff\", \"eff\", \"eff\", \"eisa\", \"eisa\", \"elements\", \"elements\", \"elements\", \"elements\", \"elements\", \"encrypt\", \"encrypt\", \"encrypted\", \"encrypted\", \"encryption\", \"encryption\", \"encryption\", \"encryption\", \"encryption\", \"encryption\", \"enforcement\", \"enforcement\", \"enforcement\", \"eng\", \"eng\", \"eng\", \"eng\", \"eng\", \"eng\", \"enough\", \"enough\", \"enough\", \"enough\", \"enough\", \"enough\", \"enough\", \"enough\", \"enough\", \"escrow\", \"escrow\", \"escrowed\", \"even\", \"even\", \"even\", \"even\", \"even\", \"even\", \"even\", \"even\", \"even\", \"evidence\", \"evidence\", \"evidence\", \"evidence\", \"evidence\", \"evidence\", \"evidence\", \"experiment\", \"experiment\", \"experiment\", \"experiment\", \"experiment\", \"experiment\", \"express\", \"express\", \"express\", \"express\", \"express\", \"express\", \"faith\", \"faith\", \"faq\", \"faq\", \"faq\", \"faq\", \"faq\", \"faq\", \"faq\", \"faq\", \"faq\", \"father\", \"father\", \"fido\", \"fido\", \"fido\", \"fido\", \"fido\", \"file\", \"file\", \"file\", \"file\", \"file\", \"file\", \"file\", \"file\", \"file\", \"files\", \"files\", \"files\", \"files\", \"files\", \"files\", \"files\", \"files\", \"files\", \"first\", \"first\", \"first\", \"first\", \"first\", \"first\", \"first\", \"first\", \"first\", \"floppy\", \"floppy\", \"floppy\", \"floppy\", \"floppy\", \"format\", \"format\", \"format\", \"format\", \"format\", \"formats\", \"formats\", \"formats\", \"forum\", \"forum\", \"forum\", \"forum\", \"forum\", \"forum\", \"forwarded\", \"forwarded\", \"frank\", \"frank\", \"frank\", \"frank\", \"frank\", \"fred\", \"fred\", \"fred\", \"fred\", \"fred\", \"fred\", \"freenet\", \"freenet\", \"freenet\", \"ftp\", \"ftp\", \"ftp\", \"ftp\", \"ftp\", \"functions\", \"functions\", \"functions\", \"functions\", \"functions\", \"gap\", \"gap\", \"gap\", \"gap\", \"gap\", \"get\", \"get\", \"get\", \"get\", \"get\", \"get\", \"get\", \"get\", \"get\", \"gif\", \"gif\", \"gif\", \"gif\", \"gif\", \"goal\", \"goal\", \"goal\", \"goal\", \"goal\", \"god\", \"god\", \"god\", \"god\", \"god\", \"god\", \"god\", \"god\", \"going\", \"going\", \"going\", \"going\", \"going\", \"going\", \"going\", \"going\", \"going\", \"good\", \"good\", \"good\", \"good\", \"good\", \"good\", \"good\", \"good\", \"good\", \"gov\", \"gov\", \"gov\", \"gov\", \"gov\", \"gov\", \"gov\", \"government\", \"government\", \"government\", \"government\", \"government\", \"government\", \"government\", \"government\", \"grant\", \"grant\", \"grant\", \"grant\", \"grant\", \"grant\", \"graphics\", \"graphics\", \"graphics\", \"graphics\", \"graphics\", \"graphics\", \"graphics\", \"graphics\", \"green\", \"green\", \"green\", \"green\", \"green\", \"greenbelt\", \"greenbelt\", \"greenbelt\", \"gregg\", \"group\", \"group\", \"group\", \"group\", \"group\", \"group\", \"group\", \"group\", \"group\", \"gtoal\", \"gtoal\", \"hamburg\", \"hamburg\", \"hard\", \"hard\", \"hard\", \"hard\", \"hard\", \"hard\", \"hard\", \"hard\", \"hard\", \"help\", \"help\", \"help\", \"help\", \"help\", \"help\", \"help\", \"help\", \"help\", \"henry\", \"henry\", \"henry\", \"henry\", \"holy\", \"holy\", \"host\", \"host\", \"host\", \"host\", \"host\", \"host\", \"host\", \"host\", \"host\", \"i'm\", \"i'm\", \"i'm\", \"i'm\", \"i'm\", \"i'm\", \"i'm\", \"i'm\", \"i'm\", \"i3150101\", \"i3150101\", \"ibm\", \"ibm\", \"ibm\", \"ibm\", \"ibm\", \"ibm\", \"ibm\", \"ibm\", \"ibm\", \"ico\", \"ico\", \"ico\", \"ico\", \"ide\", \"ide\", \"ide\", \"ide\", \"illinois\", \"illinois\", \"illinois\", \"illinois\", \"illinois\", \"image\", \"image\", \"image\", \"image\", \"image\", \"image\", \"image\", \"images\", \"images\", \"images\", \"images\", \"images\", \"images\", \"information\", \"information\", \"information\", \"information\", \"information\", \"information\", \"information\", \"information\", \"information\", \"ins\", \"ins\", \"ins\", \"instruments\", \"instruments\", \"instruments\", \"instruments\", \"instruments\", \"international\", \"international\", \"international\", \"international\", \"international\", \"international\", \"international\", \"international\", \"international\", \"isa\", \"isa\", \"isa\", \"isc\", \"isc\", \"isc\", \"isc\", \"islam\", \"islam\", \"islam\", \"islamic\", \"islamic\", \"islamic\", \"jaeger\", \"jesus\", \"jesus\", \"jesus\", \"jesus\", \"jet\", \"jet\", \"jet\", \"jewish\", \"jews\", \"john\", \"john\", \"john\", \"john\", \"john\", \"john\", \"john\", \"john\", \"john\", \"johnson\", \"johnson\", \"johnson\", \"johnson\", \"johnson\", \"jon\", \"jon\", \"jon\", \"jon\", \"jon\", \"jon\", \"jon\", \"jon\", \"jpl\", \"jpl\", \"jpl\", \"jpl\", \"jpl\", \"jsc\", \"jsc\", \"jsc\", \"jupiter\", \"jupiter\", \"jupiter\", \"keith\", \"keith\", \"keith\", \"keith\", \"keith\", \"keith\", \"keith\", \"kelvin\", \"kelvin\", \"kent\", \"kent\", \"kent\", \"kent\", \"key\", \"key\", \"key\", \"key\", \"key\", \"key\", \"key\", \"key\", \"key\", \"keys\", \"keys\", \"keys\", \"keys\", \"keys\", \"keys\", \"kmr4\", \"kmr4\", \"kmr4\", \"know\", \"know\", \"know\", \"know\", \"know\", \"know\", \"know\", \"know\", \"know\", \"koresh\", \"ksand\", \"labs\", \"labs\", \"labs\", \"labs\", \"labs\", \"launch\", \"launch\", \"launch\", \"launch\", \"launch\", \"launch\", \"launched\", \"launched\", \"law\", \"law\", \"law\", \"law\", \"law\", \"law\", \"law\", \"law\", \"law\", \"level\", \"level\", \"level\", \"level\", \"level\", \"level\", \"level\", \"level\", \"level\", \"library\", \"library\", \"library\", \"library\", \"library\", \"library\", \"library\", \"life\", \"life\", \"life\", \"life\", \"life\", \"life\", \"life\", \"life\", \"life\", \"like\", \"like\", \"like\", \"like\", \"like\", \"like\", \"like\", \"like\", \"like\", \"line\", \"line\", \"line\", \"line\", \"line\", \"line\", \"line\", \"line\", \"line\", \"livesey\", \"livesey\", \"livesey\", \"livesey\", \"livesey\", \"lunar\", \"lunar\", \"lunar\", \"lunar\", \"lunar\", \"lunar\", \"machines\", \"machines\", \"machines\", \"machines\", \"machines\", \"machines\", \"mail\", \"mail\", \"mail\", \"mail\", \"mail\", \"mail\", \"mail\", \"mail\", \"mail\", \"man's\", \"man's\", \"man's\", \"man's\", \"mantis\", \"mantis\", \"mantis\", \"many\", \"many\", \"many\", \"many\", \"many\", \"many\", \"many\", \"many\", \"many\", \"mars\", \"mars\", \"mars\", \"mars\", \"mary\", \"mary\", \"mary\", \"mary\", \"mary\", \"maryland\", \"maryland\", \"maryland\", \"maryland\", \"mathematical\", \"mathematical\", \"mathematical\", \"mathematical\", \"mathematical\", \"mathematical\", \"may\", \"may\", \"may\", \"may\", \"may\", \"may\", \"may\", \"may\", \"may\", \"memory\", \"memory\", \"memory\", \"memory\", \"memory\", \"memory\", \"memory\", \"memory\", \"memory\", \"mhz\", \"mhz\", \"mhz\", \"mhz\", \"mhz\", \"mission\", \"mission\", \"mission\", \"mission\", \"mission\", \"missions\", \"missions\", \"missions\", \"modem\", \"modem\", \"modem\", \"modem\", \"modem\", \"money\", \"money\", \"money\", \"money\", \"money\", \"money\", \"money\", \"money\", \"monitor\", \"monitor\", \"monitor\", \"monitor\", \"monitor\", \"monitor\", \"monitor\", \"monitors\", \"monitors\", \"monitors\", \"monitors\", \"monitors\", \"months\", \"months\", \"months\", \"months\", \"months\", \"months\", \"months\", \"months\", \"months\", \"moon\", \"moon\", \"moon\", \"moon\", \"moon\", \"moon\", \"moral\", \"moral\", \"moral\", \"moral\", \"moral\", \"morality\", \"morality\", \"morality\", \"morality\", \"motherboard\", \"motherboard\", \"motherboard\", \"mouse\", \"mouse\", \"mouse\", \"mozumder\", \"mozumder\", \"much\", \"much\", \"much\", \"much\", \"much\", \"much\", \"much\", \"much\", \"much\", \"muslim\", \"muslim\", \"muslims\", \"muslims\", \"nasa\", \"nasa\", \"nasa\", \"nasa\", \"nasa\", \"nasa\", \"national\", \"national\", \"national\", \"national\", \"national\", \"national\", \"national\", \"national\", \"navy\", \"navy\", \"navy\", \"navy\", \"navy\", \"net\", \"net\", \"net\", \"net\", \"net\", \"net\", \"net\", \"net\", \"net\", \"netcom\", \"netcom\", \"netcom\", \"netcom\", \"netcom\", \"netcom\", \"netcom\", \"netcom\", \"netcom\", \"new\", \"new\", \"new\", \"new\", \"new\", \"new\", \"new\", \"new\", \"new\", \"news\", \"news\", \"news\", \"news\", \"news\", \"news\", \"news\", \"news\", \"news\", \"newsgroup\", \"newsgroup\", \"newsgroup\", \"newsgroup\", \"newsgroup\", \"newsgroup\", \"newsgroup\", \"newsgroup\", \"newton\", \"newton\", \"nist\", \"nist\", \"nntp\", \"nntp\", \"nntp\", \"nntp\", \"nntp\", \"nntp\", \"nntp\", \"nntp\", \"nntp\", \"nsa\", \"nsa\", \"nsa\", \"nsa\", \"nsa\", \"nsa\", \"nsmca\", \"nsmca\", \"nuclear\", \"nuclear\", \"nuclear\", \"nuclear\", \"nuclear\", \"o'dwyer\", \"o'dwyer\", \"objective\", \"objective\", \"objective\", \"objective\", \"objective\", \"objects\", \"objects\", \"objects\", \"objects\", \"observatory\", \"observatory\", \"one\", \"one\", \"one\", \"one\", \"one\", \"one\", \"one\", \"one\", \"one\", \"online\", \"online\", \"online\", \"online\", \"online\", \"orbit\", \"orbit\", \"orbit\", \"orbit\", \"orbit\", \"orbital\", \"orbital\", \"orbital\", \"orbital\", \"orbital\", \"package\", \"package\", \"package\", \"package\", \"packages\", \"packages\", \"packages\", \"pasadena\", \"pasadena\", \"pasadena\", \"pat\", \"pat\", \"pat\", \"pat\", \"pat\", \"pat\", \"people\", \"people\", \"people\", \"people\", \"people\", \"people\", \"people\", \"people\", \"people\", \"pgp\", \"pgp\", \"pgp\", \"pgp\", \"phone\", \"phone\", \"phone\", \"phone\", \"phone\", \"phone\", \"phone\", \"phone\", \"phones\", \"phones\", \"phones\", \"phones\", \"pin\", \"pin\", \"pin\", \"pin\", \"pin\", \"planet\", \"planet\", \"planet\", \"planet\", \"planet\", \"planetary\", \"planetary\", \"planetary\", \"planetary\", \"planetary\", \"planets\", \"planets\", \"planets\", \"planets\", \"please\", \"please\", \"please\", \"please\", \"please\", \"please\", \"please\", \"please\", \"please\", \"point\", \"point\", \"point\", \"point\", \"point\", \"point\", \"point\", \"point\", \"point\", \"points\", \"points\", \"points\", \"points\", \"points\", \"points\", \"points\", \"points\", \"points\", \"political\", \"political\", \"political\", \"political\", \"political\", \"political\", \"political\", \"political\", \"port\", \"port\", \"port\", \"port\", \"portal\", \"portal\", \"portal\", \"portal\", \"portal\", \"portal\", \"ports\", \"ports\", \"ports\", \"ports\", \"ports\", \"posting\", \"posting\", \"posting\", \"posting\", \"posting\", \"posting\", \"posting\", \"posting\", \"posting\", \"prb\", \"privacy\", \"privacy\", \"privacy\", \"privacy\", \"privacy\", \"privacy\", \"problem\", \"problem\", \"problem\", \"problem\", \"problem\", \"problem\", \"problem\", \"problem\", \"problem\", \"processing\", \"processing\", \"processing\", \"processing\", \"processing\", \"program\", \"program\", \"program\", \"program\", \"program\", \"program\", \"program\", \"program\", \"program\", \"proposal\", \"proposal\", \"proposal\", \"proposal\", \"proposal\", \"proposal\", \"proposal\", \"proposal\", \"propulsion\", \"propulsion\", \"protect\", \"protect\", \"protect\", \"protect\", \"pub\", \"pub\", \"pub\", \"pub\", \"public\", \"public\", \"public\", \"public\", \"public\", \"public\", \"public\", \"public\", \"public\", \"punisher\", \"race\", \"race\", \"race\", \"race\", \"race\", \"ram\", \"ram\", \"ram\", \"ram\", \"ram\", \"ram\", \"ram\", \"readers\", \"readers\", \"readers\", \"readers\", \"religion\", \"religion\", \"religion\", \"religion\", \"religions\", \"religious\", \"reply\", \"reply\", \"reply\", \"reply\", \"reply\", \"reply\", \"reply\", \"reply\", \"reply\", \"represents\", \"represents\", \"represents\", \"represents\", \"represents\", \"represents\", \"represents\", \"research\", \"research\", \"research\", \"research\", \"research\", \"research\", \"research\", \"research\", \"research\", \"reserve\", \"reserve\", \"reserve\", \"reserve\", \"rit\", \"rit\", \"rit\", \"rit\", \"rocket\", \"rocket\", \"rocket\", \"rom\", \"rom\", \"rom\", \"rom\", \"rom\", \"rom\", \"rom\", \"rosenau\", \"rosenau\", \"routine\", \"routine\", \"routine\", \"routine\", \"routine\", \"routines\", \"routines\", \"routines\", \"rsa\", \"rsa\", \"rushdie\", \"russian\", \"russian\", \"russian\", \"russian\", \"russian\", \"ryan\", \"ryan\", \"ryan\", \"ryan\", \"said\", \"said\", \"said\", \"said\", \"said\", \"said\", \"said\", \"said\", \"said\", \"sandvik\", \"satellite\", \"satellite\", \"satellite\", \"satellite\", \"satellite\", \"satellites\", \"satellites\", \"satellites\", \"say\", \"say\", \"say\", \"say\", \"say\", \"say\", \"say\", \"say\", \"say\", \"schneider\", \"schneider\", \"sci\", \"sci\", \"sci\", \"sci\", \"sci\", \"sci\", \"sci\", \"sci\", \"science\", \"science\", \"science\", \"science\", \"science\", \"science\", \"science\", \"science\", \"science\", \"screen\", \"screen\", \"screen\", \"screen\", \"screen\", \"screen\", \"screen\", \"scsi\", \"scsi\", \"scsi\", \"scsi\", \"sea\", \"sea\", \"sea\", \"sea\", \"sea\", \"sea\", \"sea\", \"sec\", \"sec\", \"sec\", \"sec\", \"secret\", \"secret\", \"secret\", \"secret\", \"secret\", \"secret\", \"secret\", \"secure\", \"secure\", \"secure\", \"secure\", \"security\", \"security\", \"security\", \"security\", \"security\", \"security\", \"security\", \"see\", \"see\", \"see\", \"see\", \"see\", \"see\", \"see\", \"see\", \"see\", \"send\", \"send\", \"send\", \"send\", \"send\", \"send\", \"send\", \"send\", \"send\", \"settings\", \"settings\", \"settings\", \"settings\", \"settings\", \"setup\", \"setup\", \"setup\", \"setup\", \"setup\", \"setup\", \"sgi\", \"sgi\", \"sgi\", \"sgi\", \"sgi\", \"sgi\", \"shuttle\", \"shuttle\", \"shuttle\", \"shuttle\", \"significance\", \"significance\", \"significance\", \"significance\", \"significance\", \"significance\", \"significance\", \"sky\", \"sky\", \"sky\", \"sky\", \"sky\", \"software\", \"software\", \"software\", \"software\", \"software\", \"software\", \"software\", \"software\", \"software\", \"solar\", \"solar\", \"solar\", \"solar\", \"solntze\", \"solntze\", \"solntze\", \"solntze\", \"solntze\", \"space\", \"space\", \"space\", \"space\", \"space\", \"space\", \"space\", \"space\", \"spacecraft\", \"spacecraft\", \"spacecraft\", \"spacecraft\", \"speak\", \"speak\", \"speak\", \"speak\", \"speak\", \"speak\", \"speak\", \"speak\", \"speak\", \"speed\", \"speed\", \"speed\", \"speed\", \"speed\", \"speed\", \"speed\", \"speed\", \"speed\", \"spencer\", \"spencer\", \"spencer\", \"spencer\", \"spencer\", \"split\", \"split\", \"split\", \"split\", \"split\", \"split\", \"star\", \"star\", \"star\", \"star\", \"star\", \"star\", \"sternlight\", \"steve\", \"steve\", \"steve\", \"steve\", \"steve\", \"steve\", \"steve\", \"steve\", \"strnlght\", \"student\", \"student\", \"student\", \"student\", \"student\", \"student\", \"student\", \"student\", \"surface\", \"surface\", \"surface\", \"surface\", \"surface\", \"surface\", \"surface\", \"sys\", \"sys\", \"sys\", \"sys\", \"sys\", \"system\", \"system\", \"system\", \"system\", \"system\", \"system\", \"system\", \"system\", \"system\", \"tape\", \"tape\", \"tape\", \"tape\", \"tape\", \"tape\", \"tape\", \"technology\", \"technology\", \"technology\", \"technology\", \"technology\", \"technology\", \"technology\", \"technology\", \"tek\", \"tek\", \"tek\", \"tek\", \"texas\", \"texas\", \"texas\", \"texas\", \"texas\", \"texas\", \"texas\", \"texas\", \"thanks\", \"thanks\", \"thanks\", \"thanks\", \"thanks\", \"thanks\", \"thanks\", \"thanks\", \"thanks\", \"therefore\", \"therefore\", \"therefore\", \"therefore\", \"therefore\", \"therefore\", \"therefore\", \"therefore\", \"therefore\", \"things\", \"things\", \"things\", \"things\", \"things\", \"things\", \"things\", \"things\", \"things\", \"think\", \"think\", \"think\", \"think\", \"think\", \"think\", \"think\", \"think\", \"think\", \"tiff\", \"tiff\", \"tiff\", \"tiff\", \"tiff\", \"time\", \"time\", \"time\", \"time\", \"time\", \"time\", \"time\", \"time\", \"time\", \"toal\", \"toronto\", \"toronto\", \"toronto\", \"toronto\", \"toronto\", \"toronto\", \"true\", \"true\", \"true\", \"true\", \"true\", \"true\", \"true\", \"true\", \"true\", \"truth\", \"truth\", \"truth\", \"truth\", \"truth\", \"truth\", \"two\", \"two\", \"two\", \"two\", \"two\", \"two\", \"two\", \"two\", \"two\", \"type\", \"type\", \"type\", \"type\", \"type\", \"type\", \"type\", \"type\", \"uiuc\", \"uiuc\", \"uiuc\", \"uiuc\", \"uiuc\", \"uiuc\", \"uiuc\", \"uiuc\", \"uiuc\", \"ultb\", \"ultb\", \"ultb\", \"ultb\", \"umd\", \"umd\", \"umd\", \"umd\", \"umd\", \"umd\", \"umich\", \"umich\", \"umich\", \"university\", \"university\", \"university\", \"university\", \"university\", \"university\", \"university\", \"university\", \"university\", \"unix\", \"unix\", \"unix\", \"unix\", \"unix\", \"unix\", \"unix\", \"unix\", \"urbana\", \"urbana\", \"urbana\", \"usa\", \"usa\", \"usa\", \"usa\", \"usa\", \"usa\", \"usa\", \"usa\", \"use\", \"use\", \"use\", \"use\", \"use\", \"use\", \"use\", \"use\", \"use\", \"used\", \"used\", \"used\", \"used\", \"used\", \"used\", \"used\", \"used\", \"used\", \"utzoo\", \"utzoo\", \"uucp\", \"uucp\", \"uucp\", \"uucp\", \"uucp\", \"uucp\", \"uucp\", \"uucp\", \"uucp\", \"value\", \"value\", \"value\", \"value\", \"value\", \"value\", \"value\", \"value\", \"value\", \"values\", \"values\", \"values\", \"values\", \"values\", \"values\", \"values\", \"van\", \"van\", \"van\", \"van\", \"van\", \"van\", \"vax\", \"vax\", \"vax\", \"vax\", \"vax\", \"vax\", \"vax\", \"version\", \"version\", \"version\", \"version\", \"version\", \"version\", \"version\", \"version\", \"version\", \"vice\", \"vice\", \"vice\", \"vice\", \"vice\", \"vice\", \"vice\", \"vlb\", \"vlb\", \"vnet\", \"vnet\", \"vnet\", \"vnews\", \"vnews\", \"vnews\", \"vnews\", \"way\", \"way\", \"way\", \"way\", \"way\", \"way\", \"way\", \"way\", \"way\", \"well\", \"well\", \"well\", \"well\", \"well\", \"well\", \"well\", \"well\", \"well\", \"western\", \"western\", \"western\", \"western\", \"western\", \"western\", \"wiretap\", \"work\", \"work\", \"work\", \"work\", \"work\", \"work\", \"work\", \"work\", \"work\", \"world\", \"world\", \"world\", \"world\", \"world\", \"world\", \"world\", \"world\", \"world\", \"would\", \"would\", \"would\", \"would\", \"would\", \"would\", \"would\", \"would\", \"would\", \"wpd\", \"wpd\", \"wpd\", \"wpd\", \"wpd\", \"year\", \"year\", \"year\", \"year\", \"year\", \"year\", \"year\", \"year\", \"zoo\", \"zoo\", \"zoo\", \"zoo\", \"zoology\", \"zoology\"]}, \"R\": 30, \"lambda.step\": 0.01, \"plot.opts\": {\"xlab\": \"PC1\", \"ylab\": \"PC2\"}, \"topic.order\": [9, 6, 8, 4, 7, 5, 1, 3, 2]};\n",
       "\n",
       "function LDAvis_load_lib(url, callback){\n",
       "  var s = document.createElement('script');\n",
       "  s.src = url;\n",
       "  s.async = true;\n",
       "  s.onreadystatechange = s.onload = callback;\n",
       "  s.onerror = function(){console.warn(\"failed to load library \" + url);};\n",
       "  document.getElementsByTagName(\"head\")[0].appendChild(s);\n",
       "}\n",
       "\n",
       "if(typeof(LDAvis) !== \"undefined\"){\n",
       "   // already loaded: just create the visualization\n",
       "   !function(LDAvis){\n",
       "       new LDAvis(\"#\" + \"ldavis_el1545615601226209445064864659\", ldavis_el1545615601226209445064864659_data);\n",
       "   }(LDAvis);\n",
       "}else if(typeof define === \"function\" && define.amd){\n",
       "   // require.js is available: use it to load d3/LDAvis\n",
       "   require.config({paths: {d3: \"https://d3js.org/d3.v5\"}});\n",
       "   require([\"d3\"], function(d3){\n",
       "      window.d3 = d3;\n",
       "      LDAvis_load_lib(\"https://cdn.jsdelivr.net/gh/bmabey/pyLDAvis@3.3.1/pyLDAvis/js/ldavis.v3.0.0.js\", function(){\n",
       "        new LDAvis(\"#\" + \"ldavis_el1545615601226209445064864659\", ldavis_el1545615601226209445064864659_data);\n",
       "      });\n",
       "    });\n",
       "}else{\n",
       "    // require.js not available: dynamically load d3 & LDAvis\n",
       "    LDAvis_load_lib(\"https://d3js.org/d3.v5.js\", function(){\n",
       "         LDAvis_load_lib(\"https://cdn.jsdelivr.net/gh/bmabey/pyLDAvis@3.3.1/pyLDAvis/js/ldavis.v3.0.0.js\", function(){\n",
       "                 new LDAvis(\"#\" + \"ldavis_el1545615601226209445064864659\", ldavis_el1545615601226209445064864659_data);\n",
       "            })\n",
       "         });\n",
       "}\n",
       "</script>"
      ],
      "text/plain": [
       "PreparedData(topic_coordinates=              x         y  topics  cluster       Freq\n",
       "topic                                                \n",
       "8      0.130150 -0.013672       1        1  25.343044\n",
       "5     -0.045430  0.060721       2        1  17.432935\n",
       "7     -0.102660  0.109900       3        1  13.127730\n",
       "3     -0.079762 -0.047378       4        1  11.904442\n",
       "6     -0.064647  0.059494       5        1  10.740742\n",
       "4     -0.019337 -0.061164       6        1   6.844559\n",
       "0      0.036647 -0.108800       7        1   5.852298\n",
       "2     -0.026342 -0.093757       8        1   4.796284\n",
       "1      0.171381  0.094656       9        1   3.957966, topic_info=         Term         Freq        Total Category  logprob  loglift\n",
       "538     space  1518.000000  1518.000000  Default  30.0000  30.0000\n",
       "20        com  3720.000000  3720.000000  Default  29.0000  29.0000\n",
       "834       key  1331.000000  1331.000000  Default  28.0000  28.0000\n",
       "1551     scsi   711.000000   711.000000  Default  27.0000  27.0000\n",
       "70    posting  1737.000000  1737.000000  Default  26.0000  26.0000\n",
       "...       ...          ...          ...      ...      ...      ...\n",
       "70    posting    78.129791  1737.659389   Topic9  -5.1370   0.1275\n",
       "100     would    79.169174  2723.205949   Topic9  -5.1238  -0.3085\n",
       "364       way    68.384512   872.079222   Topic9  -5.2702   0.6837\n",
       "176   science    65.036149   546.854822   Topic9  -5.3204   1.1002\n",
       "294      time    65.998295  1182.521843   Topic9  -5.3057   0.3437\n",
       "\n",
       "[541 rows x 6 columns], token_table=      Topic      Freq     Term\n",
       "term                          \n",
       "1359      1  0.012630      128\n",
       "1359      2  0.075781      128\n",
       "1359      3  0.865171      128\n",
       "1359      4  0.037891      128\n",
       "224       1  0.031218     1990\n",
       "...     ...       ...      ...\n",
       "704       6  0.880854      zoo\n",
       "704       7  0.100448      zoo\n",
       "704       8  0.007727      zoo\n",
       "705       6  0.970333  zoology\n",
       "705       7  0.014270  zoology\n",
       "\n",
       "[2302 rows x 3 columns], R=30, lambda_step=0.01, plot_opts={'xlab': 'PC1', 'ylab': 'PC2'}, topic_order=[9, 6, 8, 4, 7, 5, 1, 3, 2])"
      ]
     },
     "execution_count": 25,
     "metadata": {},
     "output_type": "execute_result"
    }
   ],
   "source": [
    "import pyLDAvis\n",
    "import pyLDAvis.gensim_models as gensimvis\n",
    "pyLDAvis.enable_notebook()\n",
    "# LDA 모형을 pyLDAvis 객체에 전달\n",
    "lda_viz = gensimvis.prepare(model, corpus, dictionary)\n",
    "lda_viz"
   ]
  },
  {
   "cell_type": "code",
   "execution_count": null,
   "id": "565545f2",
   "metadata": {},
   "outputs": [],
   "source": []
  }
 ],
 "metadata": {
  "kernelspec": {
   "display_name": "Python 3 (ipykernel)",
   "language": "python",
   "name": "python3"
  },
  "language_info": {
   "codemirror_mode": {
    "name": "ipython",
    "version": 3
   },
   "file_extension": ".py",
   "mimetype": "text/x-python",
   "name": "python",
   "nbconvert_exporter": "python",
   "pygments_lexer": "ipython3",
   "version": "3.9.12"
  }
 },
 "nbformat": 4,
 "nbformat_minor": 5
}
