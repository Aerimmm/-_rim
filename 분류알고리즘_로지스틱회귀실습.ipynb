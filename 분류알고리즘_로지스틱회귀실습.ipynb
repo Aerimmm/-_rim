{
 "cells": [
  {
   "cell_type": "markdown",
   "id": "188850d1",
   "metadata": {},
   "source": [
    "# 로지스틱 회귀 실습"
   ]
  },
  {
   "cell_type": "code",
   "execution_count": 1,
   "id": "53c9f6c6",
   "metadata": {},
   "outputs": [],
   "source": [
    "# 패키지 임포트\n",
    "import os\n",
    "import warnings\n",
    "# FutureWarning 제거\n",
    "warnings.simplefilter(action='ignore', category=FutureWarning) \n",
    "import pandas as pd # pandas package\n",
    "import numpy as np # numpy package \n",
    "import scipy as sp # Scipy Package \n",
    "from scipy import stats # Scipy Package \n",
    "from sklearn import datasets # sklearn dataset \n",
    "from sklearn.model_selection import train_test_split # 데이터셋 분리\n",
    "# 시각화 패키지\n",
    "import matplotlib.pyplot as plt # matplotlib 시각화 패키지\n",
    "import seaborn as sns\n",
    "%matplotlib inline\n",
    "# os에 따른 Font 깨짐 제거를 위해 Font 지정\n",
    "import os\n",
    "if os.name == 'nt' : # Windows OS \n",
    "    font_family = \"Malgun Gothic\"\n",
    "else: # MAC OS \n",
    "    font_family = \"AppleGothic\"\n",
    "# - 값이 깨지는 문제 해결을 위해 파라미터값 설정\n",
    "sns.set(font=font_family, rc ={\"axes.unicode_minus\" : False})"
   ]
  },
  {
   "cell_type": "code",
   "execution_count": 2,
   "id": "adc9bd97",
   "metadata": {},
   "outputs": [
    {
     "data": {
      "image/png": "[encoded data removed]",
      "text/plain": [
       "<Figure size 360x288 with 1 Axes>"
      ]
     },
     "metadata": {},
     "output_type": "display_data"
    }
   ],
   "source": [
    "## 로짓 펑션 시각화\n",
    "p = np.arange(0.001, 1, 0.001)\n",
    "\n",
    "logit_df = pd.DataFrame({\n",
    "    'p' : p,\n",
    "    'logit' : np.log(p / (1-p)),\n",
    "    'odds' : p / (1-p),\n",
    "})\n",
    "\n",
    "fig, ax = plt.subplots(figsize = (5,4))\n",
    "ax.axhline(0, color = 'grey', linestyle = '--')\n",
    "ax.axvline(0.5, color = 'grey', linestyle = '--')\n",
    "ax.plot(logit_df['p'], logit_df['logit'])\n",
    "ax.set_xlabel(\"Probability\")\n",
    "ax.set_ylabel(\"logit(p)\")\n",
    "\n",
    "plt.tight_layout()\n",
    "plt.show()\n",
    "\n",
    "# 닿지 않는 무한대가 나온다."
   ]
  },
  {
   "cell_type": "code",
   "execution_count": 3,
   "id": "dfdf362f",
   "metadata": {},
   "outputs": [
    {
     "data": {
      "image/png": "[encoded data removed]",
      "text/plain": [
       "<Figure size 360x288 with 1 Axes>"
      ]
     },
     "metadata": {},
     "output_type": "display_data"
    }
   ],
   "source": [
    "## logitstic Function  = sigmoid\n",
    "x = logit_df['logit']\n",
    "phi = 1 / (1 + np.exp(-x)) # x :판별함수\n",
    "plt.figure(figsize = (5,4))\n",
    "\n",
    "plt.plot(x, phi)\n",
    "plt.xlabel('x')\n",
    "plt.ylabel(\"Probability\")\n",
    "\n",
    "plt.show()"
   ]
  },
  {
   "cell_type": "code",
   "execution_count": 4,
   "id": "bc8c1894",
   "metadata": {},
   "outputs": [
    {
     "name": "stdout",
     "output_type": "stream",
     "text": [
      "0.8807970779778823\n"
     ]
    }
   ],
   "source": [
    "# 사례 결과 확인\n",
    "phi = 1 / (1 + np.exp(-2))\n",
    "print(phi)\n",
    "\n",
    "# 0에서 1사이의 값을 가진다."
   ]
  },
  {
   "cell_type": "markdown",
   "id": "23145fe2",
   "metadata": {},
   "source": [
    "# 이항 로지스틱 회귀 실습\n",
    "- 위스콘신 유방암 데이터셋 이용"
   ]
  },
  {
   "cell_type": "code",
   "execution_count": 5,
   "id": "644c83fa",
   "metadata": {},
   "outputs": [
    {
     "name": "stdout",
     "output_type": "stream",
     "text": [
      "종양 여부 결정 속성 : ['mean radius' 'mean texture' 'mean perimeter' 'mean area'\n",
      " 'mean smoothness' 'mean compactness' 'mean concavity'\n",
      " 'mean concave points' 'mean symmetry' 'mean fractal dimension'\n",
      " 'radius error' 'texture error' 'perimeter error' 'area error'\n",
      " 'smoothness error' 'compactness error' 'concavity error'\n",
      " 'concave points error' 'symmetry error' 'fractal dimension error'\n",
      " 'worst radius' 'worst texture' 'worst perimeter' 'worst area'\n",
      " 'worst smoothness' 'worst compactness' 'worst concavity'\n",
      " 'worst concave points' 'worst symmetry' 'worst fractal dimension']\n",
      "종양 구분 : ['malignant' 'benign']\n"
     ]
    }
   ],
   "source": [
    "## 데이터셋 로드\n",
    "from sklearn.datasets import load_breast_cancer\n",
    "data = load_breast_cancer()\n",
    "\n",
    "# 독립변수 input data\n",
    "b_input_data = data.data\n",
    "\n",
    "# 종양 : target data\n",
    "# 악성 (0) mal , 양성(1) benign\n",
    "b_target_data = data.target\n",
    "\n",
    "# 종양 구분\n",
    "tumar = data.target_names\n",
    "\n",
    "# 속성 명칭\n",
    "feature_names = data.feature_names\n",
    "\n",
    "print('종양 여부 결정 속성 : {}'.format(feature_names))\n",
    "print(\"종양 구분 : {}\".format(tumar))\n",
    "\n",
    "breast_df = pd.DataFrame(b_input_data, columns = feature_names)\n",
    "breast_df['target'] = b_target_data\n",
    "\n",
    "# 속성명 공백에 \"_\" 달기\n",
    "breast_df.columns = [col.replace(\" \",\"_\") for col in breast_df.columns]"
   ]
  },
  {
   "cell_type": "code",
   "execution_count": 6,
   "id": "149449cb",
   "metadata": {},
   "outputs": [
    {
     "name": "stdout",
     "output_type": "stream",
     "text": [
      "(569, 31)\n"
     ]
    },
    {
     "data": {
      "text/plain": [
       "1    357\n",
       "0    212\n",
       "Name: target, dtype: int64"
      ]
     },
     "execution_count": 6,
     "metadata": {},
     "output_type": "execute_result"
    }
   ],
   "source": [
    "## 데이터 확인\n",
    "# 데이터 차원\n",
    "print(breast_df.shape)\n",
    "# label 데이터 비율 확인\n",
    "breast_df['target'].value_counts()"
   ]
  },
  {
   "cell_type": "code",
   "execution_count": 10,
   "id": "632bd36b",
   "metadata": {},
   "outputs": [],
   "source": [
    "## 학습 데이터셋 생성\n",
    "# 평균 관련된 3개의 속성으로 종양 여부 판단\n",
    "model_feature_name = ['mean_radius', 'mean_texture', 'mean_perimeter']\n",
    "X = breast_df[model_feature_name]\n",
    "Y = breast_df['target']\n",
    "\n",
    "# 80% 데이터를 학습 데이터로, 20% 를 테스트 데이터로.\n",
    "X_train, X_test, y_train, y_test = train_test_split(X, Y, \n",
    "                                                    test_size = 0.2, random_state= 20)\n",
    "\n",
    "## 표준화 데이터 스케일링\n",
    "from sklearn.preprocessing import StandardScaler\n",
    "\n",
    "## 스케일링 & 정규화\n",
    "scaler = StandardScaler()\n",
    "train_scaled = scaler.fit_transform(X_train)\n",
    "test_scaled = scaler.fit_transform(X_test)"
   ]
  },
  {
   "cell_type": "markdown",
   "id": "4f6c009f",
   "metadata": {},
   "source": [
    "# 로지스틱회귀\n",
    "- from sklearn.linear_model import LogisticRegression"
   ]
  },
  {
   "cell_type": "code",
   "execution_count": 11,
   "id": "572cac3b",
   "metadata": {},
   "outputs": [
    {
     "name": "stdout",
     "output_type": "stream",
     "text": [
      "test데이터셋 정확도 :  0.9298245614035088\n"
     ]
    }
   ],
   "source": [
    "from sklearn.linear_model import LogisticRegression\n",
    "\n",
    "## 반복횟수(max_iter)를 100으로 지정한 로지스틱 회귀모델\n",
    "lr = LogisticRegression(max_iter = 100)\n",
    "\n",
    "lr.fit(train_scaled, y_train)\n",
    "\n",
    "## 테스트 데이터 정확도확인\n",
    "# 결과 확인\n",
    "print(\"test데이터셋 정확도 : \", lr.score(test_scaled, y_test))"
   ]
  },
  {
   "cell_type": "code",
   "execution_count": 12,
   "id": "c97fee72",
   "metadata": {},
   "outputs": [
    {
     "name": "stdout",
     "output_type": "stream",
     "text": [
      "coefficient : \n",
      " [[-0.57412744 -0.95219005 -2.85929651]]\n",
      "\n",
      "intercept : \n",
      " [0.75640782]\n"
     ]
    }
   ],
   "source": [
    "## 회귀계수 확인\n",
    "print(\"coefficient : \\n\", lr.coef_)\n",
    "print()\n",
    "print(\"intercept : \\n\", lr.intercept_)"
   ]
  },
  {
   "cell_type": "code",
   "execution_count": 15,
   "id": "58726fa0",
   "metadata": {},
   "outputs": [
    {
     "name": "stdout",
     "output_type": "stream",
     "text": [
      "Class :  [0 1]\n",
      "테스트 데이터 : \n",
      " [[-0.96666522  0.32786912 -0.93579507]\n",
      " [ 0.4242379   0.0712003   0.33778671]\n",
      " [ 1.28148839  1.52735117  1.37335484]\n",
      " [-0.60048868  2.32022913 -0.63222328]\n",
      " [ 0.02115985  1.19698535  0.04006087]]\n",
      "테스트 데이터의 각 클래스 확률 : \n",
      " [[0.02472466 0.97527534]\n",
      " [0.62733186 0.37266814]\n",
      " [0.99532336 0.00467664]\n",
      " [0.33190545 0.66809455]\n",
      " [0.62481681 0.37518319]]\n",
      "예측결과 :  [1 0 0 1 0]\n"
     ]
    }
   ],
   "source": [
    "## 테스트 데이터 각 클래스별 확률 확인\n",
    "# 어떤 클래스가 있는 지 확인\n",
    "print(\"Class : \", lr.classes_)\n",
    "\n",
    "# 테스트 데이터\n",
    "print(\"테스트 데이터 : \\n\", test_scaled[:5])\n",
    "\n",
    "# 테스트 데이터의 각 클래스 확률 확인\n",
    "print(\"테스트 데이터의 각 클래스 확률 : \\n\", lr.predict_proba(test_scaled[:5]))\n",
    "\n",
    "## 테스트 데이터 에측 결과\n",
    "Y_pred = lr.predict(test_scaled[:5])\n",
    "print(\"예측결과 : \", Y_pred)"
   ]
  },
  {
   "cell_type": "code",
   "execution_count": 16,
   "id": "94da1cfc",
   "metadata": {},
   "outputs": [
    {
     "name": "stdout",
     "output_type": "stream",
     "text": [
      "테스트 데이터 : \n",
      " [[-0.96666522  0.32786912 -0.93579507]\n",
      " [ 0.4242379   0.0712003   0.33778671]\n",
      " [ 1.28148839  1.52735117  1.37335484]\n",
      " [-0.60048868  2.32022913 -0.63222328]\n",
      " [ 0.02115985  1.19698535  0.04006087]]\n",
      "\n",
      "decision_function =  [ 3.67 -0.52 -5.36  0.7  -0.51]\n",
      "\n",
      "클래스1 확률 :  [0.97527534 0.37266814 0.00467664 0.66809455 0.37518319]\n",
      "클래스0 확률 :  [0.02472466 0.62733186 0.99532336 0.33190545 0.62481681]\n"
     ]
    }
   ],
   "source": [
    "## 판별함수 (Decision_function) 으로 z값 산출\n",
    "# 테스트 데이터 확인\n",
    "print(\"테스트 데이터 : \\n\", test_scaled[:5])\n",
    "\n",
    "# 이진 분류의 decision_function 은 1 클래스(양성)에 대응하는 값을 반환\n",
    "decision = lr.decision_function(test_scaled[:5])\n",
    "print()\n",
    "print(\"decision_function = \", np.round(decision[:5], decimals = 2))\n",
    "print()\n",
    "# 로지스틱 함수 양성(1) 클래스의 확률\n",
    "phi = 1 / (1 + np.exp(-decision))\n",
    "\n",
    "# 로지스틱 함수 악성(0) 클래스의 확률\n",
    "n_phi = 1 - (phi)\n",
    "\n",
    "print(\"클래스1 확률 : \", phi)\n",
    "print(\"클래스0 확률 : \", n_phi)"
   ]
  },
  {
   "cell_type": "code",
   "execution_count": 19,
   "id": "43444d83",
   "metadata": {},
   "outputs": [
    {
     "name": "stdout",
     "output_type": "stream",
     "text": [
      "              precision    recall  f1-score   support\n",
      "\n",
      "           0       0.93      0.90      0.91        48\n",
      "           1       0.93      0.95      0.94        66\n",
      "\n",
      "    accuracy                           0.93       114\n",
      "   macro avg       0.93      0.93      0.93       114\n",
      "weighted avg       0.93      0.93      0.93       114\n",
      "\n",
      "\n",
      "confusion matrix = \n",
      " [[43  5]\n",
      " [ 3 63]]\n",
      "\n",
      "accuracy = \n",
      " 0.9298245614035088\n",
      "precision = \n",
      " 0.9264705882352942\n",
      "recall = \n",
      " 0.9545454545454546\n",
      "f1 score = \n",
      " 0.9402985074626866\n"
     ]
    }
   ],
   "source": [
    "## 모델 평가\n",
    "from sklearn.metrics import classification_report, confusion_matrix\n",
    "from sklearn.metrics import accuracy_score, precision_score, recall_score, f1_score\n",
    "\n",
    "# 에측값\n",
    "Y_pred = lr.predict(test_scaled)\n",
    "\n",
    "# 성능 리포트값 출력\n",
    "print(classification_report(y_test, lr.predict(test_scaled)))\n",
    "\n",
    "# 주요 성능 지표\n",
    "print()\n",
    "print('confusion matrix = \\n', confusion_matrix(y_true = y_test, y_pred=Y_pred))\n",
    "print()\n",
    "print('accuracy = \\n', accuracy_score(y_true = y_test, y_pred=Y_pred))\n",
    "print('precision = \\n', precision_score(y_true = y_test, y_pred=Y_pred))\n",
    "print('recall = \\n', recall_score(y_true = y_test, y_pred=Y_pred)) # 재현율\n",
    "print('f1 score = \\n', f1_score(y_true = y_test, y_pred=Y_pred))"
   ]
  },
  {
   "cell_type": "code",
   "execution_count": 20,
   "id": "caa59060",
   "metadata": {},
   "outputs": [
    {
     "data": {
      "text/plain": [
       "Text(0.5, 1.0, 'Confusion Matrix')"
      ]
     },
     "execution_count": 20,
     "metadata": {},
     "output_type": "execute_result"
    },
    {
     "data": {
      "image/png": "[encoded data removed]",
      "text/plain": [
       "<Figure size 432x288 with 2 Axes>"
      ]
     },
     "metadata": {},
     "output_type": "display_data"
    }
   ],
   "source": [
    "# 시각화\n",
    "# Confusion_matrix\n",
    "from sklearn.metrics import plot_confusion_matrix\n",
    "\n",
    "labels = ['malignant(악성)', 'benign(양성)']\n",
    "disp = plot_confusion_matrix(lr, test_scaled, y_test, \n",
    "                            display_labels = labels,\n",
    "                            cmap = plt.cm.Blues,\n",
    "                            normalize = None)\n",
    "disp.ax_.set_title('Confusion Matrix')"
   ]
  },
  {
   "cell_type": "code",
   "execution_count": 23,
   "id": "97741bdc",
   "metadata": {},
   "outputs": [
    {
     "data": {
      "image/png": "[encoded data removed]",
      "text/plain": [
       "<Figure size 432x288 with 1 Axes>"
      ]
     },
     "metadata": {},
     "output_type": "display_data"
    },
    {
     "name": "stdout",
     "output_type": "stream",
     "text": [
      "auc =  0.9690656565656566\n"
     ]
    }
   ],
   "source": [
    "## ROC Curve\n",
    "from sklearn.metrics import roc_curve, roc_auc_score, auc\n",
    "\n",
    "# 검증 데이터가 클래스 1에 해당하는 데이터\n",
    "Y_score = lr.predict_proba(test_scaled)[:,1]\n",
    "\n",
    "fpr,tpr,thresholds = roc_curve(y_true = y_test, y_score=Y_score)\n",
    "\n",
    "plt.plot(fpr,tpr,label = 'roc_curve(area = %0.3f)' % auc(fpr,tpr))\n",
    "plt.plot([0,1], [0,1], linestyle = '--', label = 'random')\n",
    "plt.plot([0,0,1], [0,1,1], linestyle = '--', label = 'ideal')\n",
    "plt.legend()\n",
    "plt.xlabel('false positive rate')\n",
    "plt.ylabel('true positive rate')\n",
    "plt.show()\n",
    "\n",
    "# AUC score\n",
    "print('auc = ', roc_auc_score(y_true=y_test, y_score=Y_score))"
   ]
  },
  {
   "cell_type": "markdown",
   "id": "ef9beb8e",
   "metadata": {},
   "source": [
    "- statsmodel 이용한 Logistic Regression"
   ]
  },
  {
   "cell_type": "code",
   "execution_count": 24,
   "id": "50ba0a04",
   "metadata": {},
   "outputs": [
    {
     "name": "stdout",
     "output_type": "stream",
     "text": [
      "Optimization terminated successfully.\n",
      "         Current function value: 0.195275\n",
      "         Iterations 9\n"
     ]
    }
   ],
   "source": [
    "## 로지스틱 모델 적합, y = F(x)\n",
    "import statsmodels.api as sm\n",
    "\n",
    "# 상수항 추가\n",
    "X = sm.add_constant(train_scaled)\n",
    "\n",
    "model_s = sm.Logit(y_train, X)\n",
    "\n",
    "results = model_s.fit()"
   ]
  },
  {
   "cell_type": "code",
   "execution_count": 25,
   "id": "45712803",
   "metadata": {},
   "outputs": [
    {
     "data": {
      "text/html": [
       "<table class=\"simpletable\">\n",
       "<caption>Logit Regression Results</caption>\n",
       "<tr>\n",
       "  <th>Dep. Variable:</th>        <td>target</td>      <th>  No. Observations:  </th>  <td>   455</td>  \n",
       "</tr>\n",
       "<tr>\n",
       "  <th>Model:</th>                 <td>Logit</td>      <th>  Df Residuals:      </th>  <td>   451</td>  \n",
       "</tr>\n",
       "<tr>\n",
       "  <th>Method:</th>                 <td>MLE</td>       <th>  Df Model:          </th>  <td>     3</td>  \n",
       "</tr>\n",
       "<tr>\n",
       "  <th>Date:</th>            <td>Tue, 06 Sep 2022</td> <th>  Pseudo R-squ.:     </th>  <td>0.7013</td>  \n",
       "</tr>\n",
       "<tr>\n",
       "  <th>Time:</th>                <td>13:56:59</td>     <th>  Log-Likelihood:    </th> <td> -88.850</td> \n",
       "</tr>\n",
       "<tr>\n",
       "  <th>converged:</th>             <td>True</td>       <th>  LL-Null:           </th> <td> -297.42</td> \n",
       "</tr>\n",
       "<tr>\n",
       "  <th>Covariance Type:</th>     <td>nonrobust</td>    <th>  LLR p-value:       </th> <td>4.288e-90</td>\n",
       "</tr>\n",
       "</table>\n",
       "<table class=\"simpletable\">\n",
       "<tr>\n",
       "    <td></td>       <th>coef</th>     <th>std err</th>      <th>z</th>      <th>P>|z|</th>  <th>[0.025</th>    <th>0.975]</th>  \n",
       "</tr>\n",
       "<tr>\n",
       "  <th>const</th> <td>    0.6509</td> <td>    0.199</td> <td>    3.265</td> <td> 0.001</td> <td>    0.260</td> <td>    1.042</td>\n",
       "</tr>\n",
       "<tr>\n",
       "  <th>x1</th>    <td>   22.3298</td> <td>    4.085</td> <td>    5.467</td> <td> 0.000</td> <td>   14.324</td> <td>   30.336</td>\n",
       "</tr>\n",
       "<tr>\n",
       "  <th>x2</th>    <td>   -1.0898</td> <td>    0.218</td> <td>   -4.994</td> <td> 0.000</td> <td>   -1.518</td> <td>   -0.662</td>\n",
       "</tr>\n",
       "<tr>\n",
       "  <th>x3</th>    <td>  -26.8748</td> <td>    4.368</td> <td>   -6.153</td> <td> 0.000</td> <td>  -35.435</td> <td>  -18.314</td>\n",
       "</tr>\n",
       "</table>"
      ],
      "text/plain": [
       "<class 'statsmodels.iolib.summary.Summary'>\n",
       "\"\"\"\n",
       "                           Logit Regression Results                           \n",
       "==============================================================================\n",
       "Dep. Variable:                 target   No. Observations:                  455\n",
       "Model:                          Logit   Df Residuals:                      451\n",
       "Method:                           MLE   Df Model:                            3\n",
       "Date:                Tue, 06 Sep 2022   Pseudo R-squ.:                  0.7013\n",
       "Time:                        13:56:59   Log-Likelihood:                -88.850\n",
       "converged:                       True   LL-Null:                       -297.42\n",
       "Covariance Type:            nonrobust   LLR p-value:                 4.288e-90\n",
       "==============================================================================\n",
       "                 coef    std err          z      P>|z|      [0.025      0.975]\n",
       "------------------------------------------------------------------------------\n",
       "const          0.6509      0.199      3.265      0.001       0.260       1.042\n",
       "x1            22.3298      4.085      5.467      0.000      14.324      30.336\n",
       "x2            -1.0898      0.218     -4.994      0.000      -1.518      -0.662\n",
       "x3           -26.8748      4.368     -6.153      0.000     -35.435     -18.314\n",
       "==============================================================================\n",
       "\"\"\""
      ]
     },
     "execution_count": 25,
     "metadata": {},
     "output_type": "execute_result"
    }
   ],
   "source": [
    "## 결과 리포트\n",
    "results.summary()"
   ]
  },
  {
   "cell_type": "code",
   "execution_count": 26,
   "id": "9bf3ce24",
   "metadata": {},
   "outputs": [
    {
     "data": {
      "text/plain": [
       "const     0.650922\n",
       "x1       22.329805\n",
       "x2       -1.089819\n",
       "x3      -26.874841\n",
       "dtype: float64"
      ]
     },
     "execution_count": 26,
     "metadata": {},
     "output_type": "execute_result"
    }
   ],
   "source": [
    "# 로지스틱의 log 형태가 취해진 결과\n",
    "results.params"
   ]
  },
  {
   "cell_type": "code",
   "execution_count": 28,
   "id": "ce4bda3a",
   "metadata": {},
   "outputs": [
    {
     "data": {
      "text/plain": [
       "const    1.917308e+00\n",
       "x1       4.985529e+09\n",
       "x2       3.362773e-01\n",
       "x3       2.130124e-12\n",
       "dtype: float64"
      ]
     },
     "execution_count": 28,
     "metadata": {},
     "output_type": "execute_result"
    }
   ],
   "source": [
    "# 시그모이드\n",
    "np.exp(results.params)"
   ]
  },
  {
   "cell_type": "code",
   "execution_count": 32,
   "id": "1a91ba7b",
   "metadata": {},
   "outputs": [
    {
     "data": {
      "text/plain": [
       "array([[-0.96666522,  0.32786912, -0.93579507],\n",
       "       [ 0.4242379 ,  0.0712003 ,  0.33778671],\n",
       "       [ 1.28148839,  1.52735117,  1.37335484],\n",
       "       [-0.60048868,  2.32022913, -0.63222328],\n",
       "       [ 0.02115985,  1.19698535,  0.04006087]])"
      ]
     },
     "execution_count": 32,
     "metadata": {},
     "output_type": "execute_result"
    }
   ],
   "source": [
    "# 5개 테스트셋 예측\n",
    "test_scaled[:5]"
   ]
  },
  {
   "cell_type": "code",
   "execution_count": 33,
   "id": "0a15e8fe",
   "metadata": {},
   "outputs": [],
   "source": [
    "# 상수항 추가\n",
    "X_test = sm.add_constant(test_scaled)"
   ]
  },
  {
   "cell_type": "code",
   "execution_count": 34,
   "id": "2b0b0910",
   "metadata": {},
   "outputs": [
    {
     "data": {
      "text/plain": [
       "array([9.79316159e-01, 7.24822900e-01, 9.07854265e-05, 8.46108119e-01,\n",
       "       2.21368457e-01])"
      ]
     },
     "execution_count": 34,
     "metadata": {},
     "output_type": "execute_result"
    }
   ],
   "source": [
    "# 예측 ( 클래스가 1일 확률 )\n",
    "results.predict(X_test[:5])"
   ]
  },
  {
   "cell_type": "markdown",
   "id": "165752bb",
   "metadata": {},
   "source": [
    "# 다항 로지스틱 회귀"
   ]
  },
  {
   "cell_type": "code",
   "execution_count": null,
   "id": "b680dfdd",
   "metadata": {},
   "outputs": [],
   "source": [
    "## iris 데이터셋 로드\n",
    "data = datasets.load_iris()\n",
    "\n",
    "# 꽃의 특징 (input data)\n",
    "t_input_data = data['data']\n"
   ]
  }
 ],
 "metadata": {
  "kernelspec": {
   "display_name": "Python 3 (ipykernel)",
   "language": "python",
   "name": "python3"
  },
  "language_info": {
   "codemirror_mode": {
    "name": "ipython",
    "version": 3
   },
   "file_extension": ".py",
   "mimetype": "text/x-python",
   "name": "python",
   "nbconvert_exporter": "python",
   "pygments_lexer": "ipython3",
   "version": "3.9.12"
  }
 },
 "nbformat": 4,
 "nbformat_minor": 5
}
