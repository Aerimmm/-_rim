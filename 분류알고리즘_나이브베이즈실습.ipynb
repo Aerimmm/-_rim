{
 "cells": [
  {
   "cell_type": "code",
   "execution_count": 1,
   "id": "481bfd75",
   "metadata": {},
   "outputs": [],
   "source": [
    "import numpy as np\n",
    "import pandas as pd\n",
    "import scipy as sp\n",
    "from sklearn.datasets import load_iris\n",
    "from sklearn.model_selection import train_test_split"
   ]
  },
  {
   "cell_type": "markdown",
   "id": "126cf22e",
   "metadata": {},
   "source": [
    "# 가우시안 나이브베이즈"
   ]
  },
  {
   "cell_type": "code",
   "execution_count": 9,
   "id": "e9788ce7",
   "metadata": {},
   "outputs": [],
   "source": [
    "## 가우시안 나이브 베이즈\n",
    "from sklearn.naive_bayes import GaussianNB\n",
    "\n",
    "## iris 데이터셋 로드\n",
    "iris = load_iris()\n",
    "df_X = pd.DataFrame(iris.data, columns=iris.feature_names)\n",
    "df_Y = pd.DataFrame(iris.target, columns = ['target'])"
   ]
  },
  {
   "cell_type": "code",
   "execution_count": 10,
   "id": "696fd7be",
   "metadata": {},
   "outputs": [],
   "source": [
    "# 테스터셋 분리\n",
    "X_train, test_X, y_train, test_y = train_test_split(df_X, df_Y, train_size = 0.8,\n",
    "                                                   test_size = 0.2, random_state = 123)"
   ]
  },
  {
   "cell_type": "code",
   "execution_count": 11,
   "id": "f0067c88",
   "metadata": {},
   "outputs": [
    {
     "data": {
      "text/html": [
       "<div>\n",
       "<style scoped>\n",
       "    .dataframe tbody tr th:only-of-type {\n",
       "        vertical-align: middle;\n",
       "    }\n",
       "\n",
       "    .dataframe tbody tr th {\n",
       "        vertical-align: top;\n",
       "    }\n",
       "\n",
       "    .dataframe thead th {\n",
       "        text-align: right;\n",
       "    }\n",
       "</style>\n",
       "<table border=\"1\" class=\"dataframe\">\n",
       "  <thead>\n",
       "    <tr style=\"text-align: right;\">\n",
       "      <th></th>\n",
       "      <th>sepal length (cm)</th>\n",
       "      <th>sepal width (cm)</th>\n",
       "      <th>petal length (cm)</th>\n",
       "      <th>petal width (cm)</th>\n",
       "    </tr>\n",
       "  </thead>\n",
       "  <tbody>\n",
       "    <tr>\n",
       "      <th>17</th>\n",
       "      <td>5.1</td>\n",
       "      <td>3.5</td>\n",
       "      <td>1.4</td>\n",
       "      <td>0.3</td>\n",
       "    </tr>\n",
       "    <tr>\n",
       "      <th>98</th>\n",
       "      <td>5.1</td>\n",
       "      <td>2.5</td>\n",
       "      <td>3.0</td>\n",
       "      <td>1.1</td>\n",
       "    </tr>\n",
       "    <tr>\n",
       "      <th>66</th>\n",
       "      <td>5.6</td>\n",
       "      <td>3.0</td>\n",
       "      <td>4.5</td>\n",
       "      <td>1.5</td>\n",
       "    </tr>\n",
       "    <tr>\n",
       "      <th>126</th>\n",
       "      <td>6.2</td>\n",
       "      <td>2.8</td>\n",
       "      <td>4.8</td>\n",
       "      <td>1.8</td>\n",
       "    </tr>\n",
       "    <tr>\n",
       "      <th>109</th>\n",
       "      <td>7.2</td>\n",
       "      <td>3.6</td>\n",
       "      <td>6.1</td>\n",
       "      <td>2.5</td>\n",
       "    </tr>\n",
       "  </tbody>\n",
       "</table>\n",
       "</div>"
      ],
      "text/plain": [
       "     sepal length (cm)  sepal width (cm)  petal length (cm)  petal width (cm)\n",
       "17                 5.1               3.5                1.4               0.3\n",
       "98                 5.1               2.5                3.0               1.1\n",
       "66                 5.6               3.0                4.5               1.5\n",
       "126                6.2               2.8                4.8               1.8\n",
       "109                7.2               3.6                6.1               2.5"
      ]
     },
     "execution_count": 11,
     "metadata": {},
     "output_type": "execute_result"
    }
   ],
   "source": [
    "X_train.tail()"
   ]
  },
  {
   "cell_type": "code",
   "execution_count": 13,
   "id": "7b5918c3",
   "metadata": {},
   "outputs": [
    {
     "name": "stdout",
     "output_type": "stream",
     "text": [
      "[1 2 2 1 0 2 1 0 0 1 2 0 1 2 2 2 0 0 1 0 0 1 0 2 0 0 0 2 2 0]\n"
     ]
    },
    {
     "name": "stderr",
     "output_type": "stream",
     "text": [
      "C:\\Users\\user\\anaconda3\\lib\\site-packages\\sklearn\\utils\\validation.py:1111: DataConversionWarning: A column-vector y was passed when a 1d array was expected. Please change the shape of y to (n_samples, ), for example using ravel().\n",
      "  y = column_or_1d(y, warn=True)\n"
     ]
    }
   ],
   "source": [
    "## 나이브 베이즈는 가우시안 나이브 베이즈\n",
    "gnb = GaussianNB()\n",
    "\n",
    "## 학습\n",
    "# train 데이터로 학습을 진행 후, X_test 데이터로 결과를 예측하여 y_pred 입력\n",
    "fitted = gnb.fit(X_train, y_train)\n",
    "y_pred = fitted.predict(test_X)\n",
    "y_pred\n",
    "print(y_pred)"
   ]
  },
  {
   "cell_type": "code",
   "execution_count": 15,
   "id": "e24badb6",
   "metadata": {},
   "outputs": [
    {
     "name": "stdout",
     "output_type": "stream",
     "text": [
      "테스트 데이터 수 : 30, 틀린개수 : 1\n"
     ]
    }
   ],
   "source": [
    "# 실제값과 y의 예측값을 비교하여 틀린 개수 확인\n",
    "print(\"테스트 데이터 수 : %d, 틀린개수 : %d\" % (test_X.shape[0],\n",
    "                                     (np.array(test_y.target.tolist()) != y_pred).sum()))"
   ]
  },
  {
   "cell_type": "code",
   "execution_count": 16,
   "id": "4351a7aa",
   "metadata": {},
   "outputs": [
    {
     "name": "stdout",
     "output_type": "stream",
     "text": [
      "[0 1 2]\n",
      "[37. 44. 39.]\n",
      "    sepal length (cm)  sepal width (cm)  petal length (cm)  petal width (cm)\n",
      "72                6.3               2.5                4.9               1.5 \n",
      "\n",
      "[[7.24143720e-126 9.23061979e-001 7.69380215e-002]] \n",
      "\n",
      "[1] \n",
      "\n"
     ]
    }
   ],
   "source": [
    "## 예측한 클래스와 해당 예측 데이터의 클래스별 확률\n",
    "# 클래스\n",
    "print(fitted.classes_)\n",
    "\n",
    "# 분류된 클래스 수\n",
    "print(fitted.class_count_)\n",
    "\n",
    "# 테스트 데이터\n",
    "print(test_X[:1], \"\\n\")\n",
    "\n",
    "# 테스트 데이터 1개에 대한 클래스가 나온 확률\n",
    "print(fitted.predict_proba(test_X)[:1], \"\\n\")\n",
    "\n",
    "# 테스트 데이터 1개의 클래스\n",
    "print(fitted.predict(test_X)[:1], \"\\n\")"
   ]
  },
  {
   "cell_type": "code",
   "execution_count": 18,
   "id": "51d640c3",
   "metadata": {},
   "outputs": [
    {
     "name": "stdout",
     "output_type": "stream",
     "text": [
      "[[1.81805757e-197 1.22131524e-005 9.99987787e-001]\n",
      " [1.00000000e+000 8.57846082e-017 1.77097412e-025]]\n"
     ]
    },
    {
     "data": {
      "text/plain": [
       "array([2, 0])"
      ]
     },
     "execution_count": 18,
     "metadata": {},
     "output_type": "execute_result"
    }
   ],
   "source": [
    "## 특정 값의 클래스별 확률 확인\n",
    "print(fitted.predict_proba(test_X)[[1,20]])\n",
    "\n",
    "# 1번째 데이터는 2범주일 확률이 99%\n",
    "# 20번째 데이터는 0범주일 확률이 100%\n",
    "\n",
    "# 특정 변수의 범주별 클래스 확인\n",
    "fitted.predict(test_X)[[1,20]]"
   ]
  },
  {
   "cell_type": "code",
   "execution_count": 19,
   "id": "6120b365",
   "metadata": {},
   "outputs": [
    {
     "data": {
      "text/plain": [
       "array([[13,  0,  0],\n",
       "       [ 0,  6,  0],\n",
       "       [ 0,  1, 10]], dtype=int64)"
      ]
     },
     "execution_count": 19,
     "metadata": {},
     "output_type": "execute_result"
    }
   ],
   "source": [
    "# Confusion matrix 확인\n",
    "from sklearn.metrics import confusion_matrix\n",
    "\n",
    "confusion_matrix(test_y, y_pred)\n",
    "\n",
    "# 0,1범주는 모두 옳게 분류\n",
    "# 2범주는 1개 오답\n",
    "# 나이브 베이즈는 투자대비 효용이 높은 간단한 머신러닝 모델"
   ]
  },
  {
   "cell_type": "markdown",
   "id": "aac9d880",
   "metadata": {},
   "source": [
    "# 다항분포 나이브 베이즈 (Multinomial Navie Bayes)"
   ]
  },
  {
   "cell_type": "code",
   "execution_count": 23,
   "id": "f7420bc2",
   "metadata": {},
   "outputs": [],
   "source": [
    "## Multinomial Naive Bayes\n",
    "from sklearn.naive_bayes import MultinomialNB\n",
    "\n",
    "# 난수 생성\n",
    "import numpy as np\n",
    "\n",
    "# 0부터 3까지 난수 생성, 변수 10개 , 샘플 사이즈 4개\n",
    "mNB_train_X  = np.random.randint(4, size = (4,10))\n",
    "mNB_train_y = np.array([1,2,3,4])"
   ]
  },
  {
   "cell_type": "code",
   "execution_count": 24,
   "id": "6462431c",
   "metadata": {},
   "outputs": [
    {
     "data": {
      "text/plain": [
       "array([[1, 3, 0, 1, 0, 0, 0, 2, 1, 2],\n",
       "       [2, 1, 0, 0, 1, 1, 3, 3, 0, 3],\n",
       "       [0, 2, 2, 0, 3, 1, 2, 1, 0, 2],\n",
       "       [1, 1, 2, 3, 3, 3, 1, 3, 3, 2]])"
      ]
     },
     "execution_count": 24,
     "metadata": {},
     "output_type": "execute_result"
    }
   ],
   "source": [
    "mNB_train_X"
   ]
  },
  {
   "cell_type": "code",
   "execution_count": 25,
   "id": "77b05466",
   "metadata": {},
   "outputs": [
    {
     "data": {
      "text/plain": [
       "array([1, 2, 3, 4])"
      ]
     },
     "execution_count": 25,
     "metadata": {},
     "output_type": "execute_result"
    }
   ],
   "source": [
    "mNB_train_y"
   ]
  },
  {
   "cell_type": "code",
   "execution_count": 26,
   "id": "80d7b297",
   "metadata": {},
   "outputs": [
    {
     "name": "stdout",
     "output_type": "stream",
     "text": [
      "[1]\n"
     ]
    },
    {
     "data": {
      "text/plain": [
       "array([[0.96357258, 0.02305516, 0.00558235, 0.0077899 ]])"
      ]
     },
     "execution_count": 26,
     "metadata": {},
     "output_type": "execute_result"
    }
   ],
   "source": [
    "# 학습 \n",
    "mNB = MultinomialNB()\n",
    "\n",
    "fitted_mNB = mNB.fit(mNB_train_X, mNB_train_y)\n",
    "\n",
    "# 첫 번째 값의 예측 결과 확인\n",
    "print(fitted_mNB.predict(mNB_train_X[:1]))\n",
    "\n",
    "# 첫 번째 값의 각 클래스별 확률 확인\n",
    "fitted_mNB.predict_proba(mNB_train_X[:1])"
   ]
  },
  {
   "cell_type": "code",
   "execution_count": 44,
   "id": "3bde7684",
   "metadata": {},
   "outputs": [
    {
     "data": {
      "text/html": [
       "<style>#sk-container-id-4 {color: black;background-color: white;}#sk-container-id-4 pre{padding: 0;}#sk-container-id-4 div.sk-toggleable {background-color: white;}#sk-container-id-4 label.sk-toggleable__label {cursor: pointer;display: block;width: 100%;margin-bottom: 0;padding: 0.3em;box-sizing: border-box;text-align: center;}#sk-container-id-4 label.sk-toggleable__label-arrow:before {content: \"▸\";float: left;margin-right: 0.25em;color: #696969;}#sk-container-id-4 label.sk-toggleable__label-arrow:hover:before {color: black;}#sk-container-id-4 div.sk-estimator:hover label.sk-toggleable__label-arrow:before {color: black;}#sk-container-id-4 div.sk-toggleable__content {max-height: 0;max-width: 0;overflow: hidden;text-align: left;background-color: #f0f8ff;}#sk-container-id-4 div.sk-toggleable__content pre {margin: 0.2em;color: black;border-radius: 0.25em;background-color: #f0f8ff;}#sk-container-id-4 input.sk-toggleable__control:checked~div.sk-toggleable__content {max-height: 200px;max-width: 100%;overflow: auto;}#sk-container-id-4 input.sk-toggleable__control:checked~label.sk-toggleable__label-arrow:before {content: \"▾\";}#sk-container-id-4 div.sk-estimator input.sk-toggleable__control:checked~label.sk-toggleable__label {background-color: #d4ebff;}#sk-container-id-4 div.sk-label input.sk-toggleable__control:checked~label.sk-toggleable__label {background-color: #d4ebff;}#sk-container-id-4 input.sk-hidden--visually {border: 0;clip: rect(1px 1px 1px 1px);clip: rect(1px, 1px, 1px, 1px);height: 1px;margin: -1px;overflow: hidden;padding: 0;position: absolute;width: 1px;}#sk-container-id-4 div.sk-estimator {font-family: monospace;background-color: #f0f8ff;border: 1px dotted black;border-radius: 0.25em;box-sizing: border-box;margin-bottom: 0.5em;}#sk-container-id-4 div.sk-estimator:hover {background-color: #d4ebff;}#sk-container-id-4 div.sk-parallel-item::after {content: \"\";width: 100%;border-bottom: 1px solid gray;flex-grow: 1;}#sk-container-id-4 div.sk-label:hover label.sk-toggleable__label {background-color: #d4ebff;}#sk-container-id-4 div.sk-serial::before {content: \"\";position: absolute;border-left: 1px solid gray;box-sizing: border-box;top: 0;bottom: 0;left: 50%;z-index: 0;}#sk-container-id-4 div.sk-serial {display: flex;flex-direction: column;align-items: center;background-color: white;padding-right: 0.2em;padding-left: 0.2em;position: relative;}#sk-container-id-4 div.sk-item {position: relative;z-index: 1;}#sk-container-id-4 div.sk-parallel {display: flex;align-items: stretch;justify-content: center;background-color: white;position: relative;}#sk-container-id-4 div.sk-item::before, #sk-container-id-4 div.sk-parallel-item::before {content: \"\";position: absolute;border-left: 1px solid gray;box-sizing: border-box;top: 0;bottom: 0;left: 50%;z-index: -1;}#sk-container-id-4 div.sk-parallel-item {display: flex;flex-direction: column;z-index: 1;position: relative;background-color: white;}#sk-container-id-4 div.sk-parallel-item:first-child::after {align-self: flex-end;width: 50%;}#sk-container-id-4 div.sk-parallel-item:last-child::after {align-self: flex-start;width: 50%;}#sk-container-id-4 div.sk-parallel-item:only-child::after {width: 0;}#sk-container-id-4 div.sk-dashed-wrapped {border: 1px dashed gray;margin: 0 0.4em 0.5em 0.4em;box-sizing: border-box;padding-bottom: 0.4em;background-color: white;}#sk-container-id-4 div.sk-label label {font-family: monospace;font-weight: bold;display: inline-block;line-height: 1.2em;}#sk-container-id-4 div.sk-label-container {text-align: center;}#sk-container-id-4 div.sk-container {/* jupyter's `normalize.less` sets `[hidden] { display: none; }` but bootstrap.min.css set `[hidden] { display: none !important; }` so we also need the `!important` here to be able to override the default hidden behavior on the sphinx rendered scikit-learn.org. See: https://github.com/scikit-learn/scikit-learn/issues/21755 */display: inline-block !important;position: relative;}#sk-container-id-4 div.sk-text-repr-fallback {display: none;}</style><div id=\"sk-container-id-4\" class=\"sk-top-container\"><div class=\"sk-text-repr-fallback\"><pre>MultinomialNB(class_prior=[0.1, 0.5, 0.1, 0.1])</pre><b>In a Jupyter environment, please rerun this cell to show the HTML representation or trust the notebook. <br />On GitHub, the HTML representation is unable to render, please try loading this page with nbviewer.org.</b></div><div class=\"sk-container\" hidden><div class=\"sk-item\"><div class=\"sk-estimator sk-toggleable\"><input class=\"sk-toggleable__control sk-hidden--visually\" id=\"sk-estimator-id-4\" type=\"checkbox\" checked><label for=\"sk-estimator-id-4\" class=\"sk-toggleable__label sk-toggleable__label-arrow\">MultinomialNB</label><div class=\"sk-toggleable__content\"><pre>MultinomialNB(class_prior=[0.1, 0.5, 0.1, 0.1])</pre></div></div></div></div></div>"
      ],
      "text/plain": [
       "MultinomialNB(class_prior=[0.1, 0.5, 0.1, 0.1])"
      ]
     },
     "execution_count": 44,
     "metadata": {},
     "output_type": "execute_result"
    }
   ],
   "source": [
    "# 사전 확률 설정\n",
    "# class가 발생되는 사전 확률을 미리 알고 있었던 경우라고 설정\n",
    "clmNB_2 = MultinomialNB(class_prior = [0.1,0.5,0.1,0.1])\n",
    "clmNB_2.fit(mNB_train_X, mNB_train_y)"
   ]
  },
  {
   "cell_type": "code",
   "execution_count": 45,
   "id": "4570fa42",
   "metadata": {},
   "outputs": [
    {
     "data": {
      "text/plain": [
       "array([[0.88221421, 0.10554261, 0.00511101, 0.00713217]])"
      ]
     },
     "execution_count": 45,
     "metadata": {},
     "output_type": "execute_result"
    }
   ],
   "source": [
    "clmNB_2.predict_proba(mNB_train_X[:1])"
   ]
  },
  {
   "cell_type": "code",
   "execution_count": null,
   "id": "d03a6937",
   "metadata": {},
   "outputs": [],
   "source": []
  }
 ],
 "metadata": {
  "kernelspec": {
   "display_name": "Python 3 (ipykernel)",
   "language": "python",
   "name": "python3"
  },
  "language_info": {
   "codemirror_mode": {
    "name": "ipython",
    "version": 3
   },
   "file_extension": ".py",
   "mimetype": "text/x-python",
   "name": "python",
   "nbconvert_exporter": "python",
   "pygments_lexer": "ipython3",
   "version": "3.9.12"
  }
 },
 "nbformat": 4,
 "nbformat_minor": 5
}
