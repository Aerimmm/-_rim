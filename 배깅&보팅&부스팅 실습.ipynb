{
 "cells": [
  {
   "cell_type": "code",
   "execution_count": 1,
   "id": "e743ad06",
   "metadata": {},
   "outputs": [],
   "source": [
    "import os\n",
    "import warnings\n",
    "warnings.simplefilter(action = 'ignore', category = FutureWarning)\n",
    "import numpy as np\n",
    "import pandas as pd\n",
    "import matplotlib.pyplot as plt\n",
    "import seaborn as sns\n",
    "%matplotlib inline\n",
    "from sklearn.metrics import accuracy_score, confusion_matrix, classification_report\n",
    "from sklearn.model_selection import train_test_split\n",
    "from sklearn.preprocessing import StandardScaler\n",
    "\n",
    "# Font 깨짐 제거를 위해 Font 지정\n",
    "\n",
    "import os\n",
    "if os.name == 'nt' : # Windows OS\n",
    "    font_family = \"Malgun Gothic\"\n",
    "else : \n",
    "    font_family = \"AppleGothic\"\n",
    "    \n",
    "# 값이 깨지는 문제 해결을 위해 파라미터값 설정\n",
    "sns.set(font=font_family, rc = {\"axes.unicode_minus\" : False})"
   ]
  },
  {
   "cell_type": "markdown",
   "id": "8a33d0d8",
   "metadata": {},
   "source": [
    "# 보스턴 주택가격 데이터를 이용한 실습"
   ]
  },
  {
   "cell_type": "code",
   "execution_count": 2,
   "id": "a4d856e9",
   "metadata": {},
   "outputs": [
    {
     "name": "stdout",
     "output_type": "stream",
     "text": [
      "(506, 14)\n"
     ]
    }
   ],
   "source": [
    "# Boston Housing Price\n",
    "from sklearn.datasets import load_boston\n",
    "\n",
    "\n",
    "data_b = load_boston()\n",
    "\n",
    "df_b = pd.DataFrame(data_b.data, columns = data_b.feature_names)\n",
    "df_b['MEDV'] = data_b.target\n",
    "print(df_b.shape)"
   ]
  },
  {
   "cell_type": "code",
   "execution_count": 3,
   "id": "d30547d7",
   "metadata": {},
   "outputs": [
    {
     "data": {
      "text/html": [
       "<div>\n",
       "<style scoped>\n",
       "    .dataframe tbody tr th:only-of-type {\n",
       "        vertical-align: middle;\n",
       "    }\n",
       "\n",
       "    .dataframe tbody tr th {\n",
       "        vertical-align: top;\n",
       "    }\n",
       "\n",
       "    .dataframe thead th {\n",
       "        text-align: right;\n",
       "    }\n",
       "</style>\n",
       "<table border=\"1\" class=\"dataframe\">\n",
       "  <thead>\n",
       "    <tr style=\"text-align: right;\">\n",
       "      <th></th>\n",
       "      <th>CRIM</th>\n",
       "      <th>ZN</th>\n",
       "      <th>INDUS</th>\n",
       "      <th>CHAS</th>\n",
       "      <th>NOX</th>\n",
       "      <th>RM</th>\n",
       "      <th>AGE</th>\n",
       "      <th>DIS</th>\n",
       "      <th>RAD</th>\n",
       "      <th>TAX</th>\n",
       "      <th>PTRATIO</th>\n",
       "      <th>B</th>\n",
       "      <th>LSTAT</th>\n",
       "      <th>MEDV</th>\n",
       "    </tr>\n",
       "  </thead>\n",
       "  <tbody>\n",
       "    <tr>\n",
       "      <th>0</th>\n",
       "      <td>0.00632</td>\n",
       "      <td>18.0</td>\n",
       "      <td>2.31</td>\n",
       "      <td>0.0</td>\n",
       "      <td>0.538</td>\n",
       "      <td>6.575</td>\n",
       "      <td>65.2</td>\n",
       "      <td>4.0900</td>\n",
       "      <td>1.0</td>\n",
       "      <td>296.0</td>\n",
       "      <td>15.3</td>\n",
       "      <td>396.90</td>\n",
       "      <td>4.98</td>\n",
       "      <td>24.0</td>\n",
       "    </tr>\n",
       "    <tr>\n",
       "      <th>1</th>\n",
       "      <td>0.02731</td>\n",
       "      <td>0.0</td>\n",
       "      <td>7.07</td>\n",
       "      <td>0.0</td>\n",
       "      <td>0.469</td>\n",
       "      <td>6.421</td>\n",
       "      <td>78.9</td>\n",
       "      <td>4.9671</td>\n",
       "      <td>2.0</td>\n",
       "      <td>242.0</td>\n",
       "      <td>17.8</td>\n",
       "      <td>396.90</td>\n",
       "      <td>9.14</td>\n",
       "      <td>21.6</td>\n",
       "    </tr>\n",
       "    <tr>\n",
       "      <th>2</th>\n",
       "      <td>0.02729</td>\n",
       "      <td>0.0</td>\n",
       "      <td>7.07</td>\n",
       "      <td>0.0</td>\n",
       "      <td>0.469</td>\n",
       "      <td>7.185</td>\n",
       "      <td>61.1</td>\n",
       "      <td>4.9671</td>\n",
       "      <td>2.0</td>\n",
       "      <td>242.0</td>\n",
       "      <td>17.8</td>\n",
       "      <td>392.83</td>\n",
       "      <td>4.03</td>\n",
       "      <td>34.7</td>\n",
       "    </tr>\n",
       "    <tr>\n",
       "      <th>3</th>\n",
       "      <td>0.03237</td>\n",
       "      <td>0.0</td>\n",
       "      <td>2.18</td>\n",
       "      <td>0.0</td>\n",
       "      <td>0.458</td>\n",
       "      <td>6.998</td>\n",
       "      <td>45.8</td>\n",
       "      <td>6.0622</td>\n",
       "      <td>3.0</td>\n",
       "      <td>222.0</td>\n",
       "      <td>18.7</td>\n",
       "      <td>394.63</td>\n",
       "      <td>2.94</td>\n",
       "      <td>33.4</td>\n",
       "    </tr>\n",
       "    <tr>\n",
       "      <th>4</th>\n",
       "      <td>0.06905</td>\n",
       "      <td>0.0</td>\n",
       "      <td>2.18</td>\n",
       "      <td>0.0</td>\n",
       "      <td>0.458</td>\n",
       "      <td>7.147</td>\n",
       "      <td>54.2</td>\n",
       "      <td>6.0622</td>\n",
       "      <td>3.0</td>\n",
       "      <td>222.0</td>\n",
       "      <td>18.7</td>\n",
       "      <td>396.90</td>\n",
       "      <td>5.33</td>\n",
       "      <td>36.2</td>\n",
       "    </tr>\n",
       "    <tr>\n",
       "      <th>...</th>\n",
       "      <td>...</td>\n",
       "      <td>...</td>\n",
       "      <td>...</td>\n",
       "      <td>...</td>\n",
       "      <td>...</td>\n",
       "      <td>...</td>\n",
       "      <td>...</td>\n",
       "      <td>...</td>\n",
       "      <td>...</td>\n",
       "      <td>...</td>\n",
       "      <td>...</td>\n",
       "      <td>...</td>\n",
       "      <td>...</td>\n",
       "      <td>...</td>\n",
       "    </tr>\n",
       "    <tr>\n",
       "      <th>501</th>\n",
       "      <td>0.06263</td>\n",
       "      <td>0.0</td>\n",
       "      <td>11.93</td>\n",
       "      <td>0.0</td>\n",
       "      <td>0.573</td>\n",
       "      <td>6.593</td>\n",
       "      <td>69.1</td>\n",
       "      <td>2.4786</td>\n",
       "      <td>1.0</td>\n",
       "      <td>273.0</td>\n",
       "      <td>21.0</td>\n",
       "      <td>391.99</td>\n",
       "      <td>9.67</td>\n",
       "      <td>22.4</td>\n",
       "    </tr>\n",
       "    <tr>\n",
       "      <th>502</th>\n",
       "      <td>0.04527</td>\n",
       "      <td>0.0</td>\n",
       "      <td>11.93</td>\n",
       "      <td>0.0</td>\n",
       "      <td>0.573</td>\n",
       "      <td>6.120</td>\n",
       "      <td>76.7</td>\n",
       "      <td>2.2875</td>\n",
       "      <td>1.0</td>\n",
       "      <td>273.0</td>\n",
       "      <td>21.0</td>\n",
       "      <td>396.90</td>\n",
       "      <td>9.08</td>\n",
       "      <td>20.6</td>\n",
       "    </tr>\n",
       "    <tr>\n",
       "      <th>503</th>\n",
       "      <td>0.06076</td>\n",
       "      <td>0.0</td>\n",
       "      <td>11.93</td>\n",
       "      <td>0.0</td>\n",
       "      <td>0.573</td>\n",
       "      <td>6.976</td>\n",
       "      <td>91.0</td>\n",
       "      <td>2.1675</td>\n",
       "      <td>1.0</td>\n",
       "      <td>273.0</td>\n",
       "      <td>21.0</td>\n",
       "      <td>396.90</td>\n",
       "      <td>5.64</td>\n",
       "      <td>23.9</td>\n",
       "    </tr>\n",
       "    <tr>\n",
       "      <th>504</th>\n",
       "      <td>0.10959</td>\n",
       "      <td>0.0</td>\n",
       "      <td>11.93</td>\n",
       "      <td>0.0</td>\n",
       "      <td>0.573</td>\n",
       "      <td>6.794</td>\n",
       "      <td>89.3</td>\n",
       "      <td>2.3889</td>\n",
       "      <td>1.0</td>\n",
       "      <td>273.0</td>\n",
       "      <td>21.0</td>\n",
       "      <td>393.45</td>\n",
       "      <td>6.48</td>\n",
       "      <td>22.0</td>\n",
       "    </tr>\n",
       "    <tr>\n",
       "      <th>505</th>\n",
       "      <td>0.04741</td>\n",
       "      <td>0.0</td>\n",
       "      <td>11.93</td>\n",
       "      <td>0.0</td>\n",
       "      <td>0.573</td>\n",
       "      <td>6.030</td>\n",
       "      <td>80.8</td>\n",
       "      <td>2.5050</td>\n",
       "      <td>1.0</td>\n",
       "      <td>273.0</td>\n",
       "      <td>21.0</td>\n",
       "      <td>396.90</td>\n",
       "      <td>7.88</td>\n",
       "      <td>11.9</td>\n",
       "    </tr>\n",
       "  </tbody>\n",
       "</table>\n",
       "<p>506 rows × 14 columns</p>\n",
       "</div>"
      ],
      "text/plain": [
       "        CRIM    ZN  INDUS  CHAS    NOX     RM   AGE     DIS  RAD    TAX  \\\n",
       "0    0.00632  18.0   2.31   0.0  0.538  6.575  65.2  4.0900  1.0  296.0   \n",
       "1    0.02731   0.0   7.07   0.0  0.469  6.421  78.9  4.9671  2.0  242.0   \n",
       "2    0.02729   0.0   7.07   0.0  0.469  7.185  61.1  4.9671  2.0  242.0   \n",
       "3    0.03237   0.0   2.18   0.0  0.458  6.998  45.8  6.0622  3.0  222.0   \n",
       "4    0.06905   0.0   2.18   0.0  0.458  7.147  54.2  6.0622  3.0  222.0   \n",
       "..       ...   ...    ...   ...    ...    ...   ...     ...  ...    ...   \n",
       "501  0.06263   0.0  11.93   0.0  0.573  6.593  69.1  2.4786  1.0  273.0   \n",
       "502  0.04527   0.0  11.93   0.0  0.573  6.120  76.7  2.2875  1.0  273.0   \n",
       "503  0.06076   0.0  11.93   0.0  0.573  6.976  91.0  2.1675  1.0  273.0   \n",
       "504  0.10959   0.0  11.93   0.0  0.573  6.794  89.3  2.3889  1.0  273.0   \n",
       "505  0.04741   0.0  11.93   0.0  0.573  6.030  80.8  2.5050  1.0  273.0   \n",
       "\n",
       "     PTRATIO       B  LSTAT  MEDV  \n",
       "0       15.3  396.90   4.98  24.0  \n",
       "1       17.8  396.90   9.14  21.6  \n",
       "2       17.8  392.83   4.03  34.7  \n",
       "3       18.7  394.63   2.94  33.4  \n",
       "4       18.7  396.90   5.33  36.2  \n",
       "..       ...     ...    ...   ...  \n",
       "501     21.0  391.99   9.67  22.4  \n",
       "502     21.0  396.90   9.08  20.6  \n",
       "503     21.0  396.90   5.64  23.9  \n",
       "504     21.0  393.45   6.48  22.0  \n",
       "505     21.0  396.90   7.88  11.9  \n",
       "\n",
       "[506 rows x 14 columns]"
      ]
     },
     "execution_count": 3,
     "metadata": {},
     "output_type": "execute_result"
    }
   ],
   "source": [
    "df_b"
   ]
  },
  {
   "cell_type": "code",
   "execution_count": 4,
   "id": "26741dda",
   "metadata": {},
   "outputs": [],
   "source": [
    "# 전체 속성 적용\n",
    "X_train_b, X_test_b, y_train_b, y_test_b = train_test_split(data_b.data,\n",
    "                                                           data_b.target,\n",
    "                                                           test_size = 0.2,\n",
    "                                                           random_state = 20)"
   ]
  },
  {
   "cell_type": "code",
   "execution_count": 5,
   "id": "8a3f6fee",
   "metadata": {},
   "outputs": [
    {
     "data": {
      "text/html": [
       "<table class=\"simpletable\">\n",
       "<caption>OLS Regression Results</caption>\n",
       "<tr>\n",
       "  <th>Dep. Variable:</th>            <td>y</td>        <th>  R-squared:         </th> <td>   0.736</td> \n",
       "</tr>\n",
       "<tr>\n",
       "  <th>Model:</th>                   <td>OLS</td>       <th>  Adj. R-squared:    </th> <td>   0.727</td> \n",
       "</tr>\n",
       "<tr>\n",
       "  <th>Method:</th>             <td>Least Squares</td>  <th>  F-statistic:       </th> <td>   83.64</td> \n",
       "</tr>\n",
       "<tr>\n",
       "  <th>Date:</th>             <td>Fri, 26 Aug 2022</td> <th>  Prob (F-statistic):</th> <td>4.51e-104</td>\n",
       "</tr>\n",
       "<tr>\n",
       "  <th>Time:</th>                 <td>21:33:41</td>     <th>  Log-Likelihood:    </th> <td> -1211.4</td> \n",
       "</tr>\n",
       "<tr>\n",
       "  <th>No. Observations:</th>      <td>   404</td>      <th>  AIC:               </th> <td>   2451.</td> \n",
       "</tr>\n",
       "<tr>\n",
       "  <th>Df Residuals:</th>          <td>   390</td>      <th>  BIC:               </th> <td>   2507.</td> \n",
       "</tr>\n",
       "<tr>\n",
       "  <th>Df Model:</th>              <td>    13</td>      <th>                     </th>     <td> </td>    \n",
       "</tr>\n",
       "<tr>\n",
       "  <th>Covariance Type:</th>      <td>nonrobust</td>    <th>                     </th>     <td> </td>    \n",
       "</tr>\n",
       "</table>\n",
       "<table class=\"simpletable\">\n",
       "<tr>\n",
       "    <td></td>       <th>coef</th>     <th>std err</th>      <th>t</th>      <th>P>|t|</th>  <th>[0.025</th>    <th>0.975]</th>  \n",
       "</tr>\n",
       "<tr>\n",
       "  <th>const</th> <td>   36.2252</td> <td>    5.841</td> <td>    6.201</td> <td> 0.000</td> <td>   24.741</td> <td>   47.710</td>\n",
       "</tr>\n",
       "<tr>\n",
       "  <th>x1</th>    <td>   -0.0699</td> <td>    0.043</td> <td>   -1.638</td> <td> 0.102</td> <td>   -0.154</td> <td>    0.014</td>\n",
       "</tr>\n",
       "<tr>\n",
       "  <th>x2</th>    <td>    0.0408</td> <td>    0.016</td> <td>    2.560</td> <td> 0.011</td> <td>    0.009</td> <td>    0.072</td>\n",
       "</tr>\n",
       "<tr>\n",
       "  <th>x3</th>    <td>    0.0469</td> <td>    0.072</td> <td>    0.656</td> <td> 0.512</td> <td>   -0.094</td> <td>    0.188</td>\n",
       "</tr>\n",
       "<tr>\n",
       "  <th>x4</th>    <td>    2.9488</td> <td>    0.980</td> <td>    3.007</td> <td> 0.003</td> <td>    1.021</td> <td>    4.876</td>\n",
       "</tr>\n",
       "<tr>\n",
       "  <th>x5</th>    <td>  -21.2030</td> <td>    4.608</td> <td>   -4.601</td> <td> 0.000</td> <td>  -30.263</td> <td>  -12.143</td>\n",
       "</tr>\n",
       "<tr>\n",
       "  <th>x6</th>    <td>    3.7515</td> <td>    0.478</td> <td>    7.841</td> <td> 0.000</td> <td>    2.811</td> <td>    4.692</td>\n",
       "</tr>\n",
       "<tr>\n",
       "  <th>x7</th>    <td>    0.0186</td> <td>    0.015</td> <td>    1.203</td> <td> 0.230</td> <td>   -0.012</td> <td>    0.049</td>\n",
       "</tr>\n",
       "<tr>\n",
       "  <th>x8</th>    <td>   -1.3352</td> <td>    0.231</td> <td>   -5.784</td> <td> 0.000</td> <td>   -1.789</td> <td>   -0.881</td>\n",
       "</tr>\n",
       "<tr>\n",
       "  <th>x9</th>    <td>    0.2718</td> <td>    0.075</td> <td>    3.611</td> <td> 0.000</td> <td>    0.124</td> <td>    0.420</td>\n",
       "</tr>\n",
       "<tr>\n",
       "  <th>x10</th>   <td>   -0.0112</td> <td>    0.004</td> <td>   -2.647</td> <td> 0.008</td> <td>   -0.020</td> <td>   -0.003</td>\n",
       "</tr>\n",
       "<tr>\n",
       "  <th>x11</th>   <td>   -0.9020</td> <td>    0.155</td> <td>   -5.827</td> <td> 0.000</td> <td>   -1.206</td> <td>   -0.598</td>\n",
       "</tr>\n",
       "<tr>\n",
       "  <th>x12</th>   <td>    0.0091</td> <td>    0.003</td> <td>    2.906</td> <td> 0.004</td> <td>    0.003</td> <td>    0.015</td>\n",
       "</tr>\n",
       "<tr>\n",
       "  <th>x13</th>   <td>   -0.5663</td> <td>    0.058</td> <td>   -9.778</td> <td> 0.000</td> <td>   -0.680</td> <td>   -0.452</td>\n",
       "</tr>\n",
       "</table>\n",
       "<table class=\"simpletable\">\n",
       "<tr>\n",
       "  <th>Omnibus:</th>       <td>146.491</td> <th>  Durbin-Watson:     </th> <td>   1.944</td> \n",
       "</tr>\n",
       "<tr>\n",
       "  <th>Prob(Omnibus):</th> <td> 0.000</td>  <th>  Jarque-Bera (JB):  </th> <td> 594.882</td> \n",
       "</tr>\n",
       "<tr>\n",
       "  <th>Skew:</th>          <td> 1.567</td>  <th>  Prob(JB):          </th> <td>6.65e-130</td>\n",
       "</tr>\n",
       "<tr>\n",
       "  <th>Kurtosis:</th>      <td> 8.052</td>  <th>  Cond. No.          </th> <td>1.52e+04</td> \n",
       "</tr>\n",
       "</table><br/><br/>Notes:<br/>[1] Standard Errors assume that the covariance matrix of the errors is correctly specified.<br/>[2] The condition number is large, 1.52e+04. This might indicate that there are<br/>strong multicollinearity or other numerical problems."
      ],
      "text/plain": [
       "<class 'statsmodels.iolib.summary.Summary'>\n",
       "\"\"\"\n",
       "                            OLS Regression Results                            \n",
       "==============================================================================\n",
       "Dep. Variable:                      y   R-squared:                       0.736\n",
       "Model:                            OLS   Adj. R-squared:                  0.727\n",
       "Method:                 Least Squares   F-statistic:                     83.64\n",
       "Date:                Fri, 26 Aug 2022   Prob (F-statistic):          4.51e-104\n",
       "Time:                        21:33:41   Log-Likelihood:                -1211.4\n",
       "No. Observations:                 404   AIC:                             2451.\n",
       "Df Residuals:                     390   BIC:                             2507.\n",
       "Df Model:                          13                                         \n",
       "Covariance Type:            nonrobust                                         \n",
       "==============================================================================\n",
       "                 coef    std err          t      P>|t|      [0.025      0.975]\n",
       "------------------------------------------------------------------------------\n",
       "const         36.2252      5.841      6.201      0.000      24.741      47.710\n",
       "x1            -0.0699      0.043     -1.638      0.102      -0.154       0.014\n",
       "x2             0.0408      0.016      2.560      0.011       0.009       0.072\n",
       "x3             0.0469      0.072      0.656      0.512      -0.094       0.188\n",
       "x4             2.9488      0.980      3.007      0.003       1.021       4.876\n",
       "x5           -21.2030      4.608     -4.601      0.000     -30.263     -12.143\n",
       "x6             3.7515      0.478      7.841      0.000       2.811       4.692\n",
       "x7             0.0186      0.015      1.203      0.230      -0.012       0.049\n",
       "x8            -1.3352      0.231     -5.784      0.000      -1.789      -0.881\n",
       "x9             0.2718      0.075      3.611      0.000       0.124       0.420\n",
       "x10           -0.0112      0.004     -2.647      0.008      -0.020      -0.003\n",
       "x11           -0.9020      0.155     -5.827      0.000      -1.206      -0.598\n",
       "x12            0.0091      0.003      2.906      0.004       0.003       0.015\n",
       "x13           -0.5663      0.058     -9.778      0.000      -0.680      -0.452\n",
       "==============================================================================\n",
       "Omnibus:                      146.491   Durbin-Watson:                   1.944\n",
       "Prob(Omnibus):                  0.000   Jarque-Bera (JB):              594.882\n",
       "Skew:                           1.567   Prob(JB):                    6.65e-130\n",
       "Kurtosis:                       8.052   Cond. No.                     1.52e+04\n",
       "==============================================================================\n",
       "\n",
       "Notes:\n",
       "[1] Standard Errors assume that the covariance matrix of the errors is correctly specified.\n",
       "[2] The condition number is large, 1.52e+04. This might indicate that there are\n",
       "strong multicollinearity or other numerical problems.\n",
       "\"\"\""
      ]
     },
     "execution_count": 5,
     "metadata": {},
     "output_type": "execute_result"
    }
   ],
   "source": [
    "## 선형회귀 OLS 적합 과정\n",
    "# stats model, OLS(## 선형회귀 OLS 적합과정)\n",
    "import statsmodels.api as sm\n",
    "from math import sqrt\n",
    "\n",
    "# b0 상수항 추가\n",
    "sm_train_x = sm.add_constant(X_train_b, has_constant = \"add\")\n",
    "\n",
    "# OLS 모델\n",
    "sm_model = sm.OLS(y_train_b, sm_train_x)\n",
    "result_b = sm_model.fit()\n",
    "result_b.summary()"
   ]
  },
  {
   "cell_type": "code",
   "execution_count": 6,
   "id": "692ddee2",
   "metadata": {},
   "outputs": [
    {
     "data": {
      "text/plain": [
       "4.061447029807441"
      ]
     },
     "execution_count": 6,
     "metadata": {},
     "output_type": "execute_result"
    }
   ],
   "source": [
    "## 성능확인\n",
    "from sklearn.metrics import mean_squared_error\n",
    "\n",
    "# 예측을 위한 test 상수항 추가\n",
    "sm_test_x = sm.add_constant(X_test_b, has_constant = \"add\")\n",
    "sm_model_predict = result_b.predict(sm_test_x) # 예측\n",
    "\n",
    "sqrt(mean_squared_error(sm_model_predict, y_test_b)) # RMSE 계산"
   ]
  },
  {
   "cell_type": "code",
   "execution_count": 7,
   "id": "18af53f1",
   "metadata": {},
   "outputs": [],
   "source": [
    "## 각 변수 p-value > 0.05 정제\n",
    "\n",
    "## 변수 선택\n",
    "feature_columns = list(df_b.columns.difference(['INDUS', 'AGE', 'CRIM', 'MEDV']))\n",
    "\n",
    "# 변수 확정\n",
    "X = df_b[feature_columns] # 설명변수"
   ]
  },
  {
   "cell_type": "code",
   "execution_count": 8,
   "id": "0ff2ca86",
   "metadata": {},
   "outputs": [
    {
     "data": {
      "text/html": [
       "<div>\n",
       "<style scoped>\n",
       "    .dataframe tbody tr th:only-of-type {\n",
       "        vertical-align: middle;\n",
       "    }\n",
       "\n",
       "    .dataframe tbody tr th {\n",
       "        vertical-align: top;\n",
       "    }\n",
       "\n",
       "    .dataframe thead th {\n",
       "        text-align: right;\n",
       "    }\n",
       "</style>\n",
       "<table border=\"1\" class=\"dataframe\">\n",
       "  <thead>\n",
       "    <tr style=\"text-align: right;\">\n",
       "      <th></th>\n",
       "      <th>B</th>\n",
       "      <th>CHAS</th>\n",
       "      <th>DIS</th>\n",
       "      <th>LSTAT</th>\n",
       "      <th>NOX</th>\n",
       "      <th>PTRATIO</th>\n",
       "      <th>RAD</th>\n",
       "      <th>RM</th>\n",
       "      <th>TAX</th>\n",
       "      <th>ZN</th>\n",
       "    </tr>\n",
       "  </thead>\n",
       "  <tbody>\n",
       "    <tr>\n",
       "      <th>0</th>\n",
       "      <td>396.90</td>\n",
       "      <td>0.0</td>\n",
       "      <td>4.0900</td>\n",
       "      <td>4.98</td>\n",
       "      <td>0.538</td>\n",
       "      <td>15.3</td>\n",
       "      <td>1.0</td>\n",
       "      <td>6.575</td>\n",
       "      <td>296.0</td>\n",
       "      <td>18.0</td>\n",
       "    </tr>\n",
       "    <tr>\n",
       "      <th>1</th>\n",
       "      <td>396.90</td>\n",
       "      <td>0.0</td>\n",
       "      <td>4.9671</td>\n",
       "      <td>9.14</td>\n",
       "      <td>0.469</td>\n",
       "      <td>17.8</td>\n",
       "      <td>2.0</td>\n",
       "      <td>6.421</td>\n",
       "      <td>242.0</td>\n",
       "      <td>0.0</td>\n",
       "    </tr>\n",
       "    <tr>\n",
       "      <th>2</th>\n",
       "      <td>392.83</td>\n",
       "      <td>0.0</td>\n",
       "      <td>4.9671</td>\n",
       "      <td>4.03</td>\n",
       "      <td>0.469</td>\n",
       "      <td>17.8</td>\n",
       "      <td>2.0</td>\n",
       "      <td>7.185</td>\n",
       "      <td>242.0</td>\n",
       "      <td>0.0</td>\n",
       "    </tr>\n",
       "    <tr>\n",
       "      <th>3</th>\n",
       "      <td>394.63</td>\n",
       "      <td>0.0</td>\n",
       "      <td>6.0622</td>\n",
       "      <td>2.94</td>\n",
       "      <td>0.458</td>\n",
       "      <td>18.7</td>\n",
       "      <td>3.0</td>\n",
       "      <td>6.998</td>\n",
       "      <td>222.0</td>\n",
       "      <td>0.0</td>\n",
       "    </tr>\n",
       "    <tr>\n",
       "      <th>4</th>\n",
       "      <td>396.90</td>\n",
       "      <td>0.0</td>\n",
       "      <td>6.0622</td>\n",
       "      <td>5.33</td>\n",
       "      <td>0.458</td>\n",
       "      <td>18.7</td>\n",
       "      <td>3.0</td>\n",
       "      <td>7.147</td>\n",
       "      <td>222.0</td>\n",
       "      <td>0.0</td>\n",
       "    </tr>\n",
       "    <tr>\n",
       "      <th>...</th>\n",
       "      <td>...</td>\n",
       "      <td>...</td>\n",
       "      <td>...</td>\n",
       "      <td>...</td>\n",
       "      <td>...</td>\n",
       "      <td>...</td>\n",
       "      <td>...</td>\n",
       "      <td>...</td>\n",
       "      <td>...</td>\n",
       "      <td>...</td>\n",
       "    </tr>\n",
       "    <tr>\n",
       "      <th>501</th>\n",
       "      <td>391.99</td>\n",
       "      <td>0.0</td>\n",
       "      <td>2.4786</td>\n",
       "      <td>9.67</td>\n",
       "      <td>0.573</td>\n",
       "      <td>21.0</td>\n",
       "      <td>1.0</td>\n",
       "      <td>6.593</td>\n",
       "      <td>273.0</td>\n",
       "      <td>0.0</td>\n",
       "    </tr>\n",
       "    <tr>\n",
       "      <th>502</th>\n",
       "      <td>396.90</td>\n",
       "      <td>0.0</td>\n",
       "      <td>2.2875</td>\n",
       "      <td>9.08</td>\n",
       "      <td>0.573</td>\n",
       "      <td>21.0</td>\n",
       "      <td>1.0</td>\n",
       "      <td>6.120</td>\n",
       "      <td>273.0</td>\n",
       "      <td>0.0</td>\n",
       "    </tr>\n",
       "    <tr>\n",
       "      <th>503</th>\n",
       "      <td>396.90</td>\n",
       "      <td>0.0</td>\n",
       "      <td>2.1675</td>\n",
       "      <td>5.64</td>\n",
       "      <td>0.573</td>\n",
       "      <td>21.0</td>\n",
       "      <td>1.0</td>\n",
       "      <td>6.976</td>\n",
       "      <td>273.0</td>\n",
       "      <td>0.0</td>\n",
       "    </tr>\n",
       "    <tr>\n",
       "      <th>504</th>\n",
       "      <td>393.45</td>\n",
       "      <td>0.0</td>\n",
       "      <td>2.3889</td>\n",
       "      <td>6.48</td>\n",
       "      <td>0.573</td>\n",
       "      <td>21.0</td>\n",
       "      <td>1.0</td>\n",
       "      <td>6.794</td>\n",
       "      <td>273.0</td>\n",
       "      <td>0.0</td>\n",
       "    </tr>\n",
       "    <tr>\n",
       "      <th>505</th>\n",
       "      <td>396.90</td>\n",
       "      <td>0.0</td>\n",
       "      <td>2.5050</td>\n",
       "      <td>7.88</td>\n",
       "      <td>0.573</td>\n",
       "      <td>21.0</td>\n",
       "      <td>1.0</td>\n",
       "      <td>6.030</td>\n",
       "      <td>273.0</td>\n",
       "      <td>0.0</td>\n",
       "    </tr>\n",
       "  </tbody>\n",
       "</table>\n",
       "<p>506 rows × 10 columns</p>\n",
       "</div>"
      ],
      "text/plain": [
       "          B  CHAS     DIS  LSTAT    NOX  PTRATIO  RAD     RM    TAX    ZN\n",
       "0    396.90   0.0  4.0900   4.98  0.538     15.3  1.0  6.575  296.0  18.0\n",
       "1    396.90   0.0  4.9671   9.14  0.469     17.8  2.0  6.421  242.0   0.0\n",
       "2    392.83   0.0  4.9671   4.03  0.469     17.8  2.0  7.185  242.0   0.0\n",
       "3    394.63   0.0  6.0622   2.94  0.458     18.7  3.0  6.998  222.0   0.0\n",
       "4    396.90   0.0  6.0622   5.33  0.458     18.7  3.0  7.147  222.0   0.0\n",
       "..      ...   ...     ...    ...    ...      ...  ...    ...    ...   ...\n",
       "501  391.99   0.0  2.4786   9.67  0.573     21.0  1.0  6.593  273.0   0.0\n",
       "502  396.90   0.0  2.2875   9.08  0.573     21.0  1.0  6.120  273.0   0.0\n",
       "503  396.90   0.0  2.1675   5.64  0.573     21.0  1.0  6.976  273.0   0.0\n",
       "504  393.45   0.0  2.3889   6.48  0.573     21.0  1.0  6.794  273.0   0.0\n",
       "505  396.90   0.0  2.5050   7.88  0.573     21.0  1.0  6.030  273.0   0.0\n",
       "\n",
       "[506 rows x 10 columns]"
      ]
     },
     "execution_count": 8,
     "metadata": {},
     "output_type": "execute_result"
    }
   ],
   "source": [
    "X"
   ]
  },
  {
   "cell_type": "code",
   "execution_count": 9,
   "id": "fc333532",
   "metadata": {},
   "outputs": [
    {
     "name": "stdout",
     "output_type": "stream",
     "text": [
      "(404, 10) (102, 10) (404,) (102,)\n"
     ]
    }
   ],
   "source": [
    "## 데이터 생성\n",
    "X_train_b, X_test_b, y_train_b, y_test_b = train_test_split(X,\n",
    "                                                           data_b.target,\n",
    "                                                           test_size = 0.2,\n",
    "                                                           random_state = 20)\n",
    "\n",
    "print(X_train_b.shape, X_test_b.shape, y_train_b.shape, y_test_b.shape)"
   ]
  },
  {
   "cell_type": "code",
   "execution_count": 10,
   "id": "6438381f",
   "metadata": {},
   "outputs": [
    {
     "data": {
      "text/html": [
       "<table class=\"simpletable\">\n",
       "<caption>OLS Regression Results</caption>\n",
       "<tr>\n",
       "  <th>Dep. Variable:</th>            <td>y</td>        <th>  R-squared:         </th> <td>   0.733</td> \n",
       "</tr>\n",
       "<tr>\n",
       "  <th>Model:</th>                   <td>OLS</td>       <th>  Adj. R-squared:    </th> <td>   0.726</td> \n",
       "</tr>\n",
       "<tr>\n",
       "  <th>Method:</th>             <td>Least Squares</td>  <th>  F-statistic:       </th> <td>   107.8</td> \n",
       "</tr>\n",
       "<tr>\n",
       "  <th>Date:</th>             <td>Fri, 26 Aug 2022</td> <th>  Prob (F-statistic):</th> <td>4.21e-106</td>\n",
       "</tr>\n",
       "<tr>\n",
       "  <th>Time:</th>                 <td>21:33:42</td>     <th>  Log-Likelihood:    </th> <td> -1213.8</td> \n",
       "</tr>\n",
       "<tr>\n",
       "  <th>No. Observations:</th>      <td>   404</td>      <th>  AIC:               </th> <td>   2450.</td> \n",
       "</tr>\n",
       "<tr>\n",
       "  <th>Df Residuals:</th>          <td>   393</td>      <th>  BIC:               </th> <td>   2494.</td> \n",
       "</tr>\n",
       "<tr>\n",
       "  <th>Df Model:</th>              <td>    10</td>      <th>                     </th>     <td> </td>    \n",
       "</tr>\n",
       "<tr>\n",
       "  <th>Covariance Type:</th>      <td>nonrobust</td>    <th>                     </th>     <td> </td>    \n",
       "</tr>\n",
       "</table>\n",
       "<table class=\"simpletable\">\n",
       "<tr>\n",
       "     <td></td>        <th>coef</th>     <th>std err</th>      <th>t</th>      <th>P>|t|</th>  <th>[0.025</th>    <th>0.975]</th>  \n",
       "</tr>\n",
       "<tr>\n",
       "  <th>const</th>   <td>   34.0451</td> <td>    5.765</td> <td>    5.906</td> <td> 0.000</td> <td>   22.712</td> <td>   45.378</td>\n",
       "</tr>\n",
       "<tr>\n",
       "  <th>B</th>       <td>    0.0103</td> <td>    0.003</td> <td>    3.382</td> <td> 0.001</td> <td>    0.004</td> <td>    0.016</td>\n",
       "</tr>\n",
       "<tr>\n",
       "  <th>CHAS</th>    <td>    3.1374</td> <td>    0.974</td> <td>    3.223</td> <td> 0.001</td> <td>    1.223</td> <td>    5.052</td>\n",
       "</tr>\n",
       "<tr>\n",
       "  <th>DIS</th>     <td>   -1.4037</td> <td>    0.214</td> <td>   -6.550</td> <td> 0.000</td> <td>   -1.825</td> <td>   -0.982</td>\n",
       "</tr>\n",
       "<tr>\n",
       "  <th>LSTAT</th>   <td>   -0.5561</td> <td>    0.054</td> <td>  -10.207</td> <td> 0.000</td> <td>   -0.663</td> <td>   -0.449</td>\n",
       "</tr>\n",
       "<tr>\n",
       "  <th>NOX</th>     <td>  -18.1965</td> <td>    4.222</td> <td>   -4.310</td> <td> 0.000</td> <td>  -26.498</td> <td>   -9.896</td>\n",
       "</tr>\n",
       "<tr>\n",
       "  <th>PTRATIO</th> <td>   -0.8594</td> <td>    0.153</td> <td>   -5.625</td> <td> 0.000</td> <td>   -1.160</td> <td>   -0.559</td>\n",
       "</tr>\n",
       "<tr>\n",
       "  <th>RAD</th>     <td>    0.2112</td> <td>    0.068</td> <td>    3.113</td> <td> 0.002</td> <td>    0.078</td> <td>    0.345</td>\n",
       "</tr>\n",
       "<tr>\n",
       "  <th>RM</th>      <td>    3.8948</td> <td>    0.466</td> <td>    8.359</td> <td> 0.000</td> <td>    2.979</td> <td>    4.811</td>\n",
       "</tr>\n",
       "<tr>\n",
       "  <th>TAX</th>     <td>   -0.0095</td> <td>    0.004</td> <td>   -2.513</td> <td> 0.012</td> <td>   -0.017</td> <td>   -0.002</td>\n",
       "</tr>\n",
       "<tr>\n",
       "  <th>ZN</th>      <td>    0.0344</td> <td>    0.016</td> <td>    2.201</td> <td> 0.028</td> <td>    0.004</td> <td>    0.065</td>\n",
       "</tr>\n",
       "</table>\n",
       "<table class=\"simpletable\">\n",
       "<tr>\n",
       "  <th>Omnibus:</th>       <td>151.350</td> <th>  Durbin-Watson:     </th> <td>   1.939</td> \n",
       "</tr>\n",
       "<tr>\n",
       "  <th>Prob(Omnibus):</th> <td> 0.000</td>  <th>  Jarque-Bera (JB):  </th> <td> 658.107</td> \n",
       "</tr>\n",
       "<tr>\n",
       "  <th>Skew:</th>          <td> 1.597</td>  <th>  Prob(JB):          </th> <td>1.24e-143</td>\n",
       "</tr>\n",
       "<tr>\n",
       "  <th>Kurtosis:</th>      <td> 8.375</td>  <th>  Cond. No.          </th> <td>1.45e+04</td> \n",
       "</tr>\n",
       "</table><br/><br/>Notes:<br/>[1] Standard Errors assume that the covariance matrix of the errors is correctly specified.<br/>[2] The condition number is large, 1.45e+04. This might indicate that there are<br/>strong multicollinearity or other numerical problems."
      ],
      "text/plain": [
       "<class 'statsmodels.iolib.summary.Summary'>\n",
       "\"\"\"\n",
       "                            OLS Regression Results                            \n",
       "==============================================================================\n",
       "Dep. Variable:                      y   R-squared:                       0.733\n",
       "Model:                            OLS   Adj. R-squared:                  0.726\n",
       "Method:                 Least Squares   F-statistic:                     107.8\n",
       "Date:                Fri, 26 Aug 2022   Prob (F-statistic):          4.21e-106\n",
       "Time:                        21:33:42   Log-Likelihood:                -1213.8\n",
       "No. Observations:                 404   AIC:                             2450.\n",
       "Df Residuals:                     393   BIC:                             2494.\n",
       "Df Model:                          10                                         \n",
       "Covariance Type:            nonrobust                                         \n",
       "==============================================================================\n",
       "                 coef    std err          t      P>|t|      [0.025      0.975]\n",
       "------------------------------------------------------------------------------\n",
       "const         34.0451      5.765      5.906      0.000      22.712      45.378\n",
       "B              0.0103      0.003      3.382      0.001       0.004       0.016\n",
       "CHAS           3.1374      0.974      3.223      0.001       1.223       5.052\n",
       "DIS           -1.4037      0.214     -6.550      0.000      -1.825      -0.982\n",
       "LSTAT         -0.5561      0.054    -10.207      0.000      -0.663      -0.449\n",
       "NOX          -18.1965      4.222     -4.310      0.000     -26.498      -9.896\n",
       "PTRATIO       -0.8594      0.153     -5.625      0.000      -1.160      -0.559\n",
       "RAD            0.2112      0.068      3.113      0.002       0.078       0.345\n",
       "RM             3.8948      0.466      8.359      0.000       2.979       4.811\n",
       "TAX           -0.0095      0.004     -2.513      0.012      -0.017      -0.002\n",
       "ZN             0.0344      0.016      2.201      0.028       0.004       0.065\n",
       "==============================================================================\n",
       "Omnibus:                      151.350   Durbin-Watson:                   1.939\n",
       "Prob(Omnibus):                  0.000   Jarque-Bera (JB):              658.107\n",
       "Skew:                           1.597   Prob(JB):                    1.24e-143\n",
       "Kurtosis:                       8.375   Cond. No.                     1.45e+04\n",
       "==============================================================================\n",
       "\n",
       "Notes:\n",
       "[1] Standard Errors assume that the covariance matrix of the errors is correctly specified.\n",
       "[2] The condition number is large, 1.45e+04. This might indicate that there are\n",
       "strong multicollinearity or other numerical problems.\n",
       "\"\"\""
      ]
     },
     "execution_count": 10,
     "metadata": {},
     "output_type": "execute_result"
    }
   ],
   "source": [
    "## 선형회귀 OLS 적합 과정\n",
    "# b0 상수항 추가\n",
    "sm_train_x = sm.add_constant(X_train_b, has_constant = \"add\")\n",
    "\n",
    "sm_model = sm.OLS(y_train_b, sm_train_x) # OLS 모델\n",
    "result_a = sm_model.fit()\n",
    "result_a.summary()"
   ]
  },
  {
   "cell_type": "code",
   "execution_count": 11,
   "id": "956181b2",
   "metadata": {},
   "outputs": [
    {
     "data": {
      "text/plain": [
       "4.135130074364724"
      ]
     },
     "execution_count": 11,
     "metadata": {},
     "output_type": "execute_result"
    }
   ],
   "source": [
    "# 예측을 위한 test 상수항 추가\n",
    "sm_test_x = sm.add_constant(X_test_b, has_constant = \"add\")\n",
    "\n",
    "sm_model_predict = result_a.predict(sm_test_x) # 예측\n",
    "\n",
    "## RMSE 결과 \n",
    "sqrt(mean_squared_error(sm_model_predict,y_test_b))"
   ]
  },
  {
   "cell_type": "code",
   "execution_count": 12,
   "id": "2c4230a2",
   "metadata": {},
   "outputs": [
    {
     "name": "stdout",
     "output_type": "stream",
     "text": [
      "RMSE : 4.135130074364738\n"
     ]
    }
   ],
   "source": [
    "## 선형회귀모델 생성 및 결과 확인\n",
    "from sklearn.linear_model import LinearRegression\n",
    "\n",
    "# 선형회귀 모델\n",
    "linear_model1 = LinearRegression()\n",
    "linear_model1 = linear_model1.fit(X_train_b, y_train_b)\n",
    "\n",
    "predict1 = linear_model1.predict(X_test_b)\n",
    "\n",
    "# RMSE 결과\n",
    "print(\"RMSE : {}\".format(sqrt(mean_squared_error(predict1, y_test_b))))"
   ]
  },
  {
   "cell_type": "code",
   "execution_count": 13,
   "id": "c194cfbc",
   "metadata": {},
   "outputs": [
    {
     "name": "stdout",
     "output_type": "stream",
     "text": [
      "RMSE:4.116550995900308\n"
     ]
    }
   ],
   "source": [
    "## Bagging Regressor 진행\n",
    "from sklearn.ensemble import BaggingRegressor\n",
    "\n",
    "# 선형 학습 모델을 parameter 로 입력\n",
    "bagging_model = BaggingRegressor(base_estimator = linear_model1, #선형회귀모델\n",
    "                                n_estimators = 100, #100개의 분류기, 샘플링 수\n",
    "                                verbose = 0) #1 : 학습과정 표시\n",
    "\n",
    "bagging_model = bagging_model.fit(X_train_b, y_train_b) #학습 진행\n",
    "\n",
    "predict2 = bagging_model.predict(X_test_b) #학습된 Bagging 선형회귀 모델로 평가 데이터 에측\n",
    "\n",
    "print(\"RMSE:{}\".format(sqrt(mean_squared_error(predict2,y_test_b))))"
   ]
  },
  {
   "cell_type": "markdown",
   "id": "c31b5d69",
   "metadata": {},
   "source": [
    "# 모델 개선"
   ]
  },
  {
   "cell_type": "code",
   "execution_count": 14,
   "id": "07e3b23b",
   "metadata": {},
   "outputs": [],
   "source": [
    "from statsmodels.stats.outliers_influence import variance_inflation_factor"
   ]
  },
  {
   "cell_type": "code",
   "execution_count": 15,
   "id": "7e862add",
   "metadata": {},
   "outputs": [
    {
     "name": "stdout",
     "output_type": "stream",
     "text": [
      "['const', 'B', 'CHAS', 'DIS', 'LSTAT', 'NOX', 'PTRATIO', 'RAD', 'RM', 'TAX', 'ZN']\n"
     ]
    }
   ],
   "source": [
    "# 회귀분석 모델 변수\n",
    "print(sm_model.exog_names)"
   ]
  },
  {
   "cell_type": "code",
   "execution_count": 16,
   "id": "fe191291",
   "metadata": {},
   "outputs": [
    {
     "name": "stdout",
     "output_type": "stream",
     "text": [
      "1.3512019768064691\n"
     ]
    }
   ],
   "source": [
    "print(variance_inflation_factor(sm_model.exog, 1))\n",
    "\n",
    "# B 의 VIF"
   ]
  },
  {
   "cell_type": "code",
   "execution_count": 17,
   "id": "c0c9895b",
   "metadata": {},
   "outputs": [
    {
     "data": {
      "text/html": [
       "<div>\n",
       "<style scoped>\n",
       "    .dataframe tbody tr th:only-of-type {\n",
       "        vertical-align: middle;\n",
       "    }\n",
       "\n",
       "    .dataframe tbody tr th {\n",
       "        vertical-align: top;\n",
       "    }\n",
       "\n",
       "    .dataframe thead th {\n",
       "        text-align: right;\n",
       "    }\n",
       "</style>\n",
       "<table border=\"1\" class=\"dataframe\">\n",
       "  <thead>\n",
       "    <tr style=\"text-align: right;\">\n",
       "      <th></th>\n",
       "      <th>컬럼</th>\n",
       "      <th>VIF</th>\n",
       "    </tr>\n",
       "  </thead>\n",
       "  <tbody>\n",
       "    <tr>\n",
       "      <th>0</th>\n",
       "      <td>B</td>\n",
       "      <td>1.351202</td>\n",
       "    </tr>\n",
       "    <tr>\n",
       "      <th>1</th>\n",
       "      <td>CHAS</td>\n",
       "      <td>1.074666</td>\n",
       "    </tr>\n",
       "    <tr>\n",
       "      <th>2</th>\n",
       "      <td>DIS</td>\n",
       "      <td>3.525101</td>\n",
       "    </tr>\n",
       "    <tr>\n",
       "      <th>3</th>\n",
       "      <td>LSTAT</td>\n",
       "      <td>2.621585</td>\n",
       "    </tr>\n",
       "    <tr>\n",
       "      <th>4</th>\n",
       "      <td>NOX</td>\n",
       "      <td>3.918460</td>\n",
       "    </tr>\n",
       "    <tr>\n",
       "      <th>5</th>\n",
       "      <td>PTRATIO</td>\n",
       "      <td>1.809721</td>\n",
       "    </tr>\n",
       "    <tr>\n",
       "      <th>6</th>\n",
       "      <td>RAD</td>\n",
       "      <td>5.762160</td>\n",
       "    </tr>\n",
       "    <tr>\n",
       "      <th>7</th>\n",
       "      <td>RM</td>\n",
       "      <td>1.825693</td>\n",
       "    </tr>\n",
       "    <tr>\n",
       "      <th>8</th>\n",
       "      <td>TAX</td>\n",
       "      <td>6.743753</td>\n",
       "    </tr>\n",
       "    <tr>\n",
       "      <th>9</th>\n",
       "      <td>ZN</td>\n",
       "      <td>2.221930</td>\n",
       "    </tr>\n",
       "  </tbody>\n",
       "</table>\n",
       "</div>"
      ],
      "text/plain": [
       "        컬럼       VIF\n",
       "0        B  1.351202\n",
       "1     CHAS  1.074666\n",
       "2      DIS  3.525101\n",
       "3    LSTAT  2.621585\n",
       "4      NOX  3.918460\n",
       "5  PTRATIO  1.809721\n",
       "6      RAD  5.762160\n",
       "7       RM  1.825693\n",
       "8      TAX  6.743753\n",
       "9       ZN  2.221930"
      ]
     },
     "execution_count": 17,
     "metadata": {},
     "output_type": "execute_result"
    }
   ],
   "source": [
    "pd.DataFrame({'컬럼' : column, 'VIF' : variance_inflation_factor(sm_model.exog, i)}\n",
    "              for i, column in enumerate(sm_model.exog_names)\n",
    "              if column != 'const') #절편 제외\n",
    "\n",
    "# 다중공선성 없는데 ㅠ?"
   ]
  },
  {
   "cell_type": "code",
   "execution_count": 18,
   "id": "2a711d97",
   "metadata": {},
   "outputs": [],
   "source": [
    "## 선형성\n",
    "s_d_res_fit = result_b.predict(df_b)\n",
    "s_d_residuals = df_b['MEDV'] - s_d_res_fit"
   ]
  },
  {
   "cell_type": "code",
   "execution_count": 19,
   "id": "066fbeb9",
   "metadata": {},
   "outputs": [
    {
     "data": {
      "text/plain": [
       "[<matplotlib.lines.Line2D at 0x1fd9b002a60>]"
      ]
     },
     "execution_count": 19,
     "metadata": {},
     "output_type": "execute_result"
    },
    {
     "data": {
      "image/png": "[encoded data removed]",
      "text/plain": [
       "<Figure size 432x288 with 1 Axes>"
      ]
     },
     "metadata": {},
     "output_type": "display_data"
    }
   ],
   "source": [
    "# 선형성 시각화(red : 잔차)\n",
    "sns.regplot(s_d_res_fit, s_d_residuals, lowess=True, line_kws= {'color' : 'red'})\n",
    "plt.plot([s_d_res_fit.min(), s_d_res_fit.max()], [0, 0], '--', color='green')"
   ]
  },
  {
   "cell_type": "code",
   "execution_count": 20,
   "id": "00a1b1ee",
   "metadata": {},
   "outputs": [
    {
     "data": {
      "text/plain": [
       "[<matplotlib.lines.Line2D at 0x1fd9b183a00>]"
      ]
     },
     "execution_count": 20,
     "metadata": {},
     "output_type": "execute_result"
    },
    {
     "data": {
      "image/png": "[encoded data removed]",
      "text/plain": [
       "<Figure size 432x288 with 1 Axes>"
      ]
     },
     "metadata": {},
     "output_type": "display_data"
    }
   ],
   "source": [
    "## 정규성 확인 (QQplot, 점 값이 선을 따라배치되는 것이 이상적)\n",
    "import scipy.stats as stats\n",
    "s_d_sr = stats.zscore(s_d_residuals)\n",
    "(s_d_x, s_d_y), _ = stats.probplot(s_d_sr)\n",
    "\n",
    "# 정규성 시각화\n",
    "sns.scatterplot(s_d_x, s_d_y)\n",
    "plt.plot([-3, 3], [-3, 3], '--', color = 'grey')"
   ]
  },
  {
   "cell_type": "markdown",
   "id": "0fbf4c43",
   "metadata": {},
   "source": [
    "# Make Moon 을 이용한 실습"
   ]
  },
  {
   "cell_type": "code",
   "execution_count": 21,
   "id": "3c17deee",
   "metadata": {},
   "outputs": [],
   "source": [
    "## 데이터셋 생성\n",
    "# moon dataset\n",
    "from sklearn.datasets import make_moons"
   ]
  },
  {
   "cell_type": "code",
   "execution_count": 22,
   "id": "5ed57802",
   "metadata": {},
   "outputs": [
    {
     "name": "stdout",
     "output_type": "stream",
     "text": [
      "[0 1]\n",
      "          0         1\n",
      "0  1.139922 -0.172155\n",
      "1  2.134988  0.233241\n",
      "2  1.745228  0.186196\n"
     ]
    }
   ],
   "source": [
    "# make_moon 함수 이용 데이터셋 생성\n",
    "X,y = make_moons(n_samples = 400, noise = 0.2, random_state = 20)\n",
    "\n",
    "df_m = pd.DataFrame(X)\n",
    "print(y[:2])\n",
    "print(df_m.head(3))"
   ]
  },
  {
   "cell_type": "code",
   "execution_count": 23,
   "id": "9372a1cd",
   "metadata": {},
   "outputs": [
    {
     "data": {
      "image/png": "[encoded data removed]",
      "text/plain": [
       "<Figure size 504x360 with 1 Axes>"
      ]
     },
     "metadata": {},
     "output_type": "display_data"
    }
   ],
   "source": [
    "# X 데이터의 산점도 시각화\n",
    "plt.figure(figsize = (7,5))\n",
    "plt.title(\"Before\", fontsize = 15)\n",
    "sns.scatterplot(x=df_m[0], y=df_m[1], palette = \"Set2\")\n",
    "plt.grid()\n",
    "plt.show()"
   ]
  },
  {
   "cell_type": "code",
   "execution_count": 24,
   "id": "a0be4800",
   "metadata": {},
   "outputs": [
    {
     "name": "stdout",
     "output_type": "stream",
     "text": [
      "DecisionTreeClassifier 0.93\n",
      "BaggingClassifier 0.93\n",
      "oob socre 0.9666666666666667\n"
     ]
    }
   ],
   "source": [
    "## sklearn 모듈의 tree import\n",
    "from sklearn import tree\n",
    "from sklearn.ensemble import BaggingClassifier\n",
    "from sklearn.tree import DecisionTreeClassifier\n",
    "from sklearn.metrics import accuracy_score\n",
    "\n",
    "# 환경변수 추가 후 환경변수 설정 아래 코드\n",
    "os.environ[\"PATH\"]+= os.pathsep + 'C:/Program Files/Graphviz/bin'\n",
    "\n",
    "## 데이터셋 분리\n",
    "X_train, X_test, y_train, y_test = train_test_split(X,y , random_state = 20)\n",
    "\n",
    "# 결정트리 분류기 1개 학습\n",
    "tree_clf = DecisionTreeClassifier(random_state = 20)\n",
    "tree_clf.fit(X_train, y_train)\n",
    "y_pred_tree = tree_clf.predict(X_test)\n",
    "print(tree_clf.__class__.__name__,accuracy_score(y_test, y_pred_tree))\n",
    "\n",
    "# 배깅 학습\n",
    "bagging_clf = BaggingClassifier(DecisionTreeClassifier(),\n",
    "                               n_estimators = 100,\n",
    "                               bootstrap = True,\n",
    "                               oob_score = True)\n",
    "\n",
    "bagging_clf.fit(X_train, y_train)\n",
    "y_pred = bagging_clf.predict(X_test)\n",
    "print(bagging_clf.__class__.__name__,accuracy_score(y_test, y_pred))\n",
    "\n",
    "#oob score\n",
    "print(\"oob socre\", bagging_clf.oob_score_)"
   ]
  },
  {
   "cell_type": "code",
   "execution_count": 25,
   "id": "4d8feea0",
   "metadata": {},
   "outputs": [],
   "source": [
    "## 시각화 \n",
    "from matplotlib.colors import ListedColormap\n",
    "\n",
    "# 시각화 함수 \n",
    "def plot_decision_boundary(clf, X, y, axes=[-1.5, 2.5, -1, 1.5], alpha=0.5, contour=True):\n",
    "    x1s = np.linspace(axes[0], axes[1], 100)\n",
    "    x2s = np.linspace(axes[2], axes[3], 100)\n",
    "    x1, x2 = np.meshgrid(x1s, x2s)\n",
    "    X_new = np.c_[x1.ravel(), x2.ravel()]\n",
    "    y_pred = clf.predict(X_new).reshape(x1.shape)\n",
    "    custom_cmap = ListedColormap(['#fafab0','#9898ff','#a0faa0'])\n",
    "    plt.contourf(x1, x2, y_pred, alpha=0.3, cmap=custom_cmap)\n",
    "    if contour:\n",
    "        custom_cmap2 = ListedColormap(['#7d7d58','#4c4c7f','#507d50'])\n",
    "        plt.contour(x1, x2, y_pred, cmap=custom_cmap2, alpha=0.8)\n",
    "    plt.plot(X[:, 0][y==0], X[:, 1][y==0], \"yo\", alpha=alpha)\n",
    "    plt.plot(X[:, 0][y==1], X[:, 1][y==1], \"bs\", alpha=alpha)\n",
    "    plt.axis(axes)\n",
    "    plt.xlabel(r\"$x_1$\", fontsize=18)\n",
    "    plt.ylabel(r\"$x_2$\", fontsize=18, rotation=0)"
   ]
  },
  {
   "cell_type": "code",
   "execution_count": 26,
   "id": "4875cf09",
   "metadata": {},
   "outputs": [
    {
     "data": {
      "image/png": "[encoded data removed]",
      "text/plain": [
       "<Figure size 792x288 with 2 Axes>"
      ]
     },
     "metadata": {},
     "output_type": "display_data"
    }
   ],
   "source": [
    "# 시각화 \n",
    "## 전체 데이터 \n",
    "plt.figure(figsize=(11,4))\n",
    "plt.subplot(121)\n",
    "plot_decision_boundary(tree_clf, X, y)\n",
    "plt.title(\"Decision Tree\", fontsize=14)\n",
    "plt.subplot(122)\n",
    "plot_decision_boundary(bagging_clf, X, y)\n",
    "plt.title(\"Decision Trees with Bagging\", fontsize=14)\n",
    "plt.show()"
   ]
  },
  {
   "cell_type": "code",
   "execution_count": 27,
   "id": "33d37d84",
   "metadata": {},
   "outputs": [
    {
     "data": {
      "image/png": "[encoded data removed]",
      "text/plain": [
       "<Figure size 792x288 with 2 Axes>"
      ]
     },
     "metadata": {},
     "output_type": "display_data"
    }
   ],
   "source": [
    "## 테스트 데이터 \n",
    "plt.figure(figsize=(11,4))\n",
    "plt.subplot(121)\n",
    "plot_decision_boundary(tree_clf, X_test, y_test)\n",
    "plt.title(\"Decision Tree\", fontsize=14)\n",
    "plt.subplot(122)\n",
    "plot_decision_boundary(bagging_clf, X_test, y_test)\n",
    "plt.title(\"Decision Trees with Bagging\", fontsize=14)\n",
    "plt.show()"
   ]
  },
  {
   "cell_type": "markdown",
   "id": "fb4a378d",
   "metadata": {},
   "source": [
    "# 보팅 실습"
   ]
  },
  {
   "cell_type": "code",
   "execution_count": 28,
   "id": "d55c3ed4",
   "metadata": {},
   "outputs": [],
   "source": [
    "# 패키지 임포트 \n",
    "import os \n",
    "import warnings\n",
    "# FutureWarning 제거\n",
    "warnings.simplefilter(action='ignore', category=FutureWarning) \n",
    "\n",
    "import pandas as pd # pandas package\n",
    "import numpy as np  # numpy package  \n",
    "from scipy import stats  # Scipy Package \n",
    "\n",
    "from sklearn.model_selection import train_test_split #데이터셋 분리 \n",
    "from sklearn.preprocessing import StandardScaler\n",
    "\n",
    "# 시각화 패키지 \n",
    "import matplotlib.pyplot as plt #  matplotlib 시각화 패키지 \n",
    "import seaborn as sns\n",
    "%matplotlib inline\n",
    "\n",
    "# os에 따른 Font 깨짐 제거를 위해 Font 지정 \n",
    "import os \n",
    "if os.name == 'nt' :  # Windows OS \n",
    "    font_family = \"Malgun Gothic\"\n",
    "else: # MAC OS \n",
    "    font_family = \"AppleGothic\"\n",
    "    \n",
    "# - 값이 깨지는 문제 해결을 위해 파라미터 값 설정 \n",
    "sns.set(font=font_family, rc ={\"axes.unicode_minus\" : False})  "
   ]
  },
  {
   "cell_type": "code",
   "execution_count": 29,
   "id": "1561a9c6",
   "metadata": {},
   "outputs": [
    {
     "data": {
      "text/html": [
       "<style>#sk-container-id-1 {color: black;background-color: white;}#sk-container-id-1 pre{padding: 0;}#sk-container-id-1 div.sk-toggleable {background-color: white;}#sk-container-id-1 label.sk-toggleable__label {cursor: pointer;display: block;width: 100%;margin-bottom: 0;padding: 0.3em;box-sizing: border-box;text-align: center;}#sk-container-id-1 label.sk-toggleable__label-arrow:before {content: \"▸\";float: left;margin-right: 0.25em;color: #696969;}#sk-container-id-1 label.sk-toggleable__label-arrow:hover:before {color: black;}#sk-container-id-1 div.sk-estimator:hover label.sk-toggleable__label-arrow:before {color: black;}#sk-container-id-1 div.sk-toggleable__content {max-height: 0;max-width: 0;overflow: hidden;text-align: left;background-color: #f0f8ff;}#sk-container-id-1 div.sk-toggleable__content pre {margin: 0.2em;color: black;border-radius: 0.25em;background-color: #f0f8ff;}#sk-container-id-1 input.sk-toggleable__control:checked~div.sk-toggleable__content {max-height: 200px;max-width: 100%;overflow: auto;}#sk-container-id-1 input.sk-toggleable__control:checked~label.sk-toggleable__label-arrow:before {content: \"▾\";}#sk-container-id-1 div.sk-estimator input.sk-toggleable__control:checked~label.sk-toggleable__label {background-color: #d4ebff;}#sk-container-id-1 div.sk-label input.sk-toggleable__control:checked~label.sk-toggleable__label {background-color: #d4ebff;}#sk-container-id-1 input.sk-hidden--visually {border: 0;clip: rect(1px 1px 1px 1px);clip: rect(1px, 1px, 1px, 1px);height: 1px;margin: -1px;overflow: hidden;padding: 0;position: absolute;width: 1px;}#sk-container-id-1 div.sk-estimator {font-family: monospace;background-color: #f0f8ff;border: 1px dotted black;border-radius: 0.25em;box-sizing: border-box;margin-bottom: 0.5em;}#sk-container-id-1 div.sk-estimator:hover {background-color: #d4ebff;}#sk-container-id-1 div.sk-parallel-item::after {content: \"\";width: 100%;border-bottom: 1px solid gray;flex-grow: 1;}#sk-container-id-1 div.sk-label:hover label.sk-toggleable__label {background-color: #d4ebff;}#sk-container-id-1 div.sk-serial::before {content: \"\";position: absolute;border-left: 1px solid gray;box-sizing: border-box;top: 0;bottom: 0;left: 50%;z-index: 0;}#sk-container-id-1 div.sk-serial {display: flex;flex-direction: column;align-items: center;background-color: white;padding-right: 0.2em;padding-left: 0.2em;position: relative;}#sk-container-id-1 div.sk-item {position: relative;z-index: 1;}#sk-container-id-1 div.sk-parallel {display: flex;align-items: stretch;justify-content: center;background-color: white;position: relative;}#sk-container-id-1 div.sk-item::before, #sk-container-id-1 div.sk-parallel-item::before {content: \"\";position: absolute;border-left: 1px solid gray;box-sizing: border-box;top: 0;bottom: 0;left: 50%;z-index: -1;}#sk-container-id-1 div.sk-parallel-item {display: flex;flex-direction: column;z-index: 1;position: relative;background-color: white;}#sk-container-id-1 div.sk-parallel-item:first-child::after {align-self: flex-end;width: 50%;}#sk-container-id-1 div.sk-parallel-item:last-child::after {align-self: flex-start;width: 50%;}#sk-container-id-1 div.sk-parallel-item:only-child::after {width: 0;}#sk-container-id-1 div.sk-dashed-wrapped {border: 1px dashed gray;margin: 0 0.4em 0.5em 0.4em;box-sizing: border-box;padding-bottom: 0.4em;background-color: white;}#sk-container-id-1 div.sk-label label {font-family: monospace;font-weight: bold;display: inline-block;line-height: 1.2em;}#sk-container-id-1 div.sk-label-container {text-align: center;}#sk-container-id-1 div.sk-container {/* jupyter's `normalize.less` sets `[hidden] { display: none; }` but bootstrap.min.css set `[hidden] { display: none !important; }` so we also need the `!important` here to be able to override the default hidden behavior on the sphinx rendered scikit-learn.org. See: https://github.com/scikit-learn/scikit-learn/issues/21755 */display: inline-block !important;position: relative;}#sk-container-id-1 div.sk-text-repr-fallback {display: none;}</style><div id=\"sk-container-id-1\" class=\"sk-top-container\"><div class=\"sk-text-repr-fallback\"><pre>VotingClassifier(estimators=[(&#x27;lr&#x27;, LogisticRegression(random_state=20)),\n",
       "                             (&#x27;rf&#x27;, RandomForestClassifier(random_state=20)),\n",
       "                             (&#x27;svc&#x27;, SVC(probability=True, random_state=20))])</pre><b>In a Jupyter environment, please rerun this cell to show the HTML representation or trust the notebook. <br />On GitHub, the HTML representation is unable to render, please try loading this page with nbviewer.org.</b></div><div class=\"sk-container\" hidden><div class=\"sk-item sk-dashed-wrapped\"><div class=\"sk-label-container\"><div class=\"sk-label sk-toggleable\"><input class=\"sk-toggleable__control sk-hidden--visually\" id=\"sk-estimator-id-1\" type=\"checkbox\" ><label for=\"sk-estimator-id-1\" class=\"sk-toggleable__label sk-toggleable__label-arrow\">VotingClassifier</label><div class=\"sk-toggleable__content\"><pre>VotingClassifier(estimators=[(&#x27;lr&#x27;, LogisticRegression(random_state=20)),\n",
       "                             (&#x27;rf&#x27;, RandomForestClassifier(random_state=20)),\n",
       "                             (&#x27;svc&#x27;, SVC(probability=True, random_state=20))])</pre></div></div></div><div class=\"sk-parallel\"><div class=\"sk-parallel-item\"><div class=\"sk-item\"><div class=\"sk-label-container\"><div class=\"sk-label sk-toggleable\"><label>lr</label></div></div><div class=\"sk-serial\"><div class=\"sk-item\"><div class=\"sk-estimator sk-toggleable\"><input class=\"sk-toggleable__control sk-hidden--visually\" id=\"sk-estimator-id-2\" type=\"checkbox\" ><label for=\"sk-estimator-id-2\" class=\"sk-toggleable__label sk-toggleable__label-arrow\">LogisticRegression</label><div class=\"sk-toggleable__content\"><pre>LogisticRegression(random_state=20)</pre></div></div></div></div></div></div><div class=\"sk-parallel-item\"><div class=\"sk-item\"><div class=\"sk-label-container\"><div class=\"sk-label sk-toggleable\"><label>rf</label></div></div><div class=\"sk-serial\"><div class=\"sk-item\"><div class=\"sk-estimator sk-toggleable\"><input class=\"sk-toggleable__control sk-hidden--visually\" id=\"sk-estimator-id-3\" type=\"checkbox\" ><label for=\"sk-estimator-id-3\" class=\"sk-toggleable__label sk-toggleable__label-arrow\">RandomForestClassifier</label><div class=\"sk-toggleable__content\"><pre>RandomForestClassifier(random_state=20)</pre></div></div></div></div></div></div><div class=\"sk-parallel-item\"><div class=\"sk-item\"><div class=\"sk-label-container\"><div class=\"sk-label sk-toggleable\"><label>svc</label></div></div><div class=\"sk-serial\"><div class=\"sk-item\"><div class=\"sk-estimator sk-toggleable\"><input class=\"sk-toggleable__control sk-hidden--visually\" id=\"sk-estimator-id-4\" type=\"checkbox\" ><label for=\"sk-estimator-id-4\" class=\"sk-toggleable__label sk-toggleable__label-arrow\">SVC</label><div class=\"sk-toggleable__content\"><pre>SVC(probability=True, random_state=20)</pre></div></div></div></div></div></div></div></div></div></div>"
      ],
      "text/plain": [
       "VotingClassifier(estimators=[('lr', LogisticRegression(random_state=20)),\n",
       "                             ('rf', RandomForestClassifier(random_state=20)),\n",
       "                             ('svc', SVC(probability=True, random_state=20))])"
      ]
     },
     "execution_count": 29,
     "metadata": {},
     "output_type": "execute_result"
    }
   ],
   "source": [
    "import warnings\n",
    "warnings.filterwarnings(action='ignore', category=DeprecationWarning)\n",
    "\n",
    "from sklearn.ensemble import VotingClassifier # voting \n",
    "from sklearn.ensemble import RandomForestClassifier # 랜덤포레스트\n",
    "from sklearn.linear_model import LogisticRegression #로지스틱 회귀\n",
    "from sklearn.svm import SVC # 서포트벡터머신\n",
    "from sklearn.model_selection import train_test_split\n",
    "\n",
    "\n",
    "## 각 분류기 정의 \n",
    "log_clf = LogisticRegression(random_state=20)\n",
    "rnd_clf = RandomForestClassifier(random_state=20)\n",
    "svm_clf = SVC(random_state=20,probability=True)\n",
    "\n",
    "# 하드 보팅 \n",
    "voting_clf = VotingClassifier(estimators=[('lr', log_clf), ('rf', rnd_clf), \n",
    "                                          ('svc', svm_clf)], voting='hard') # 하드 보팅 \n",
    "\n",
    "voting_clf.fit(X_train, y_train)"
   ]
  },
  {
   "cell_type": "code",
   "execution_count": 30,
   "id": "2470b00d",
   "metadata": {},
   "outputs": [
    {
     "name": "stdout",
     "output_type": "stream",
     "text": [
      "LogisticRegression 0.82\n",
      "[1 0 0 1 0 0 0 0 0 0 0 0 0 1 0]\n",
      "RandomForestClassifier 0.93\n",
      "[1 0 0 1 0 0 0 0 0 0 0 0 0 0 0]\n",
      "SVC 0.94\n",
      "[1 0 0 1 0 0 0 0 0 0 0 0 0 0 0]\n",
      "VotingClassifier 0.93\n",
      "[1 0 0 1 0 0 0 0 0 0 0 0 0 0 0]\n"
     ]
    }
   ],
   "source": [
    "## 학습 및 성능 평가\n",
    "from sklearn.metrics import accuracy_score\n",
    "\n",
    "for clf in (log_clf, rnd_clf, svm_clf, voting_clf) :\n",
    "    clf.fit(X_train, y_train)\n",
    "    y_pred = clf.predict(X_test)\n",
    "    print(clf.__class__.__name__, accuracy_score(y_test, y_pred))\n",
    "    print(y_pred[:15])"
   ]
  },
  {
   "cell_type": "code",
   "execution_count": 31,
   "id": "83ba5ee2",
   "metadata": {},
   "outputs": [
    {
     "data": {
      "text/html": [
       "<style>#sk-container-id-2 {color: black;background-color: white;}#sk-container-id-2 pre{padding: 0;}#sk-container-id-2 div.sk-toggleable {background-color: white;}#sk-container-id-2 label.sk-toggleable__label {cursor: pointer;display: block;width: 100%;margin-bottom: 0;padding: 0.3em;box-sizing: border-box;text-align: center;}#sk-container-id-2 label.sk-toggleable__label-arrow:before {content: \"▸\";float: left;margin-right: 0.25em;color: #696969;}#sk-container-id-2 label.sk-toggleable__label-arrow:hover:before {color: black;}#sk-container-id-2 div.sk-estimator:hover label.sk-toggleable__label-arrow:before {color: black;}#sk-container-id-2 div.sk-toggleable__content {max-height: 0;max-width: 0;overflow: hidden;text-align: left;background-color: #f0f8ff;}#sk-container-id-2 div.sk-toggleable__content pre {margin: 0.2em;color: black;border-radius: 0.25em;background-color: #f0f8ff;}#sk-container-id-2 input.sk-toggleable__control:checked~div.sk-toggleable__content {max-height: 200px;max-width: 100%;overflow: auto;}#sk-container-id-2 input.sk-toggleable__control:checked~label.sk-toggleable__label-arrow:before {content: \"▾\";}#sk-container-id-2 div.sk-estimator input.sk-toggleable__control:checked~label.sk-toggleable__label {background-color: #d4ebff;}#sk-container-id-2 div.sk-label input.sk-toggleable__control:checked~label.sk-toggleable__label {background-color: #d4ebff;}#sk-container-id-2 input.sk-hidden--visually {border: 0;clip: rect(1px 1px 1px 1px);clip: rect(1px, 1px, 1px, 1px);height: 1px;margin: -1px;overflow: hidden;padding: 0;position: absolute;width: 1px;}#sk-container-id-2 div.sk-estimator {font-family: monospace;background-color: #f0f8ff;border: 1px dotted black;border-radius: 0.25em;box-sizing: border-box;margin-bottom: 0.5em;}#sk-container-id-2 div.sk-estimator:hover {background-color: #d4ebff;}#sk-container-id-2 div.sk-parallel-item::after {content: \"\";width: 100%;border-bottom: 1px solid gray;flex-grow: 1;}#sk-container-id-2 div.sk-label:hover label.sk-toggleable__label {background-color: #d4ebff;}#sk-container-id-2 div.sk-serial::before {content: \"\";position: absolute;border-left: 1px solid gray;box-sizing: border-box;top: 0;bottom: 0;left: 50%;z-index: 0;}#sk-container-id-2 div.sk-serial {display: flex;flex-direction: column;align-items: center;background-color: white;padding-right: 0.2em;padding-left: 0.2em;position: relative;}#sk-container-id-2 div.sk-item {position: relative;z-index: 1;}#sk-container-id-2 div.sk-parallel {display: flex;align-items: stretch;justify-content: center;background-color: white;position: relative;}#sk-container-id-2 div.sk-item::before, #sk-container-id-2 div.sk-parallel-item::before {content: \"\";position: absolute;border-left: 1px solid gray;box-sizing: border-box;top: 0;bottom: 0;left: 50%;z-index: -1;}#sk-container-id-2 div.sk-parallel-item {display: flex;flex-direction: column;z-index: 1;position: relative;background-color: white;}#sk-container-id-2 div.sk-parallel-item:first-child::after {align-self: flex-end;width: 50%;}#sk-container-id-2 div.sk-parallel-item:last-child::after {align-self: flex-start;width: 50%;}#sk-container-id-2 div.sk-parallel-item:only-child::after {width: 0;}#sk-container-id-2 div.sk-dashed-wrapped {border: 1px dashed gray;margin: 0 0.4em 0.5em 0.4em;box-sizing: border-box;padding-bottom: 0.4em;background-color: white;}#sk-container-id-2 div.sk-label label {font-family: monospace;font-weight: bold;display: inline-block;line-height: 1.2em;}#sk-container-id-2 div.sk-label-container {text-align: center;}#sk-container-id-2 div.sk-container {/* jupyter's `normalize.less` sets `[hidden] { display: none; }` but bootstrap.min.css set `[hidden] { display: none !important; }` so we also need the `!important` here to be able to override the default hidden behavior on the sphinx rendered scikit-learn.org. See: https://github.com/scikit-learn/scikit-learn/issues/21755 */display: inline-block !important;position: relative;}#sk-container-id-2 div.sk-text-repr-fallback {display: none;}</style><div id=\"sk-container-id-2\" class=\"sk-top-container\"><div class=\"sk-text-repr-fallback\"><pre>VotingClassifier(estimators=[(&#x27;lr&#x27;, LogisticRegression(random_state=20)),\n",
       "                             (&#x27;rf&#x27;, RandomForestClassifier(random_state=20)),\n",
       "                             (&#x27;svc&#x27;, SVC(probability=True, random_state=20))],\n",
       "                 voting=&#x27;soft&#x27;)</pre><b>In a Jupyter environment, please rerun this cell to show the HTML representation or trust the notebook. <br />On GitHub, the HTML representation is unable to render, please try loading this page with nbviewer.org.</b></div><div class=\"sk-container\" hidden><div class=\"sk-item sk-dashed-wrapped\"><div class=\"sk-label-container\"><div class=\"sk-label sk-toggleable\"><input class=\"sk-toggleable__control sk-hidden--visually\" id=\"sk-estimator-id-5\" type=\"checkbox\" ><label for=\"sk-estimator-id-5\" class=\"sk-toggleable__label sk-toggleable__label-arrow\">VotingClassifier</label><div class=\"sk-toggleable__content\"><pre>VotingClassifier(estimators=[(&#x27;lr&#x27;, LogisticRegression(random_state=20)),\n",
       "                             (&#x27;rf&#x27;, RandomForestClassifier(random_state=20)),\n",
       "                             (&#x27;svc&#x27;, SVC(probability=True, random_state=20))],\n",
       "                 voting=&#x27;soft&#x27;)</pre></div></div></div><div class=\"sk-parallel\"><div class=\"sk-parallel-item\"><div class=\"sk-item\"><div class=\"sk-label-container\"><div class=\"sk-label sk-toggleable\"><label>lr</label></div></div><div class=\"sk-serial\"><div class=\"sk-item\"><div class=\"sk-estimator sk-toggleable\"><input class=\"sk-toggleable__control sk-hidden--visually\" id=\"sk-estimator-id-6\" type=\"checkbox\" ><label for=\"sk-estimator-id-6\" class=\"sk-toggleable__label sk-toggleable__label-arrow\">LogisticRegression</label><div class=\"sk-toggleable__content\"><pre>LogisticRegression(random_state=20)</pre></div></div></div></div></div></div><div class=\"sk-parallel-item\"><div class=\"sk-item\"><div class=\"sk-label-container\"><div class=\"sk-label sk-toggleable\"><label>rf</label></div></div><div class=\"sk-serial\"><div class=\"sk-item\"><div class=\"sk-estimator sk-toggleable\"><input class=\"sk-toggleable__control sk-hidden--visually\" id=\"sk-estimator-id-7\" type=\"checkbox\" ><label for=\"sk-estimator-id-7\" class=\"sk-toggleable__label sk-toggleable__label-arrow\">RandomForestClassifier</label><div class=\"sk-toggleable__content\"><pre>RandomForestClassifier(random_state=20)</pre></div></div></div></div></div></div><div class=\"sk-parallel-item\"><div class=\"sk-item\"><div class=\"sk-label-container\"><div class=\"sk-label sk-toggleable\"><label>svc</label></div></div><div class=\"sk-serial\"><div class=\"sk-item\"><div class=\"sk-estimator sk-toggleable\"><input class=\"sk-toggleable__control sk-hidden--visually\" id=\"sk-estimator-id-8\" type=\"checkbox\" ><label for=\"sk-estimator-id-8\" class=\"sk-toggleable__label sk-toggleable__label-arrow\">SVC</label><div class=\"sk-toggleable__content\"><pre>SVC(probability=True, random_state=20)</pre></div></div></div></div></div></div></div></div></div></div>"
      ],
      "text/plain": [
       "VotingClassifier(estimators=[('lr', LogisticRegression(random_state=20)),\n",
       "                             ('rf', RandomForestClassifier(random_state=20)),\n",
       "                             ('svc', SVC(probability=True, random_state=20))],\n",
       "                 voting='soft')"
      ]
     },
     "execution_count": 31,
     "metadata": {},
     "output_type": "execute_result"
    }
   ],
   "source": [
    "## 각 분류기 정의 \n",
    "log_clf = LogisticRegression(random_state=20)\n",
    "rnd_clf = RandomForestClassifier(random_state=20)\n",
    "svm_clf = SVC(random_state=20,probability=True)\n",
    "\n",
    "# 소프트 보팅 \n",
    "voting_clf = VotingClassifier(estimators=[('lr', log_clf), ('rf', rnd_clf), \n",
    "                                          ('svc', svm_clf)], voting='soft') # 하드 보팅 \n",
    "\n",
    "voting_clf.fit(X_train, y_train)"
   ]
  },
  {
   "cell_type": "code",
   "execution_count": 32,
   "id": "80b9016f",
   "metadata": {},
   "outputs": [
    {
     "name": "stdout",
     "output_type": "stream",
     "text": [
      "LogisticRegression 0.82\n",
      "2개 값 예측\n",
      "[1 0]\n",
      "[[0.28846989 0.71153011]\n",
      " [0.74806159 0.25193841]]\n",
      " \n",
      "RandomForestClassifier 0.93\n",
      "2개 값 예측\n",
      "[1 0]\n",
      "[[0.04 0.96]\n",
      " [0.99 0.01]]\n",
      " \n",
      "SVC 0.94\n",
      "2개 값 예측\n",
      "[1 0]\n",
      "[[0.03036439 0.96963561]\n",
      " [0.92927303 0.07072697]]\n",
      " \n",
      "VotingClassifier 0.92\n",
      "2개 값 예측\n",
      "[1 0]\n",
      "[[0.11961143 0.88038857]\n",
      " [0.88911154 0.11088846]]\n",
      " \n"
     ]
    }
   ],
   "source": [
    "## 성능 및 평가\n",
    "\n",
    "for clf in (log_clf, rnd_clf, svm_clf, voting_clf) :\n",
    "    clf.fit(X_train, y_train)\n",
    "    y_pred = clf.predict(X_test)\n",
    "    print(clf.__class__.__name__, accuracy_score(y_test, y_pred))\n",
    "    \n",
    "    # 2개의 값에 대한 결과 예측 확률\n",
    "    y_pred_proba = clf.predict_proba(X_test)\n",
    "    print(\"2개 값 예측\")\n",
    "    print(y_pred[:2])\n",
    "    print(y_pred_proba[:2])\n",
    "    print(\" \")"
   ]
  },
  {
   "cell_type": "markdown",
   "id": "6ea23810",
   "metadata": {},
   "source": [
    "# 부스팅 (Boosting) 실습"
   ]
  },
  {
   "cell_type": "markdown",
   "id": "89759793",
   "metadata": {},
   "source": [
    "# Adaboosting\n",
    "# from sklearn.ensemble import AdaBoostClassifier\n",
    "- base_estimators : 학습에 사용하는 알고리즘, default : None → -  DecisionTreeClassifier(max_depth = 1) 이 적용\n",
    "- n_estimators : 생성할 약한 학습기의 개수를 지정, default : 50\n",
    "- learning_rate : 학습을 진행할 때마다 적용하는 학습률(0~1 사이의 값), default : 1"
   ]
  },
  {
   "cell_type": "code",
   "execution_count": 33,
   "id": "afe91737",
   "metadata": {},
   "outputs": [
    {
     "name": "stdout",
     "output_type": "stream",
     "text": [
      "[0 1]\n",
      "          0         1\n",
      "0  1.139922 -0.172155\n",
      "1  2.134988  0.233241\n",
      "2  1.745228  0.186196\n"
     ]
    },
    {
     "data": {
      "image/png": "[encoded data removed]",
      "text/plain": [
       "<Figure size 504x360 with 1 Axes>"
      ]
     },
     "metadata": {},
     "output_type": "display_data"
    }
   ],
   "source": [
    "from sklearn.datasets import make_moons\n",
    "\n",
    "## 데이터 셋 생성 \n",
    "X, y = make_moons(n_samples=400, noise=0.30, random_state=20)\n",
    "X_train, X_test, y_train, y_test = train_test_split(X, y, random_state=20)\n",
    "\n",
    "## 데이터 셋 확인 \n",
    "df_a = pd.DataFrame(X)\n",
    "print(y[:2])\n",
    "print(df_m.head(3))\n",
    "\n",
    "# x 데이터의 산점도 시각화\n",
    "plt.figure(figsize=(7,5))\n",
    "plt.title(\"Before\", fontsize=15)\n",
    "sns.scatterplot(x=df_a[0], y=df_a[1], palette=\"Set2\")\n",
    "plt.grid()\n",
    "plt.show()"
   ]
  },
  {
   "cell_type": "code",
   "execution_count": 34,
   "id": "5444aa9b",
   "metadata": {},
   "outputs": [
    {
     "name": "stdout",
     "output_type": "stream",
     "text": [
      "기본적인 AdaBoost 정확도: 0.85\n"
     ]
    }
   ],
   "source": [
    "## 라이브러리\n",
    "from sklearn.ensemble import AdaBoostClassifier\n",
    "from sklearn.tree import DecisionTreeClassifier\n",
    "from sklearn.metrics import accuracy_score\n",
    "\n",
    "## 기본적인 AdaBoost\n",
    "clf_a = AdaBoostClassifier(n_estimators=5, random_state=20)\n",
    "clf_a.fit(X_train, y_train) \n",
    "pred=clf_a.predict(X_test)\n",
    "print(\"기본적인 AdaBoost 정확도:\", accuracy_score(y_test, pred))"
   ]
  },
  {
   "cell_type": "code",
   "execution_count": 35,
   "id": "e9f3090b",
   "metadata": {},
   "outputs": [
    {
     "name": "stdout",
     "output_type": "stream",
     "text": [
      "Decision Tree AdaBoost 정확도: 0.86\n"
     ]
    }
   ],
   "source": [
    "## DecisionTree를 활용한 Adaboost\n",
    "\n",
    "tree_clf = DecisionTreeClassifier(max_depth=5)\n",
    "clf_a_t = AdaBoostClassifier(base_estimator = tree_clf, n_estimators=5, random_state=20)\n",
    "clf_a_t.fit(X_train, y_train) \n",
    "pred=clf_a_t.predict(X_test)\n",
    "print(\"Decision Tree AdaBoost 정확도:\", accuracy_score(y_test, pred))"
   ]
  },
  {
   "cell_type": "code",
   "execution_count": 36,
   "id": "421838f1",
   "metadata": {},
   "outputs": [
    {
     "name": "stdout",
     "output_type": "stream",
     "text": [
      "0.89\n"
     ]
    }
   ],
   "source": [
    "## DecisionTree를 활용한 Adaboost(n_estimators=100)\n",
    "\n",
    "tree_clf = DecisionTreeClassifier(max_depth=5)\n",
    "clf_a_t_100 = AdaBoostClassifier(base_estimator = tree_clf, n_estimators=100, random_state=20)\n",
    "clf_a_t_100.fit(X_train, y_train) \n",
    "pred=clf_a_t_100.predict(X_test)\n",
    "\n",
    "print(accuracy_score(y_test, pred))"
   ]
  },
  {
   "cell_type": "code",
   "execution_count": 37,
   "id": "dda3a165",
   "metadata": {},
   "outputs": [
    {
     "data": {
      "image/png": "[encoded data removed]",
      "text/plain": [
       "<Figure size 1440x720 with 2 Axes>"
      ]
     },
     "metadata": {},
     "output_type": "display_data"
    },
    {
     "data": {
      "image/png": "[encoded data removed]",
      "text/plain": [
       "<Figure size 2160x720 with 1 Axes>"
      ]
     },
     "metadata": {},
     "output_type": "display_data"
    }
   ],
   "source": [
    "## 시각화 \n",
    "\n",
    "# Adaboosting \n",
    "plt.figure(figsize=(20,10))\n",
    "plt.subplot(121)\n",
    "# plot_decision_boundary 정의 함수 이용\n",
    "plot_decision_boundary(clf_a, X_train, y_train) \n",
    "plt.title(\"Adaboosting\", fontsize=12)\n",
    "\n",
    "# Decision Trees with Adaboosting(n_estimators=5)\n",
    "plt.subplot(122)\n",
    "# plot_decision_boundary 정의 함수 이용\n",
    "plot_decision_boundary(clf_a_t, X_train, y_train) \n",
    "plt.title(\"Decision Trees with Adaboosting(n_estimators=5)\", fontsize=12)\n",
    "plt.show()\n",
    "\n",
    "# Decision Trees with Adaboosting(n_estimators=100)\n",
    "plt.figure(figsize=(30,10))\n",
    "plt.subplot(132)\n",
    "# plot_decision_boundary 정의 함수 이용\n",
    "plot_decision_boundary(clf_a_t_100, X_train, y_train) \n",
    "plt.title(\"Decision Trees with Adaboosting(n_estimators=100)\", fontsize=12)\n",
    "plt.show()"
   ]
  },
  {
   "cell_type": "markdown",
   "id": "a45978af",
   "metadata": {},
   "source": [
    "# from xgboost import XGBClassifier\n",
    "#### General Parameters (XGBoost 의 어떤 모델)\n",
    "- booster : default = 'gbtree'(gbtree : 트리 기반 모델, gblinear : 선형 모델)\n",
    "- silent : default = 0(0 : 동작 메세지 프린트 함, 1 : 동작 메세지 프린트 안함)\n",
    "- nthread : default = 전체 다 사용\n",
    "\n",
    "#### Booster Parameters (모델의 조건 설정)\n",
    "- n_estimators : 분류기 나무의 개수, default = 100\n",
    "- early_stopping_rounds\n",
    "- learning_rate : 학습 단계별로 가중치, default = 0.1\n",
    "- max_depth : 트리의 깊이, default = 6 \n",
    "- reg_alpha :L1 regularization\n",
    "- reg_lambda : L2 regularization\n",
    "\n",
    "#### Learning Task Parameters (모델의 목표 및 계산 방법 설정)\n",
    "- objective : 목적 함수, default = reg:linear\n",
    " - binary:logistic(확률 반환), multi:softmax(클래스 반환), multi:softprob(확률 반환) \n",
    "- eval_metric : 평가 지표(회귀-rmse,... / 분류-error, ...)\n",
    "- seed :고정값 default = 0"
   ]
  },
  {
   "cell_type": "code",
   "execution_count": 38,
   "id": "2c5933fb",
   "metadata": {},
   "outputs": [
    {
     "name": "stderr",
     "output_type": "stream",
     "text": [
      "ERROR: Could not find a version that satisfies the requirement gboost (from versions: none)\n",
      "ERROR: No matching distribution found for gboost\n"
     ]
    }
   ],
   "source": [
    "! pip install gboost"
   ]
  },
  {
   "cell_type": "code",
   "execution_count": 41,
   "id": "1dd53d85",
   "metadata": {},
   "outputs": [
    {
     "data": {
      "image/png": "[encoded data removed]",
      "text/plain": [
       "<Figure size 504x360 with 1 Axes>"
      ]
     },
     "metadata": {},
     "output_type": "display_data"
    }
   ],
   "source": [
    "# 데이터셋 생성\n",
    "X,y = make_moons(n_samples = 1000, noise = 0.30, random_state = 20)\n",
    "\n",
    "# x 데이터의 산점도 시각화\n",
    "plt.figure(figsize = (7,5))\n",
    "plt.title(\"Before\", fontsize = 15)\n",
    "sns.scatterplot(x=df_a[0], y=df_a[1], palette = \"Set2\")\n",
    "plt.grid()\n",
    "plt.show()"
   ]
  },
  {
   "cell_type": "code",
   "execution_count": 42,
   "id": "fdcb5b4d",
   "metadata": {},
   "outputs": [
    {
     "name": "stdout",
     "output_type": "stream",
     "text": [
      "(640, 2) (640,) (160, 2) (160,) (200, 2) (200,)\n"
     ]
    }
   ],
   "source": [
    "# Train, test set 생성\n",
    "X_train, X_test, y_train, y_test = train_test_split(X, y, test_size = 0.2, random_state = 20)\n",
    "\n",
    "# Train, Validaton set 생성\n",
    "X_train, X_val, y_train, y_val = train_test_split(X_train,\n",
    "                                                 y_train,\n",
    "                                                 test_size = 0.2,\n",
    "                                                 random_state = 20)\n",
    "\n",
    "# 결과 확인\n",
    "print(X_train.shape, y_train.shape, X_val.shape, y_val.shape, X_test.shape, y_test.shape)"
   ]
  },
  {
   "cell_type": "code",
   "execution_count": 44,
   "id": "7123e0a7",
   "metadata": {},
   "outputs": [
    {
     "name": "stdout",
     "output_type": "stream",
     "text": [
      "0.885\n",
      "[0.4482242  0.55177575]\n"
     ]
    }
   ],
   "source": [
    "## XGBoosting\n",
    "from xgboost import XGBClassifier\n",
    "import warnings\n",
    "warnings.filterwarnings('ignore')\n",
    "\n",
    "## 단순한 XGBoost \n",
    "# 객체 생성\n",
    "xgb_clf = XGBClassifier(objective = 'binary:logistic', eval_metric = 'auc')\n",
    "xgb_model = xgb_clf.fit(X_train, y_train)\n",
    "\n",
    "# 예측하기\n",
    "y_pred = xgb_model.predict(X_test)\n",
    "y_pred_probs = xgb_model.predict_proba(X_test)\n",
    "\n",
    "# 결과 확인\n",
    "print(accuracy_score(y_test, y_pred))\n",
    "\n",
    "## 특성 중요도 확인\n",
    "ftr_importances_values = xgb_model.feature_importances_\n",
    "print(ftr_importances_values)"
   ]
  },
  {
   "cell_type": "markdown",
   "id": "5acb914b",
   "metadata": {},
   "source": [
    "#AUC는 ROC curve의 곡선 아래 영역을 나타내며 classification 성능평가지표로 많이 사용된다.\n",
    "\n",
    "1에 가까울수록 성능이 우수하다고 판단하며\n",
    "\n",
    "0.5인 경우에 최악의 성능이다. (이는 model이 classification 능력이 없음을 의미한다.)\n",
    "\n",
    "만약 AUC값이 0.5 미만이라면 Labeling 혹은 Algorithm이 잘못됐을 가능성이 크다."
   ]
  },
  {
   "cell_type": "code",
   "execution_count": null,
   "id": "2cc61e54",
   "metadata": {},
   "outputs": [],
   "source": [
    "## 시각화 \n",
    "from matplotlib.colors import ListedColormap\n",
    "\n",
    "# 시각화 함수 \n",
    "def plot_decision_boundary(clf, X, y, axes=[-1.5, 2.5, -1, 1.5], alpha=0.5, contour=True):\n",
    "    x1s = np.linspace(axes[0], axes[1], 100)\n",
    "    x2s = np.linspace(axes[2], axes[3], 100)\n",
    "    x1, x2 = np.meshgrid(x1s, x2s)\n",
    "    X_new = np.c_[x1.ravel(), x2.ravel()]\n",
    "    y_pred = clf.predict(X_new).reshape(x1.shape)\n",
    "    custom_cmap = ListedColormap(['#fafab0','#9898ff','#a0faa0'])\n",
    "    plt.contourf(x1, x2, y_pred, alpha=0.3, cmap=custom_cmap)\n",
    "    if contour:\n",
    "        custom_cmap2 = ListedColormap(['#7d7d58','#4c4c7f','#507d50'])\n",
    "        plt.contour(x1, x2, y_pred, cmap=custom_cmap2, alpha=0.8)\n",
    "    plt.plot(X[:, 0][y==0], X[:, 1][y==0], \"yo\", alpha=alpha)\n",
    "    plt.plot(X[:, 0][y==1], X[:, 1][y==1], \"bs\", alpha=alpha)\n",
    "    plt.axis(axes)\n",
    "    plt.xlabel(r\"$x_1$\", fontsize=18)\n",
    "    plt.ylabel(r\"$x_2$\", fontsize=18, rotation=0)"
   ]
  },
  {
   "cell_type": "code",
   "execution_count": 45,
   "id": "d64bc6ea",
   "metadata": {},
   "outputs": [
    {
     "data": {
      "image/png": "[encoded data removed]",
      "text/plain": [
       "<Figure size 432x288 with 1 Axes>"
      ]
     },
     "metadata": {},
     "output_type": "display_data"
    }
   ],
   "source": [
    "## 시각화\n",
    "plot_decision_boundary(xgb_clf, X_train, y_train)"
   ]
  },
  {
   "cell_type": "code",
   "execution_count": 48,
   "id": "77380ae2",
   "metadata": {},
   "outputs": [
    {
     "name": "stdout",
     "output_type": "stream",
     "text": [
      "[0]\tvalidation_0-auc:0.94729\n",
      "[1]\tvalidation_0-auc:0.94776\n",
      "[2]\tvalidation_0-auc:0.94902\n",
      "[3]\tvalidation_0-auc:0.94902\n",
      "[4]\tvalidation_0-auc:0.94902\n",
      "[5]\tvalidation_0-auc:0.94745\n",
      "[6]\tvalidation_0-auc:0.94698\n",
      "[7]\tvalidation_0-auc:0.95114\n",
      "[8]\tvalidation_0-auc:0.95067\n",
      "[9]\tvalidation_0-auc:0.95035\n",
      "[10]\tvalidation_0-auc:0.95035\n",
      "[11]\tvalidation_0-auc:0.94941\n",
      "[12]\tvalidation_0-auc:0.95012\n",
      "[13]\tvalidation_0-auc:0.94973\n",
      "[14]\tvalidation_0-auc:0.94973\n",
      "[15]\tvalidation_0-auc:0.94878\n",
      "[16]\tvalidation_0-auc:0.94925\n",
      "[17]\tvalidation_0-auc:0.94973\n",
      "[18]\tvalidation_0-auc:0.94925\n",
      "[19]\tvalidation_0-auc:0.95020\n",
      "[20]\tvalidation_0-auc:0.94957\n",
      "[21]\tvalidation_0-auc:0.95059\n",
      "[22]\tvalidation_0-auc:0.95059\n",
      "[23]\tvalidation_0-auc:0.95059\n",
      "[24]\tvalidation_0-auc:0.95027\n",
      "[25]\tvalidation_0-auc:0.95035\n",
      "[26]\tvalidation_0-auc:0.95129\n",
      "[27]\tvalidation_0-auc:0.95098\n",
      "[28]\tvalidation_0-auc:0.95098\n",
      "[29]\tvalidation_0-auc:0.95098\n",
      "[30]\tvalidation_0-auc:0.95004\n",
      "[31]\tvalidation_0-auc:0.95286\n",
      "[32]\tvalidation_0-auc:0.95482\n",
      "[33]\tvalidation_0-auc:0.95467\n",
      "[34]\tvalidation_0-auc:0.95498\n",
      "[35]\tvalidation_0-auc:0.95435\n",
      "[36]\tvalidation_0-auc:0.95498\n",
      "[37]\tvalidation_0-auc:0.95545\n",
      "[38]\tvalidation_0-auc:0.95514\n",
      "[39]\tvalidation_0-auc:0.95529\n",
      "[40]\tvalidation_0-auc:0.95545\n",
      "[41]\tvalidation_0-auc:0.95514\n",
      "[42]\tvalidation_0-auc:0.95514\n",
      "[43]\tvalidation_0-auc:0.95467\n",
      "[44]\tvalidation_0-auc:0.95435\n",
      "[45]\tvalidation_0-auc:0.95467\n",
      "[46]\tvalidation_0-auc:0.95435\n",
      "[47]\tvalidation_0-auc:0.95420\n",
      "[48]\tvalidation_0-auc:0.95420\n",
      "[49]\tvalidation_0-auc:0.95420\n",
      "[50]\tvalidation_0-auc:0.95482\n",
      "[51]\tvalidation_0-auc:0.95482\n",
      "[52]\tvalidation_0-auc:0.95498\n",
      "[53]\tvalidation_0-auc:0.95467\n",
      "[54]\tvalidation_0-auc:0.95490\n",
      "[55]\tvalidation_0-auc:0.95459\n",
      "[56]\tvalidation_0-auc:0.95451\n",
      "[57]\tvalidation_0-auc:0.95435\n",
      "[58]\tvalidation_0-auc:0.95435\n",
      "[59]\tvalidation_0-auc:0.95482\n",
      "[60]\tvalidation_0-auc:0.95475\n",
      "[61]\tvalidation_0-auc:0.95584\n",
      "[62]\tvalidation_0-auc:0.95522\n",
      "[63]\tvalidation_0-auc:0.95443\n",
      "[64]\tvalidation_0-auc:0.95443\n",
      "[65]\tvalidation_0-auc:0.95271\n",
      "[66]\tvalidation_0-auc:0.95459\n",
      "[67]\tvalidation_0-auc:0.95271\n",
      "[68]\tvalidation_0-auc:0.95537\n",
      "[69]\tvalidation_0-auc:0.95537\n",
      "[70]\tvalidation_0-auc:0.95569\n",
      "[71]\tvalidation_0-auc:0.95537\n",
      "[72]\tvalidation_0-auc:0.95584\n",
      "[73]\tvalidation_0-auc:0.95616\n",
      "[74]\tvalidation_0-auc:0.95616\n",
      "[75]\tvalidation_0-auc:0.95584\n",
      "[76]\tvalidation_0-auc:0.95553\n",
      "[77]\tvalidation_0-auc:0.95718\n",
      "[78]\tvalidation_0-auc:0.95702\n",
      "[79]\tvalidation_0-auc:0.95718\n",
      "[80]\tvalidation_0-auc:0.95671\n",
      "[81]\tvalidation_0-auc:0.95655\n",
      "[82]\tvalidation_0-auc:0.95639\n",
      "[83]\tvalidation_0-auc:0.95694\n",
      "[84]\tvalidation_0-auc:0.95710\n",
      "[85]\tvalidation_0-auc:0.95710\n",
      "[86]\tvalidation_0-auc:0.95710\n",
      "[87]\tvalidation_0-auc:0.95725\n",
      "[88]\tvalidation_0-auc:0.95678\n",
      "[89]\tvalidation_0-auc:0.95678\n",
      "[90]\tvalidation_0-auc:0.95678\n",
      "[91]\tvalidation_0-auc:0.95678\n",
      "[92]\tvalidation_0-auc:0.95631\n",
      "[93]\tvalidation_0-auc:0.95631\n",
      "[94]\tvalidation_0-auc:0.95584\n",
      "[95]\tvalidation_0-auc:0.95600\n",
      "[96]\tvalidation_0-auc:0.95553\n",
      "[97]\tvalidation_0-auc:0.95537\n",
      "[98]\tvalidation_0-auc:0.95537\n",
      "[99]\tvalidation_0-auc:0.95584\n"
     ]
    }
   ],
   "source": [
    "### 파라미터를 입력한 XGboost\n",
    "# 분류기 100개, 학습 조정룰 : 0.03, L1 regularization: 0.03\n",
    "xgb_clf_a = XGBClassifier(n_estimators = 100,\n",
    "                         learning_rate = 0.03,\n",
    "                         max_depth = 5,\n",
    "                         reg_alpha = 0.03,\n",
    "                         verbosity = 0,\n",
    "                         objective = 'binary:logistic',\n",
    "                         eval_metric = 'auc',\n",
    "                         silent = True,\n",
    "                         )\n",
    "\n",
    "# 50라운드에서 조기  종료 확인\n",
    "xgb_model_a = xgb_clf_a.fit(X_train, y_train, early_stopping_rounds = 50,\n",
    "                           eval_set = [(X_val, y_val)])"
   ]
  },
  {
   "cell_type": "code",
   "execution_count": 49,
   "id": "44e3abd4",
   "metadata": {},
   "outputs": [
    {
     "data": {
      "text/plain": [
       "array([1, 1, 1, 1, 0])"
      ]
     },
     "execution_count": 49,
     "metadata": {},
     "output_type": "execute_result"
    }
   ],
   "source": [
    "### 결과 예측\n",
    "xgb_model_a.predict(X_test[:5])"
   ]
  },
  {
   "cell_type": "code",
   "execution_count": 50,
   "id": "e79d304d",
   "metadata": {},
   "outputs": [
    {
     "name": "stdout",
     "output_type": "stream",
     "text": [
      "0.92\n",
      "[0.4033108 0.5966893]\n"
     ]
    }
   ],
   "source": [
    "# 결과 확인\n",
    "y_pred_b = xgb_model_a.predict(X_test)\n",
    "print(accuracy_score(y_test, y_pred_b))\n",
    "\n",
    "## 특성 중요도 확인\n",
    "ftr_importances_values = xgb_model_a.feature_importances_\n",
    "print(ftr_importances_values)"
   ]
  },
  {
   "cell_type": "code",
   "execution_count": 51,
   "id": "4beac91b",
   "metadata": {},
   "outputs": [
    {
     "data": {
      "image/png": "[encoded data removed]",
      "text/plain": [
       "<Figure size 432x288 with 1 Axes>"
      ]
     },
     "metadata": {},
     "output_type": "display_data"
    }
   ],
   "source": [
    "## 시각화\n",
    "plot_decision_boundary(xgb_model_a, X_train, y_train)"
   ]
  },
  {
   "cell_type": "markdown",
   "id": "9f1db391",
   "metadata": {},
   "source": [
    "# Random Forest \n",
    "##  Random Forest Regressor\n",
    "### from sklearn.ensemble import RandomForestRegressor\n",
    "- criterion{“squared_error”, “absolute_error”, “poisson”}, default=”squared_error”\n",
    "- n_estimators : 결정트리의 갯수를 지정, Default = 10\n",
    "- min_samples_split\t: 노드를 분할하기 위한 최소한의 샘플 데이터수, Default = 2\n",
    "- min_samples_leaf : 리프노드가 되기 위해 필요한 최소한의 샘플 데이터수\n",
    "- max_features : 최적의 분할을 위해 고려할 최대 feature 개수, Default = 'auto' \n",
    "- max_depth\t: 트리의 최대 깊이, default = None\n",
    "- max_leaf_nodes : 리프노드의 최대 개수\n",
    "- bootstrap : 부트스트랩(중복허용 샘플링) 사용 여부\n",
    "- verbose : 실행 과정 출력 여부(1: 출력)\n",
    "- random_state : 난수 seed 설정"
   ]
  },
  {
   "cell_type": "code",
   "execution_count": 52,
   "id": "685dc052",
   "metadata": {},
   "outputs": [
    {
     "name": "stdout",
     "output_type": "stream",
     "text": [
      "(506, 14)\n"
     ]
    },
    {
     "data": {
      "text/html": [
       "<div>\n",
       "<style scoped>\n",
       "    .dataframe tbody tr th:only-of-type {\n",
       "        vertical-align: middle;\n",
       "    }\n",
       "\n",
       "    .dataframe tbody tr th {\n",
       "        vertical-align: top;\n",
       "    }\n",
       "\n",
       "    .dataframe thead th {\n",
       "        text-align: right;\n",
       "    }\n",
       "</style>\n",
       "<table border=\"1\" class=\"dataframe\">\n",
       "  <thead>\n",
       "    <tr style=\"text-align: right;\">\n",
       "      <th></th>\n",
       "      <th>CRIM</th>\n",
       "      <th>ZN</th>\n",
       "      <th>INDUS</th>\n",
       "      <th>CHAS</th>\n",
       "      <th>NOX</th>\n",
       "      <th>RM</th>\n",
       "      <th>AGE</th>\n",
       "      <th>DIS</th>\n",
       "      <th>RAD</th>\n",
       "      <th>TAX</th>\n",
       "      <th>PTRATIO</th>\n",
       "      <th>B</th>\n",
       "      <th>LSTAT</th>\n",
       "      <th>MEDV</th>\n",
       "    </tr>\n",
       "  </thead>\n",
       "  <tbody>\n",
       "    <tr>\n",
       "      <th>0</th>\n",
       "      <td>0.00632</td>\n",
       "      <td>18.0</td>\n",
       "      <td>2.31</td>\n",
       "      <td>0.0</td>\n",
       "      <td>0.538</td>\n",
       "      <td>6.575</td>\n",
       "      <td>65.2</td>\n",
       "      <td>4.0900</td>\n",
       "      <td>1.0</td>\n",
       "      <td>296.0</td>\n",
       "      <td>15.3</td>\n",
       "      <td>396.90</td>\n",
       "      <td>4.98</td>\n",
       "      <td>24.0</td>\n",
       "    </tr>\n",
       "    <tr>\n",
       "      <th>1</th>\n",
       "      <td>0.02731</td>\n",
       "      <td>0.0</td>\n",
       "      <td>7.07</td>\n",
       "      <td>0.0</td>\n",
       "      <td>0.469</td>\n",
       "      <td>6.421</td>\n",
       "      <td>78.9</td>\n",
       "      <td>4.9671</td>\n",
       "      <td>2.0</td>\n",
       "      <td>242.0</td>\n",
       "      <td>17.8</td>\n",
       "      <td>396.90</td>\n",
       "      <td>9.14</td>\n",
       "      <td>21.6</td>\n",
       "    </tr>\n",
       "    <tr>\n",
       "      <th>2</th>\n",
       "      <td>0.02729</td>\n",
       "      <td>0.0</td>\n",
       "      <td>7.07</td>\n",
       "      <td>0.0</td>\n",
       "      <td>0.469</td>\n",
       "      <td>7.185</td>\n",
       "      <td>61.1</td>\n",
       "      <td>4.9671</td>\n",
       "      <td>2.0</td>\n",
       "      <td>242.0</td>\n",
       "      <td>17.8</td>\n",
       "      <td>392.83</td>\n",
       "      <td>4.03</td>\n",
       "      <td>34.7</td>\n",
       "    </tr>\n",
       "    <tr>\n",
       "      <th>3</th>\n",
       "      <td>0.03237</td>\n",
       "      <td>0.0</td>\n",
       "      <td>2.18</td>\n",
       "      <td>0.0</td>\n",
       "      <td>0.458</td>\n",
       "      <td>6.998</td>\n",
       "      <td>45.8</td>\n",
       "      <td>6.0622</td>\n",
       "      <td>3.0</td>\n",
       "      <td>222.0</td>\n",
       "      <td>18.7</td>\n",
       "      <td>394.63</td>\n",
       "      <td>2.94</td>\n",
       "      <td>33.4</td>\n",
       "    </tr>\n",
       "    <tr>\n",
       "      <th>4</th>\n",
       "      <td>0.06905</td>\n",
       "      <td>0.0</td>\n",
       "      <td>2.18</td>\n",
       "      <td>0.0</td>\n",
       "      <td>0.458</td>\n",
       "      <td>7.147</td>\n",
       "      <td>54.2</td>\n",
       "      <td>6.0622</td>\n",
       "      <td>3.0</td>\n",
       "      <td>222.0</td>\n",
       "      <td>18.7</td>\n",
       "      <td>396.90</td>\n",
       "      <td>5.33</td>\n",
       "      <td>36.2</td>\n",
       "    </tr>\n",
       "  </tbody>\n",
       "</table>\n",
       "</div>"
      ],
      "text/plain": [
       "      CRIM    ZN  INDUS  CHAS    NOX     RM   AGE     DIS  RAD    TAX  \\\n",
       "0  0.00632  18.0   2.31   0.0  0.538  6.575  65.2  4.0900  1.0  296.0   \n",
       "1  0.02731   0.0   7.07   0.0  0.469  6.421  78.9  4.9671  2.0  242.0   \n",
       "2  0.02729   0.0   7.07   0.0  0.469  7.185  61.1  4.9671  2.0  242.0   \n",
       "3  0.03237   0.0   2.18   0.0  0.458  6.998  45.8  6.0622  3.0  222.0   \n",
       "4  0.06905   0.0   2.18   0.0  0.458  7.147  54.2  6.0622  3.0  222.0   \n",
       "\n",
       "   PTRATIO       B  LSTAT  MEDV  \n",
       "0     15.3  396.90   4.98  24.0  \n",
       "1     17.8  396.90   9.14  21.6  \n",
       "2     17.8  392.83   4.03  34.7  \n",
       "3     18.7  394.63   2.94  33.4  \n",
       "4     18.7  396.90   5.33  36.2  "
      ]
     },
     "execution_count": 52,
     "metadata": {},
     "output_type": "execute_result"
    }
   ],
   "source": [
    "## Boston Housing Price (보스턴 주택 가격 데이터)\n",
    "from sklearn.datasets import load_boston\n",
    "\n",
    "data_b = load_boston()\n",
    "df_b = pd.DataFrame(data_b.data, columns=data_b.feature_names)\n",
    "\n",
    "df_b['MEDV'] = data_b.target\n",
    "print(df_b.shape)\n",
    "df_b.head()"
   ]
  },
  {
   "cell_type": "code",
   "execution_count": 53,
   "id": "0db82526",
   "metadata": {},
   "outputs": [],
   "source": [
    "## 각 변수 p-value < 0.05 미만 제거 \n",
    "## 변수 선택 \n",
    "feature_columns = list(df_b.columns.difference(['INDUS', 'AGE','CRIM', 'MEDV']))\n",
    "\n",
    "# 변수 확정 \n",
    "X = df_b[feature_columns] # 설명변수 \n",
    "\n",
    "## 스케일링 & 정규화\n",
    "scaler = StandardScaler()\n",
    "scaler.fit(X)\n",
    "X_std = scaler.transform(X)\n",
    "\n",
    "## 데이터 생성 \n",
    "X_train_b, X_test_b, y_train_b, y_test_b = train_test_split(X_std,\n",
    "                                                            data_b.target, \n",
    "                                                            test_size=0.2, \n",
    "                                                            random_state=20)"
   ]
  },
  {
   "cell_type": "code",
   "execution_count": 54,
   "id": "06148ad1",
   "metadata": {},
   "outputs": [
    {
     "data": {
      "text/plain": [
       "['B', 'CHAS', 'DIS', 'LSTAT', 'NOX', 'PTRATIO', 'RAD', 'RM', 'TAX', 'ZN']"
      ]
     },
     "execution_count": 54,
     "metadata": {},
     "output_type": "execute_result"
    }
   ],
   "source": [
    "feature_columns"
   ]
  },
  {
   "cell_type": "code",
   "execution_count": 55,
   "id": "ae3a3660",
   "metadata": {},
   "outputs": [
    {
     "data": {
      "text/plain": [
       "array([ 0.44105193, -0.27259857,  1.02463789,  0.91070021, -0.26515405,\n",
       "       -1.50523663, -0.52300145, -0.16046556, -0.57751897,  0.04877224])"
      ]
     },
     "execution_count": 55,
     "metadata": {},
     "output_type": "execute_result"
    }
   ],
   "source": [
    "X_train_b[0]"
   ]
  },
  {
   "cell_type": "code",
   "execution_count": 56,
   "id": "06d91d3f",
   "metadata": {},
   "outputs": [
    {
     "data": {
      "text/plain": [
       "27.1"
      ]
     },
     "execution_count": 56,
     "metadata": {},
     "output_type": "execute_result"
    }
   ],
   "source": [
    "y_train_b[0]"
   ]
  },
  {
   "cell_type": "code",
   "execution_count": 57,
   "id": "3e913e1b",
   "metadata": {},
   "outputs": [
    {
     "name": "stdout",
     "output_type": "stream",
     "text": [
      "R2 Score: 0.7688954604830928\n",
      "train RMSE: 4.540534729949297\n",
      "test RMSE':4.757221213720514\n"
     ]
    }
   ],
   "source": [
    "## 랜덤포레스트 특정 모델 학습\n",
    "from sklearn.ensemble import RandomForestRegressor\n",
    "from sklearn.metrics import mean_squared_error\n",
    "from math import sqrt\n",
    "\n",
    "rf_refressor = RandomForestRegressor(random_state=5,\n",
    "                                     max_depth=2,\n",
    "                                     min_samples_split=8,\n",
    "                                     n_estimators=10)\n",
    "\n",
    "rf_refressor.fit(X_train_b, y_train_b)\n",
    "\n",
    "## 성능 평가 \n",
    "# R2 Score\n",
    "print(\"R2 Score:\", rf_refressor.score(X_train_b, y_train_b, sample_weight=None))\n",
    "\n",
    "# train rmse\n",
    "train_predict = rf_refressor.predict(X_train_b)\n",
    "print(\"train RMSE: {}\".format(sqrt(mean_squared_error(train_predict, y_train_b)))) # RMSE 결과\n",
    " \n",
    "# test rmse\n",
    "test_predict = rf_refressor.predict(X_test_b)\n",
    "print(\"test RMSE':{}\".format(sqrt(mean_squared_error(test_predict, y_test_b))) )"
   ]
  },
  {
   "cell_type": "markdown",
   "id": "50b45a95",
   "metadata": {},
   "source": [
    "r2 가 0.75 이상이니 유의미하다."
   ]
  },
  {
   "cell_type": "code",
   "execution_count": 58,
   "id": "c53f2373",
   "metadata": {},
   "outputs": [
    {
     "name": "stdout",
     "output_type": "stream",
     "text": [
      "R2 Score: 0.9636313437478798\n",
      "train RMSE: 1.8012184684663792\n",
      "test RMSE':3.90830314943012\n"
     ]
    }
   ],
   "source": [
    "## 랜덤포레스트 하이퍼 파리미터 조정 \n",
    "rf_refressor_1 = RandomForestRegressor(random_state=5,\n",
    "                                       max_depth=7, \n",
    "                                       min_samples_split=8,\n",
    "                                       n_estimators=100)\n",
    "\n",
    "rf_refressor_1.fit(X_train_b, y_train_b)\n",
    "\n",
    "\n",
    "## 성능 평가 \n",
    "# R2 Score\n",
    "print(\"R2 Score:\", rf_refressor_1.score(X_train_b, y_train_b, sample_weight=None))\n",
    "\n",
    "# train rmse\n",
    "train_predict = rf_refressor_1.predict(X_train_b)\n",
    "print(\"train RMSE: {}\".format(sqrt(mean_squared_error(train_predict, y_train_b)))) \n",
    " \n",
    "# test rmse\n",
    "test_predict = rf_refressor_1.predict(X_test_b)\n",
    "print(\"test RMSE':{}\".format(sqrt(mean_squared_error(test_predict, y_test_b))) )"
   ]
  },
  {
   "cell_type": "code",
   "execution_count": 59,
   "id": "dda69e1e",
   "metadata": {},
   "outputs": [
    {
     "data": {
      "image/png": "[encoded data removed]",
      "text/plain": [
       "<Figure size 576x432 with 1 Axes>"
      ]
     },
     "metadata": {},
     "output_type": "display_data"
    }
   ],
   "source": [
    "## 변수 중요도 시각화 \n",
    "\n",
    "ftr_importances_values = rf_refressor_1.feature_importances_\n",
    "\n",
    "ftr_importances = pd.Series(ftr_importances_values, index=feature_columns)\n",
    "\n",
    "ftr_top = ftr_importances.sort_values(ascending=False)\n",
    " \n",
    "plt.figure(figsize=(8, 6))\n",
    "sns.barplot(x=ftr_top, y=ftr_top.index)\n",
    "plt.show()"
   ]
  },
  {
   "cell_type": "markdown",
   "id": "8edf4542",
   "metadata": {},
   "source": [
    "# 랜덤포레스트 Classifier"
   ]
  },
  {
   "cell_type": "markdown",
   "id": "0a177d71",
   "metadata": {},
   "source": [
    "#  Random Forest Classifier\n",
    "### from sklearn.ensemble import RandomForestClassifier\n",
    "- criterion : 분할 품질을 측정,“gini”, “entropy”, “log_loss\", (default : gini)”\n",
    "- n_estimators : 결정트리의 갯수를 지정, Default = 10\n",
    "- min_samples_split\t: 노드를 분할하기 위한 최소한의 샘플 데이터수, Default = 2\n",
    "- min_samples_leaf : 리프노드가 되기 위해 필요한 최소한의 샘플 데이터수\n",
    "- max_features : 최적의 분할을 위해 고려할 최대 feature 개수, Default = 'auto' \n",
    "- max_depth\t: 트리의 최대 깊이, default = None\n",
    "- max_leaf_nodes : 리프노드의 최대 개수\n",
    "- bootstrap : 부트스트랩(중복허용 샘플링) 사용 여부\n",
    "- verbose : 실행 과정 출력 여부(1: 출력)\n",
    "- random_state : 난수 seed 설정\n",
    "- oob_score : 일반화 정확도를 줄이기 위해 밖의 샘플 사용 여부"
   ]
  },
  {
   "cell_type": "markdown",
   "id": "7d0ebfaa",
   "metadata": {},
   "source": [
    "### 위스콘신 유방암(breast cancer) 데이터 셋 \n",
    "- 유방암 진단 사진으로부터 측정한 종양(tumar)의 특징값을 사용하여 종양이 양성(benign)인지 악성(malignant)인지를 판별\n",
    "- 30개의 속성과 malignant(악성:0), benign(양성1)의 두가지 타겟 데이터로 구성 : 총 31개 \n",
    "- radius(반경)\n",
    "- texture(질감)\n",
    "- perimeter(둘레)\n",
    "- area(면적)\n",
    "- smoothness(매끄러움)\n",
    "- compactness(작은 적도)\n",
    "- concavity(오목함)\n",
    "- concave_points(오목한 점의 수)\n",
    "- symmetry(대칭)\n",
    "- fractal_dimension(프랙탈 차원)\n",
    "- 위 10개 세포의 특성 항목에 대해 각각평균(mean), 표준오차(error), 큰 값 3개의 평균(worst) 값을 속성으로 구성 "
   ]
  },
  {
   "cell_type": "code",
   "execution_count": 61,
   "id": "61763e1f",
   "metadata": {},
   "outputs": [],
   "source": [
    "from sklearn.datasets import load_breast_cancer\n",
    "\n",
    "# 데이터 불러오기\n",
    "data = load_breast_cancer()\n",
    "\n",
    "# 독립변수 (input data)\n",
    "b_input_data = data.data\n",
    "\n",
    "# 종양: target data \n",
    "# 악성(malignant:0), 양성(benign:1), \n",
    "b_target_data = data.target\n",
    "\n",
    "# 종양 구분 \n",
    "tumar = data.target_names\n",
    "\n",
    "# 속성 명칭 \n",
    "feature_names = data.feature_names\n",
    "\n",
    "# print('종양 여부 결정 속성 : {}'.format(feature_names))\n",
    "# print('종양 구분 : {}'.format(tumar))\n",
    "\n",
    "breast_df = pd.DataFrame(b_input_data, columns=feature_names)\n",
    "breast_df['target'] = b_target_data\n",
    "\n",
    "# 속성명 공백에 \"_\"달기 \n",
    "breast_df.columns = [col.replace(\" \", \"_\") for col in breast_df.columns]"
   ]
  },
  {
   "cell_type": "code",
   "execution_count": 62,
   "id": "79219904",
   "metadata": {},
   "outputs": [
    {
     "data": {
      "text/html": [
       "<div>\n",
       "<style scoped>\n",
       "    .dataframe tbody tr th:only-of-type {\n",
       "        vertical-align: middle;\n",
       "    }\n",
       "\n",
       "    .dataframe tbody tr th {\n",
       "        vertical-align: top;\n",
       "    }\n",
       "\n",
       "    .dataframe thead th {\n",
       "        text-align: right;\n",
       "    }\n",
       "</style>\n",
       "<table border=\"1\" class=\"dataframe\">\n",
       "  <thead>\n",
       "    <tr style=\"text-align: right;\">\n",
       "      <th></th>\n",
       "      <th>mean_radius</th>\n",
       "      <th>mean_texture</th>\n",
       "      <th>mean_perimeter</th>\n",
       "      <th>mean_area</th>\n",
       "      <th>mean_smoothness</th>\n",
       "      <th>mean_compactness</th>\n",
       "      <th>mean_concavity</th>\n",
       "      <th>mean_concave_points</th>\n",
       "      <th>mean_symmetry</th>\n",
       "      <th>mean_fractal_dimension</th>\n",
       "      <th>...</th>\n",
       "      <th>worst_texture</th>\n",
       "      <th>worst_perimeter</th>\n",
       "      <th>worst_area</th>\n",
       "      <th>worst_smoothness</th>\n",
       "      <th>worst_compactness</th>\n",
       "      <th>worst_concavity</th>\n",
       "      <th>worst_concave_points</th>\n",
       "      <th>worst_symmetry</th>\n",
       "      <th>worst_fractal_dimension</th>\n",
       "      <th>target</th>\n",
       "    </tr>\n",
       "  </thead>\n",
       "  <tbody>\n",
       "    <tr>\n",
       "      <th>0</th>\n",
       "      <td>17.99</td>\n",
       "      <td>10.38</td>\n",
       "      <td>122.80</td>\n",
       "      <td>1001.0</td>\n",
       "      <td>0.11840</td>\n",
       "      <td>0.27760</td>\n",
       "      <td>0.3001</td>\n",
       "      <td>0.14710</td>\n",
       "      <td>0.2419</td>\n",
       "      <td>0.07871</td>\n",
       "      <td>...</td>\n",
       "      <td>17.33</td>\n",
       "      <td>184.60</td>\n",
       "      <td>2019.0</td>\n",
       "      <td>0.1622</td>\n",
       "      <td>0.6656</td>\n",
       "      <td>0.7119</td>\n",
       "      <td>0.2654</td>\n",
       "      <td>0.4601</td>\n",
       "      <td>0.11890</td>\n",
       "      <td>0</td>\n",
       "    </tr>\n",
       "    <tr>\n",
       "      <th>1</th>\n",
       "      <td>20.57</td>\n",
       "      <td>17.77</td>\n",
       "      <td>132.90</td>\n",
       "      <td>1326.0</td>\n",
       "      <td>0.08474</td>\n",
       "      <td>0.07864</td>\n",
       "      <td>0.0869</td>\n",
       "      <td>0.07017</td>\n",
       "      <td>0.1812</td>\n",
       "      <td>0.05667</td>\n",
       "      <td>...</td>\n",
       "      <td>23.41</td>\n",
       "      <td>158.80</td>\n",
       "      <td>1956.0</td>\n",
       "      <td>0.1238</td>\n",
       "      <td>0.1866</td>\n",
       "      <td>0.2416</td>\n",
       "      <td>0.1860</td>\n",
       "      <td>0.2750</td>\n",
       "      <td>0.08902</td>\n",
       "      <td>0</td>\n",
       "    </tr>\n",
       "    <tr>\n",
       "      <th>2</th>\n",
       "      <td>19.69</td>\n",
       "      <td>21.25</td>\n",
       "      <td>130.00</td>\n",
       "      <td>1203.0</td>\n",
       "      <td>0.10960</td>\n",
       "      <td>0.15990</td>\n",
       "      <td>0.1974</td>\n",
       "      <td>0.12790</td>\n",
       "      <td>0.2069</td>\n",
       "      <td>0.05999</td>\n",
       "      <td>...</td>\n",
       "      <td>25.53</td>\n",
       "      <td>152.50</td>\n",
       "      <td>1709.0</td>\n",
       "      <td>0.1444</td>\n",
       "      <td>0.4245</td>\n",
       "      <td>0.4504</td>\n",
       "      <td>0.2430</td>\n",
       "      <td>0.3613</td>\n",
       "      <td>0.08758</td>\n",
       "      <td>0</td>\n",
       "    </tr>\n",
       "    <tr>\n",
       "      <th>3</th>\n",
       "      <td>11.42</td>\n",
       "      <td>20.38</td>\n",
       "      <td>77.58</td>\n",
       "      <td>386.1</td>\n",
       "      <td>0.14250</td>\n",
       "      <td>0.28390</td>\n",
       "      <td>0.2414</td>\n",
       "      <td>0.10520</td>\n",
       "      <td>0.2597</td>\n",
       "      <td>0.09744</td>\n",
       "      <td>...</td>\n",
       "      <td>26.50</td>\n",
       "      <td>98.87</td>\n",
       "      <td>567.7</td>\n",
       "      <td>0.2098</td>\n",
       "      <td>0.8663</td>\n",
       "      <td>0.6869</td>\n",
       "      <td>0.2575</td>\n",
       "      <td>0.6638</td>\n",
       "      <td>0.17300</td>\n",
       "      <td>0</td>\n",
       "    </tr>\n",
       "    <tr>\n",
       "      <th>4</th>\n",
       "      <td>20.29</td>\n",
       "      <td>14.34</td>\n",
       "      <td>135.10</td>\n",
       "      <td>1297.0</td>\n",
       "      <td>0.10030</td>\n",
       "      <td>0.13280</td>\n",
       "      <td>0.1980</td>\n",
       "      <td>0.10430</td>\n",
       "      <td>0.1809</td>\n",
       "      <td>0.05883</td>\n",
       "      <td>...</td>\n",
       "      <td>16.67</td>\n",
       "      <td>152.20</td>\n",
       "      <td>1575.0</td>\n",
       "      <td>0.1374</td>\n",
       "      <td>0.2050</td>\n",
       "      <td>0.4000</td>\n",
       "      <td>0.1625</td>\n",
       "      <td>0.2364</td>\n",
       "      <td>0.07678</td>\n",
       "      <td>0</td>\n",
       "    </tr>\n",
       "  </tbody>\n",
       "</table>\n",
       "<p>5 rows × 31 columns</p>\n",
       "</div>"
      ],
      "text/plain": [
       "   mean_radius  mean_texture  mean_perimeter  mean_area  mean_smoothness  \\\n",
       "0        17.99         10.38          122.80     1001.0          0.11840   \n",
       "1        20.57         17.77          132.90     1326.0          0.08474   \n",
       "2        19.69         21.25          130.00     1203.0          0.10960   \n",
       "3        11.42         20.38           77.58      386.1          0.14250   \n",
       "4        20.29         14.34          135.10     1297.0          0.10030   \n",
       "\n",
       "   mean_compactness  mean_concavity  mean_concave_points  mean_symmetry  \\\n",
       "0           0.27760          0.3001              0.14710         0.2419   \n",
       "1           0.07864          0.0869              0.07017         0.1812   \n",
       "2           0.15990          0.1974              0.12790         0.2069   \n",
       "3           0.28390          0.2414              0.10520         0.2597   \n",
       "4           0.13280          0.1980              0.10430         0.1809   \n",
       "\n",
       "   mean_fractal_dimension  ...  worst_texture  worst_perimeter  worst_area  \\\n",
       "0                 0.07871  ...          17.33           184.60      2019.0   \n",
       "1                 0.05667  ...          23.41           158.80      1956.0   \n",
       "2                 0.05999  ...          25.53           152.50      1709.0   \n",
       "3                 0.09744  ...          26.50            98.87       567.7   \n",
       "4                 0.05883  ...          16.67           152.20      1575.0   \n",
       "\n",
       "   worst_smoothness  worst_compactness  worst_concavity  worst_concave_points  \\\n",
       "0            0.1622             0.6656           0.7119                0.2654   \n",
       "1            0.1238             0.1866           0.2416                0.1860   \n",
       "2            0.1444             0.4245           0.4504                0.2430   \n",
       "3            0.2098             0.8663           0.6869                0.2575   \n",
       "4            0.1374             0.2050           0.4000                0.1625   \n",
       "\n",
       "   worst_symmetry  worst_fractal_dimension  target  \n",
       "0          0.4601                  0.11890       0  \n",
       "1          0.2750                  0.08902       0  \n",
       "2          0.3613                  0.08758       0  \n",
       "3          0.6638                  0.17300       0  \n",
       "4          0.2364                  0.07678       0  \n",
       "\n",
       "[5 rows x 31 columns]"
      ]
     },
     "execution_count": 62,
     "metadata": {},
     "output_type": "execute_result"
    }
   ],
   "source": [
    "breast_df.head()"
   ]
  },
  {
   "cell_type": "code",
   "execution_count": 64,
   "id": "a8560201",
   "metadata": {},
   "outputs": [
    {
     "data": {
      "text/plain": [
       "1    357\n",
       "0    212\n",
       "Name: target, dtype: int64"
      ]
     },
     "execution_count": 64,
     "metadata": {},
     "output_type": "execute_result"
    }
   ],
   "source": [
    "# label 데이터 비율 확인 \n",
    "breast_df['target'].value_counts()"
   ]
  },
  {
   "cell_type": "code",
   "execution_count": 65,
   "id": "1f46fc1a",
   "metadata": {},
   "outputs": [],
   "source": [
    "## 학습 데이터 셋 생성 \n",
    "\n",
    "# 평균관련 된 3개의 속성으로 종양 여부 판단 \n",
    "breast_feature = ['mean_radius', 'mean_texture', 'mean_perimeter' ]\n",
    "\n",
    "X = breast_df[breast_feature] # 독립변수 \n",
    "\n",
    "Y = breast_df['target']\n",
    "\n",
    "## 표준점수로 데이터 스케일링\n",
    "\n",
    "scaler = StandardScaler()\n",
    "train_scaled = scaler.fit_transform(X)\n",
    "\n",
    "# 80%의 데이터를 학습 데이터로, 20%를 테스트 데이터 \n",
    "X_train, X_test, y_train, y_test = train_test_split(train_scaled, \n",
    "                                                    Y, \n",
    "                                                    test_size = 0.2, \n",
    "                                                    random_state = 20) "
   ]
  },
  {
   "cell_type": "code",
   "execution_count": 66,
   "id": "185a1bb6",
   "metadata": {},
   "outputs": [
    {
     "data": {
      "text/plain": [
       "array([[-1.34347001,  0.55625084, -1.32710844],\n",
       "       [ 3.77531785,  1.62437465,  3.91022552],\n",
       "       [-0.1270372 , -0.68873007, -0.17337093],\n",
       "       ...,\n",
       "       [-0.80583113, -1.45433516, -0.81305474],\n",
       "       [-0.92227695, -0.85395184, -0.8880209 ],\n",
       "       [-0.4451331 , -0.05111368, -0.4139217 ]])"
      ]
     },
     "execution_count": 66,
     "metadata": {},
     "output_type": "execute_result"
    }
   ],
   "source": [
    "X_train"
   ]
  },
  {
   "cell_type": "code",
   "execution_count": 67,
   "id": "eb8a318f",
   "metadata": {},
   "outputs": [
    {
     "name": "stdout",
     "output_type": "stream",
     "text": [
      "accuracy: 0.9035087719298246\n",
      "oob score 0.8901098901098901\n"
     ]
    }
   ],
   "source": [
    "## 기본적인 randomforest모형\n",
    "from sklearn.ensemble import RandomForestClassifier\n",
    "from sklearn.metrics import accuracy_score # 정확도 함수\n",
    "\n",
    "rf_clf = RandomForestClassifier(random_state=20, oob_score = True)\n",
    "rf_clf.fit(X_train,y_train)\n",
    "\n",
    "predict1 = rf_clf.predict(X_test)\n",
    "print(\"accuracy:\", accuracy_score(y_test, predict1))\n",
    "\n",
    "print(\"oob score\", rf_clf.oob_score_) # oob score "
   ]
  },
  {
   "cell_type": "code",
   "execution_count": 68,
   "id": "22d90728",
   "metadata": {},
   "outputs": [
    {
     "name": "stdout",
     "output_type": "stream",
     "text": [
      "accuracy: 0.9210526315789473\n",
      "oob score 0.8747252747252747\n"
     ]
    }
   ],
   "source": [
    "# Random Forest Tree 깊이 증가\n",
    "\n",
    "# 트리 구성 : 200개, 트리 깊이 : 100(max_depth)\n",
    "rf_clf_2 = RandomForestClassifier(n_estimators=200, max_depth=2,random_state=20, oob_score = True)\n",
    "rf_clf_2.fit(X_train,y_train)\n",
    "\n",
    "predict2 = rf_clf_2.predict(X_test)\n",
    "print(\"accuracy:\", accuracy_score(y_test,predict2))\n",
    "\n",
    "print(\"oob score\", rf_clf_2.oob_score_) # oob score (트리 다양성 증가 -> 감소 )"
   ]
  },
  {
   "cell_type": "code",
   "execution_count": 69,
   "id": "812dee19",
   "metadata": {},
   "outputs": [
    {
     "name": "stdout",
     "output_type": "stream",
     "text": [
      "[[-0.97055937  0.25605918 -0.92550398]\n",
      " [ 0.42111019  0.0210254   0.33079712]\n",
      " [ 1.27883307  1.35443486  1.35231409]\n",
      " [-0.60418105  2.08047981 -0.62605123]]\n",
      "실제 정답 [1 0 0 1]\n"
     ]
    },
    {
     "data": {
      "text/plain": [
       "array([1, 0, 0, 1])"
      ]
     },
     "execution_count": 69,
     "metadata": {},
     "output_type": "execute_result"
    }
   ],
   "source": [
    "## 예측 대상 \n",
    "print(X_test[:4])\n",
    "\n",
    "## 예측 대상의 정답 \n",
    "print(\"실제 정답\", np.array(y_test[:4]))\n",
    "\n",
    "## 예측 결과 \n",
    "predict2[:4]"
   ]
  },
  {
   "cell_type": "code",
   "execution_count": 70,
   "id": "bfbc54b9",
   "metadata": {},
   "outputs": [
    {
     "data": {
      "image/png": "[encoded data removed]",
      "text/plain": [
       "<Figure size 576x432 with 1 Axes>"
      ]
     },
     "metadata": {},
     "output_type": "display_data"
    }
   ],
   "source": [
    "## 변수 중요도 시각화 \n",
    "    \n",
    "ftr_impo_val_clf2 = rf_clf_2.feature_importances_\n",
    "\n",
    "ftr_importa_visual = pd.Series(ftr_impo_val_clf2, index=breast_feature)\n",
    "\n",
    "ftr_top = ftr_importa_visual.sort_values(ascending=False)\n",
    " \n",
    "plt.figure(figsize=(8, 6))\n",
    "sns.barplot(x=ftr_top, y=ftr_top.index)\n",
    "plt.show()\n"
   ]
  },
  {
   "cell_type": "code",
   "execution_count": null,
   "id": "f85c8f76",
   "metadata": {},
   "outputs": [],
   "source": []
  }
 ],
 "metadata": {
  "kernelspec": {
   "display_name": "Python 3 (ipykernel)",
   "language": "python",
   "name": "python3"
  },
  "language_info": {
   "codemirror_mode": {
    "name": "ipython",
    "version": 3
   },
   "file_extension": ".py",
   "mimetype": "text/x-python",
   "name": "python",
   "nbconvert_exporter": "python",
   "pygments_lexer": "ipython3",
   "version": "3.9.12"
  }
 },
 "nbformat": 4,
 "nbformat_minor": 5
}
